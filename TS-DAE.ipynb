{
 "cells": [
  {
   "cell_type": "code",
   "execution_count": 1,
   "id": "7d9851c8-e820-4dba-bd80-4d5ab79a639a",
   "metadata": {},
   "outputs": [],
   "source": [
    "from keras.models import Model \n",
    "from keras.layers import Input, Convolution2D, MaxPooling2D, Dense, Dropout, Flatten, Dense, Dropout, Flatten, Conv2D, MaxPooling2D\n",
    "import np_utils\n",
    "import numpy as np\n",
    "import pandas as pd\n",
    "from keras.callbacks import EarlyStopping\n",
    "from keras.models import Sequential\n",
    "from keras.optimizers import Adam\n",
    "from keras.utils import to_categorical\n",
    "from sklearn.preprocessing import StandardScaler\n",
    "import os\n",
    "import datetime\n",
    "from sklearn.model_selection import train_test_split"
   ]
  },
  {
   "cell_type": "code",
   "execution_count": 2,
   "id": "8a5e1317-4acd-4550-9203-a12a42bb82c3",
   "metadata": {},
   "outputs": [],
   "source": [
    "poor = pd.read_csv(\"C:/Users/met48/Desktop/TS-Clustering/SimData/bank_reserves_outputs_poor.csv\", header=None)\n",
    "middle = pd.read_csv(\"C:/Users/met48/Desktop/TS-Clustering/SimData/bank_reserves_outputs_middle.csv\", header=None)\n",
    "rich = pd.read_csv(\"C:/Users/met48/Desktop/TS-Clustering/SimData/bank_reserves_outputs_rich.csv\", header=None)\n",
    "sc = StandardScaler()\n",
    "bank_reserves = []\n",
    "for i in np.arange(0, poor.shape[0]):\n",
    "    sample = pd.concat([poor.iloc[i], middle.iloc[i]], axis=0).T\n",
    "    sample = pd.concat([sample, rich.iloc[i]], axis=0).T\n",
    "    sample_std = sc.fit_transform(sample.to_frame())\n",
    "    bank_reserves.append(sample_std)"
   ]
  },
  {
   "cell_type": "code",
   "execution_count": 3,
   "id": "761e957a-e93e-4aff-ab92-b174e045bfaa",
   "metadata": {},
   "outputs": [],
   "source": [
    "bank_reserves = [sample.flatten() for sample in bank_reserves]"
   ]
  },
  {
   "cell_type": "code",
   "execution_count": 4,
   "id": "b4264c54-5407-4e1d-8a8a-e29ca3a05368",
   "metadata": {},
   "outputs": [],
   "source": [
    "bank_reserves = np.asarray(bank_reserves)"
   ]
  },
  {
   "cell_type": "code",
   "execution_count": 5,
   "id": "04739c75-42a5-4534-8ee5-5e4be99c0099",
   "metadata": {},
   "outputs": [
    {
     "data": {
      "text/plain": [
       "array([[-1.36670362, -1.36670362, -1.36670362, ..., -0.18244118,\n",
       "        -0.15706413, -0.12322806],\n",
       "       [-1.31428663, -1.31428663, -1.31428663, ..., -0.14173205,\n",
       "        -0.11730383, -0.10101835],\n",
       "       [-1.07779326, -1.07779326, -1.07779326, ..., -0.27756778,\n",
       "        -0.29079465, -0.22466031],\n",
       "       ...,\n",
       "       [-2.12830655, -2.12830655, -2.12830655, ...,  0.14970836,\n",
       "         0.13646409,  0.10997555],\n",
       "       [-1.76787358, -1.76787358, -1.76787358, ..., -0.11811475,\n",
       "        -0.05212439,  0.06885792],\n",
       "       [-1.62916518, -1.62916518, -1.62916518, ..., -0.09220556,\n",
       "        -0.08209399, -0.15287502]])"
      ]
     },
     "execution_count": 5,
     "metadata": {},
     "output_type": "execute_result"
    }
   ],
   "source": [
    "bank_reserves"
   ]
  },
  {
   "cell_type": "code",
   "execution_count": 6,
   "id": "3d8a54aa-77ce-40e3-bc4b-ddc672958c89",
   "metadata": {},
   "outputs": [
    {
     "data": {
      "text/plain": [
       "(100000, 303)"
      ]
     },
     "execution_count": 6,
     "metadata": {},
     "output_type": "execute_result"
    }
   ],
   "source": [
    "bank_reserves.shape"
   ]
  },
  {
   "cell_type": "code",
   "execution_count": 7,
   "id": "e268afef-8dba-4689-a0e8-3b6367ee3de3",
   "metadata": {},
   "outputs": [],
   "source": [
    "bank_reserves_train, bank_reserves_test = train_test_split(bank_reserves, test_size=0.20, random_state=42)"
   ]
  },
  {
   "cell_type": "code",
   "execution_count": 8,
   "id": "b9c3ebc3-ccc0-42ae-9827-473d303c83f8",
   "metadata": {},
   "outputs": [
    {
     "data": {
      "text/html": [
       "<pre style=\"white-space:pre;overflow-x:auto;line-height:normal;font-family:Menlo,'DejaVu Sans Mono',consolas,'Courier New',monospace\"><span style=\"font-weight: bold\">Model: \"functional\"</span>\n",
       "</pre>\n"
      ],
      "text/plain": [
       "\u001b[1mModel: \"functional\"\u001b[0m\n"
      ]
     },
     "metadata": {},
     "output_type": "display_data"
    },
    {
     "data": {
      "text/html": [
       "<pre style=\"white-space:pre;overflow-x:auto;line-height:normal;font-family:Menlo,'DejaVu Sans Mono',consolas,'Courier New',monospace\">┏━━━━━━━━━━━━━━━━━━━━━━━━━━━━━━━━━┳━━━━━━━━━━━━━━━━━━━━━━━━┳━━━━━━━━━━━━━━━┓\n",
       "┃<span style=\"font-weight: bold\"> Layer (type)                    </span>┃<span style=\"font-weight: bold\"> Output Shape           </span>┃<span style=\"font-weight: bold\">       Param # </span>┃\n",
       "┡━━━━━━━━━━━━━━━━━━━━━━━━━━━━━━━━━╇━━━━━━━━━━━━━━━━━━━━━━━━╇━━━━━━━━━━━━━━━┩\n",
       "│ input_layer (<span style=\"color: #0087ff; text-decoration-color: #0087ff\">InputLayer</span>)        │ (<span style=\"color: #00d7ff; text-decoration-color: #00d7ff\">None</span>, <span style=\"color: #00af00; text-decoration-color: #00af00\">303</span>)            │             <span style=\"color: #00af00; text-decoration-color: #00af00\">0</span> │\n",
       "├─────────────────────────────────┼────────────────────────┼───────────────┤\n",
       "│ dense (<span style=\"color: #0087ff; text-decoration-color: #0087ff\">Dense</span>)                   │ (<span style=\"color: #00d7ff; text-decoration-color: #00d7ff\">None</span>, <span style=\"color: #00af00; text-decoration-color: #00af00\">30</span>)             │         <span style=\"color: #00af00; text-decoration-color: #00af00\">9,120</span> │\n",
       "├─────────────────────────────────┼────────────────────────┼───────────────┤\n",
       "│ dense_1 (<span style=\"color: #0087ff; text-decoration-color: #0087ff\">Dense</span>)                 │ (<span style=\"color: #00d7ff; text-decoration-color: #00d7ff\">None</span>, <span style=\"color: #00af00; text-decoration-color: #00af00\">20</span>)             │           <span style=\"color: #00af00; text-decoration-color: #00af00\">620</span> │\n",
       "├─────────────────────────────────┼────────────────────────┼───────────────┤\n",
       "│ dense_2 (<span style=\"color: #0087ff; text-decoration-color: #0087ff\">Dense</span>)                 │ (<span style=\"color: #00d7ff; text-decoration-color: #00d7ff\">None</span>, <span style=\"color: #00af00; text-decoration-color: #00af00\">10</span>)             │           <span style=\"color: #00af00; text-decoration-color: #00af00\">210</span> │\n",
       "├─────────────────────────────────┼────────────────────────┼───────────────┤\n",
       "│ dense_3 (<span style=\"color: #0087ff; text-decoration-color: #0087ff\">Dense</span>)                 │ (<span style=\"color: #00d7ff; text-decoration-color: #00d7ff\">None</span>, <span style=\"color: #00af00; text-decoration-color: #00af00\">5</span>)              │            <span style=\"color: #00af00; text-decoration-color: #00af00\">55</span> │\n",
       "├─────────────────────────────────┼────────────────────────┼───────────────┤\n",
       "│ dense_4 (<span style=\"color: #0087ff; text-decoration-color: #0087ff\">Dense</span>)                 │ (<span style=\"color: #00d7ff; text-decoration-color: #00d7ff\">None</span>, <span style=\"color: #00af00; text-decoration-color: #00af00\">10</span>)             │            <span style=\"color: #00af00; text-decoration-color: #00af00\">60</span> │\n",
       "├─────────────────────────────────┼────────────────────────┼───────────────┤\n",
       "│ dense_5 (<span style=\"color: #0087ff; text-decoration-color: #0087ff\">Dense</span>)                 │ (<span style=\"color: #00d7ff; text-decoration-color: #00d7ff\">None</span>, <span style=\"color: #00af00; text-decoration-color: #00af00\">20</span>)             │           <span style=\"color: #00af00; text-decoration-color: #00af00\">220</span> │\n",
       "├─────────────────────────────────┼────────────────────────┼───────────────┤\n",
       "│ dense_6 (<span style=\"color: #0087ff; text-decoration-color: #0087ff\">Dense</span>)                 │ (<span style=\"color: #00d7ff; text-decoration-color: #00d7ff\">None</span>, <span style=\"color: #00af00; text-decoration-color: #00af00\">30</span>)             │           <span style=\"color: #00af00; text-decoration-color: #00af00\">630</span> │\n",
       "├─────────────────────────────────┼────────────────────────┼───────────────┤\n",
       "│ dense_7 (<span style=\"color: #0087ff; text-decoration-color: #0087ff\">Dense</span>)                 │ (<span style=\"color: #00d7ff; text-decoration-color: #00d7ff\">None</span>, <span style=\"color: #00af00; text-decoration-color: #00af00\">303</span>)            │         <span style=\"color: #00af00; text-decoration-color: #00af00\">9,393</span> │\n",
       "└─────────────────────────────────┴────────────────────────┴───────────────┘\n",
       "</pre>\n"
      ],
      "text/plain": [
       "┏━━━━━━━━━━━━━━━━━━━━━━━━━━━━━━━━━┳━━━━━━━━━━━━━━━━━━━━━━━━┳━━━━━━━━━━━━━━━┓\n",
       "┃\u001b[1m \u001b[0m\u001b[1mLayer (type)                   \u001b[0m\u001b[1m \u001b[0m┃\u001b[1m \u001b[0m\u001b[1mOutput Shape          \u001b[0m\u001b[1m \u001b[0m┃\u001b[1m \u001b[0m\u001b[1m      Param #\u001b[0m\u001b[1m \u001b[0m┃\n",
       "┡━━━━━━━━━━━━━━━━━━━━━━━━━━━━━━━━━╇━━━━━━━━━━━━━━━━━━━━━━━━╇━━━━━━━━━━━━━━━┩\n",
       "│ input_layer (\u001b[38;5;33mInputLayer\u001b[0m)        │ (\u001b[38;5;45mNone\u001b[0m, \u001b[38;5;34m303\u001b[0m)            │             \u001b[38;5;34m0\u001b[0m │\n",
       "├─────────────────────────────────┼────────────────────────┼───────────────┤\n",
       "│ dense (\u001b[38;5;33mDense\u001b[0m)                   │ (\u001b[38;5;45mNone\u001b[0m, \u001b[38;5;34m30\u001b[0m)             │         \u001b[38;5;34m9,120\u001b[0m │\n",
       "├─────────────────────────────────┼────────────────────────┼───────────────┤\n",
       "│ dense_1 (\u001b[38;5;33mDense\u001b[0m)                 │ (\u001b[38;5;45mNone\u001b[0m, \u001b[38;5;34m20\u001b[0m)             │           \u001b[38;5;34m620\u001b[0m │\n",
       "├─────────────────────────────────┼────────────────────────┼───────────────┤\n",
       "│ dense_2 (\u001b[38;5;33mDense\u001b[0m)                 │ (\u001b[38;5;45mNone\u001b[0m, \u001b[38;5;34m10\u001b[0m)             │           \u001b[38;5;34m210\u001b[0m │\n",
       "├─────────────────────────────────┼────────────────────────┼───────────────┤\n",
       "│ dense_3 (\u001b[38;5;33mDense\u001b[0m)                 │ (\u001b[38;5;45mNone\u001b[0m, \u001b[38;5;34m5\u001b[0m)              │            \u001b[38;5;34m55\u001b[0m │\n",
       "├─────────────────────────────────┼────────────────────────┼───────────────┤\n",
       "│ dense_4 (\u001b[38;5;33mDense\u001b[0m)                 │ (\u001b[38;5;45mNone\u001b[0m, \u001b[38;5;34m10\u001b[0m)             │            \u001b[38;5;34m60\u001b[0m │\n",
       "├─────────────────────────────────┼────────────────────────┼───────────────┤\n",
       "│ dense_5 (\u001b[38;5;33mDense\u001b[0m)                 │ (\u001b[38;5;45mNone\u001b[0m, \u001b[38;5;34m20\u001b[0m)             │           \u001b[38;5;34m220\u001b[0m │\n",
       "├─────────────────────────────────┼────────────────────────┼───────────────┤\n",
       "│ dense_6 (\u001b[38;5;33mDense\u001b[0m)                 │ (\u001b[38;5;45mNone\u001b[0m, \u001b[38;5;34m30\u001b[0m)             │           \u001b[38;5;34m630\u001b[0m │\n",
       "├─────────────────────────────────┼────────────────────────┼───────────────┤\n",
       "│ dense_7 (\u001b[38;5;33mDense\u001b[0m)                 │ (\u001b[38;5;45mNone\u001b[0m, \u001b[38;5;34m303\u001b[0m)            │         \u001b[38;5;34m9,393\u001b[0m │\n",
       "└─────────────────────────────────┴────────────────────────┴───────────────┘\n"
      ]
     },
     "metadata": {},
     "output_type": "display_data"
    },
    {
     "data": {
      "text/html": [
       "<pre style=\"white-space:pre;overflow-x:auto;line-height:normal;font-family:Menlo,'DejaVu Sans Mono',consolas,'Courier New',monospace\"><span style=\"font-weight: bold\"> Total params: </span><span style=\"color: #00af00; text-decoration-color: #00af00\">20,308</span> (79.33 KB)\n",
       "</pre>\n"
      ],
      "text/plain": [
       "\u001b[1m Total params: \u001b[0m\u001b[38;5;34m20,308\u001b[0m (79.33 KB)\n"
      ]
     },
     "metadata": {},
     "output_type": "display_data"
    },
    {
     "data": {
      "text/html": [
       "<pre style=\"white-space:pre;overflow-x:auto;line-height:normal;font-family:Menlo,'DejaVu Sans Mono',consolas,'Courier New',monospace\"><span style=\"font-weight: bold\"> Trainable params: </span><span style=\"color: #00af00; text-decoration-color: #00af00\">20,308</span> (79.33 KB)\n",
       "</pre>\n"
      ],
      "text/plain": [
       "\u001b[1m Trainable params: \u001b[0m\u001b[38;5;34m20,308\u001b[0m (79.33 KB)\n"
      ]
     },
     "metadata": {},
     "output_type": "display_data"
    },
    {
     "data": {
      "text/html": [
       "<pre style=\"white-space:pre;overflow-x:auto;line-height:normal;font-family:Menlo,'DejaVu Sans Mono',consolas,'Courier New',monospace\"><span style=\"font-weight: bold\"> Non-trainable params: </span><span style=\"color: #00af00; text-decoration-color: #00af00\">0</span> (0.00 B)\n",
       "</pre>\n"
      ],
      "text/plain": [
       "\u001b[1m Non-trainable params: \u001b[0m\u001b[38;5;34m0\u001b[0m (0.00 B)\n"
      ]
     },
     "metadata": {},
     "output_type": "display_data"
    }
   ],
   "source": [
    "input = Input(shape=(303,))\n",
    "\n",
    "encoded = Dense(30, activation='relu')(input)\n",
    "encoded = Dense(20, activation='relu')(encoded)\n",
    "encoded = Dense(10, activation='relu')(encoded)\n",
    "encoded = Dense(5, activation='relu')(encoded)\n",
    "\n",
    "decoded = Dense(10, activation='relu')(encoded)\n",
    "decoded = Dense(20, activation='relu')(decoded)\n",
    "decoded = Dense(30, activation='relu')(decoded)\n",
    "output = Dense(303, activation=None)(decoded)\n",
    "\n",
    "autoencoder = Model(input, output)\n",
    "autoencoder.summary()"
   ]
  },
  {
   "cell_type": "code",
   "execution_count": 9,
   "id": "aec8a75c-756a-4878-9d19-95c1a2e2e006",
   "metadata": {},
   "outputs": [],
   "source": [
    "autoencoder.compile(optimizer=Adam(learning_rate=0.001), loss='mse')"
   ]
  },
  {
   "cell_type": "code",
   "execution_count": 10,
   "id": "10638d78-649c-4a48-aec7-cd98eb1cbc39",
   "metadata": {},
   "outputs": [
    {
     "name": "stdout",
     "output_type": "stream",
     "text": [
      "Epoch 1/50\n",
      "\u001b[1m313/313\u001b[0m \u001b[32m━━━━━━━━━━━━━━━━━━━━\u001b[0m\u001b[37m\u001b[0m \u001b[1m3s\u001b[0m 2ms/step - loss: 0.3684 - val_loss: 0.0100\n",
      "Epoch 2/50\n",
      "\u001b[1m313/313\u001b[0m \u001b[32m━━━━━━━━━━━━━━━━━━━━\u001b[0m\u001b[37m\u001b[0m \u001b[1m1s\u001b[0m 2ms/step - loss: 0.0095 - val_loss: 0.0079\n",
      "Epoch 3/50\n",
      "\u001b[1m313/313\u001b[0m \u001b[32m━━━━━━━━━━━━━━━━━━━━\u001b[0m\u001b[37m\u001b[0m \u001b[1m1s\u001b[0m 2ms/step - loss: 0.0076 - val_loss: 0.0072\n",
      "Epoch 4/50\n",
      "\u001b[1m313/313\u001b[0m \u001b[32m━━━━━━━━━━━━━━━━━━━━\u001b[0m\u001b[37m\u001b[0m \u001b[1m1s\u001b[0m 2ms/step - loss: 0.0071 - val_loss: 0.0065\n",
      "Epoch 5/50\n",
      "\u001b[1m313/313\u001b[0m \u001b[32m━━━━━━━━━━━━━━━━━━━━\u001b[0m\u001b[37m\u001b[0m \u001b[1m1s\u001b[0m 2ms/step - loss: 0.0063 - val_loss: 0.0060\n",
      "Epoch 6/50\n",
      "\u001b[1m313/313\u001b[0m \u001b[32m━━━━━━━━━━━━━━━━━━━━\u001b[0m\u001b[37m\u001b[0m \u001b[1m1s\u001b[0m 2ms/step - loss: 0.0060 - val_loss: 0.0059\n",
      "Epoch 7/50\n",
      "\u001b[1m313/313\u001b[0m \u001b[32m━━━━━━━━━━━━━━━━━━━━\u001b[0m\u001b[37m\u001b[0m \u001b[1m1s\u001b[0m 2ms/step - loss: 0.0059 - val_loss: 0.0058\n",
      "Epoch 8/50\n",
      "\u001b[1m313/313\u001b[0m \u001b[32m━━━━━━━━━━━━━━━━━━━━\u001b[0m\u001b[37m\u001b[0m \u001b[1m1s\u001b[0m 2ms/step - loss: 0.0058 - val_loss: 0.0057\n",
      "Epoch 9/50\n",
      "\u001b[1m313/313\u001b[0m \u001b[32m━━━━━━━━━━━━━━━━━━━━\u001b[0m\u001b[37m\u001b[0m \u001b[1m1s\u001b[0m 2ms/step - loss: 0.0057 - val_loss: 0.0056\n",
      "Epoch 10/50\n",
      "\u001b[1m313/313\u001b[0m \u001b[32m━━━━━━━━━━━━━━━━━━━━\u001b[0m\u001b[37m\u001b[0m \u001b[1m1s\u001b[0m 2ms/step - loss: 0.0056 - val_loss: 0.0054\n",
      "Epoch 11/50\n",
      "\u001b[1m313/313\u001b[0m \u001b[32m━━━━━━━━━━━━━━━━━━━━\u001b[0m\u001b[37m\u001b[0m \u001b[1m1s\u001b[0m 2ms/step - loss: 0.0053 - val_loss: 0.0051\n",
      "Epoch 12/50\n",
      "\u001b[1m313/313\u001b[0m \u001b[32m━━━━━━━━━━━━━━━━━━━━\u001b[0m\u001b[37m\u001b[0m \u001b[1m1s\u001b[0m 2ms/step - loss: 0.0051 - val_loss: 0.0050\n",
      "Epoch 13/50\n",
      "\u001b[1m313/313\u001b[0m \u001b[32m━━━━━━━━━━━━━━━━━━━━\u001b[0m\u001b[37m\u001b[0m \u001b[1m1s\u001b[0m 2ms/step - loss: 0.0050 - val_loss: 0.0050\n",
      "Epoch 14/50\n",
      "\u001b[1m313/313\u001b[0m \u001b[32m━━━━━━━━━━━━━━━━━━━━\u001b[0m\u001b[37m\u001b[0m \u001b[1m1s\u001b[0m 2ms/step - loss: 0.0050 - val_loss: 0.0050\n",
      "Epoch 15/50\n",
      "\u001b[1m313/313\u001b[0m \u001b[32m━━━━━━━━━━━━━━━━━━━━\u001b[0m\u001b[37m\u001b[0m \u001b[1m1s\u001b[0m 2ms/step - loss: 0.0050 - val_loss: 0.0050\n",
      "Epoch 16/50\n",
      "\u001b[1m313/313\u001b[0m \u001b[32m━━━━━━━━━━━━━━━━━━━━\u001b[0m\u001b[37m\u001b[0m \u001b[1m1s\u001b[0m 2ms/step - loss: 0.0050 - val_loss: 0.0050\n",
      "Epoch 17/50\n",
      "\u001b[1m313/313\u001b[0m \u001b[32m━━━━━━━━━━━━━━━━━━━━\u001b[0m\u001b[37m\u001b[0m \u001b[1m1s\u001b[0m 2ms/step - loss: 0.0050 - val_loss: 0.0050\n",
      "Epoch 18/50\n",
      "\u001b[1m313/313\u001b[0m \u001b[32m━━━━━━━━━━━━━━━━━━━━\u001b[0m\u001b[37m\u001b[0m \u001b[1m1s\u001b[0m 2ms/step - loss: 0.0050 - val_loss: 0.0050\n",
      "Epoch 19/50\n",
      "\u001b[1m313/313\u001b[0m \u001b[32m━━━━━━━━━━━━━━━━━━━━\u001b[0m\u001b[37m\u001b[0m \u001b[1m1s\u001b[0m 2ms/step - loss: 0.0050 - val_loss: 0.0050\n",
      "Epoch 20/50\n",
      "\u001b[1m313/313\u001b[0m \u001b[32m━━━━━━━━━━━━━━━━━━━━\u001b[0m\u001b[37m\u001b[0m \u001b[1m1s\u001b[0m 2ms/step - loss: 0.0050 - val_loss: 0.0050\n",
      "Epoch 21/50\n",
      "\u001b[1m313/313\u001b[0m \u001b[32m━━━━━━━━━━━━━━━━━━━━\u001b[0m\u001b[37m\u001b[0m \u001b[1m1s\u001b[0m 2ms/step - loss: 0.0050 - val_loss: 0.0049\n",
      "Epoch 22/50\n",
      "\u001b[1m313/313\u001b[0m \u001b[32m━━━━━━━━━━━━━━━━━━━━\u001b[0m\u001b[37m\u001b[0m \u001b[1m1s\u001b[0m 2ms/step - loss: 0.0050 - val_loss: 0.0050\n",
      "Epoch 23/50\n",
      "\u001b[1m313/313\u001b[0m \u001b[32m━━━━━━━━━━━━━━━━━━━━\u001b[0m\u001b[37m\u001b[0m \u001b[1m1s\u001b[0m 2ms/step - loss: 0.0050 - val_loss: 0.0050\n",
      "Epoch 24/50\n",
      "\u001b[1m313/313\u001b[0m \u001b[32m━━━━━━━━━━━━━━━━━━━━\u001b[0m\u001b[37m\u001b[0m \u001b[1m1s\u001b[0m 2ms/step - loss: 0.0050 - val_loss: 0.0049\n",
      "Epoch 25/50\n",
      "\u001b[1m313/313\u001b[0m \u001b[32m━━━━━━━━━━━━━━━━━━━━\u001b[0m\u001b[37m\u001b[0m \u001b[1m1s\u001b[0m 2ms/step - loss: 0.0049 - val_loss: 0.0049\n",
      "Epoch 26/50\n",
      "\u001b[1m313/313\u001b[0m \u001b[32m━━━━━━━━━━━━━━━━━━━━\u001b[0m\u001b[37m\u001b[0m \u001b[1m1s\u001b[0m 2ms/step - loss: 0.0049 - val_loss: 0.0049\n",
      "Epoch 27/50\n",
      "\u001b[1m313/313\u001b[0m \u001b[32m━━━━━━━━━━━━━━━━━━━━\u001b[0m\u001b[37m\u001b[0m \u001b[1m1s\u001b[0m 2ms/step - loss: 0.0049 - val_loss: 0.0049\n",
      "Epoch 28/50\n",
      "\u001b[1m313/313\u001b[0m \u001b[32m━━━━━━━━━━━━━━━━━━━━\u001b[0m\u001b[37m\u001b[0m \u001b[1m1s\u001b[0m 2ms/step - loss: 0.0049 - val_loss: 0.0049\n",
      "Epoch 29/50\n",
      "\u001b[1m313/313\u001b[0m \u001b[32m━━━━━━━━━━━━━━━━━━━━\u001b[0m\u001b[37m\u001b[0m \u001b[1m1s\u001b[0m 2ms/step - loss: 0.0049 - val_loss: 0.0049\n",
      "Epoch 30/50\n",
      "\u001b[1m313/313\u001b[0m \u001b[32m━━━━━━━━━━━━━━━━━━━━\u001b[0m\u001b[37m\u001b[0m \u001b[1m1s\u001b[0m 2ms/step - loss: 0.0049 - val_loss: 0.0049\n",
      "Epoch 31/50\n",
      "\u001b[1m313/313\u001b[0m \u001b[32m━━━━━━━━━━━━━━━━━━━━\u001b[0m\u001b[37m\u001b[0m \u001b[1m1s\u001b[0m 2ms/step - loss: 0.0049 - val_loss: 0.0049\n",
      "Epoch 32/50\n",
      "\u001b[1m313/313\u001b[0m \u001b[32m━━━━━━━━━━━━━━━━━━━━\u001b[0m\u001b[37m\u001b[0m \u001b[1m1s\u001b[0m 2ms/step - loss: 0.0049 - val_loss: 0.0049\n",
      "Epoch 33/50\n",
      "\u001b[1m313/313\u001b[0m \u001b[32m━━━━━━━━━━━━━━━━━━━━\u001b[0m\u001b[37m\u001b[0m \u001b[1m1s\u001b[0m 2ms/step - loss: 0.0049 - val_loss: 0.0049\n",
      "Epoch 34/50\n",
      "\u001b[1m313/313\u001b[0m \u001b[32m━━━━━━━━━━━━━━━━━━━━\u001b[0m\u001b[37m\u001b[0m \u001b[1m1s\u001b[0m 2ms/step - loss: 0.0049 - val_loss: 0.0049\n",
      "Epoch 35/50\n",
      "\u001b[1m313/313\u001b[0m \u001b[32m━━━━━━━━━━━━━━━━━━━━\u001b[0m\u001b[37m\u001b[0m \u001b[1m1s\u001b[0m 2ms/step - loss: 0.0049 - val_loss: 0.0049\n",
      "Epoch 36/50\n",
      "\u001b[1m313/313\u001b[0m \u001b[32m━━━━━━━━━━━━━━━━━━━━\u001b[0m\u001b[37m\u001b[0m \u001b[1m1s\u001b[0m 2ms/step - loss: 0.0049 - val_loss: 0.0048\n",
      "Epoch 37/50\n",
      "\u001b[1m313/313\u001b[0m \u001b[32m━━━━━━━━━━━━━━━━━━━━\u001b[0m\u001b[37m\u001b[0m \u001b[1m1s\u001b[0m 2ms/step - loss: 0.0049 - val_loss: 0.0048\n",
      "Epoch 38/50\n",
      "\u001b[1m313/313\u001b[0m \u001b[32m━━━━━━━━━━━━━━━━━━━━\u001b[0m\u001b[37m\u001b[0m \u001b[1m1s\u001b[0m 2ms/step - loss: 0.0049 - val_loss: 0.0048\n",
      "Epoch 39/50\n",
      "\u001b[1m313/313\u001b[0m \u001b[32m━━━━━━━━━━━━━━━━━━━━\u001b[0m\u001b[37m\u001b[0m \u001b[1m1s\u001b[0m 2ms/step - loss: 0.0049 - val_loss: 0.0048\n",
      "Epoch 40/50\n",
      "\u001b[1m313/313\u001b[0m \u001b[32m━━━━━━━━━━━━━━━━━━━━\u001b[0m\u001b[37m\u001b[0m \u001b[1m1s\u001b[0m 2ms/step - loss: 0.0049 - val_loss: 0.0048\n",
      "Epoch 41/50\n",
      "\u001b[1m313/313\u001b[0m \u001b[32m━━━━━━━━━━━━━━━━━━━━\u001b[0m\u001b[37m\u001b[0m \u001b[1m1s\u001b[0m 2ms/step - loss: 0.0049 - val_loss: 0.0048\n",
      "Epoch 42/50\n",
      "\u001b[1m313/313\u001b[0m \u001b[32m━━━━━━━━━━━━━━━━━━━━\u001b[0m\u001b[37m\u001b[0m \u001b[1m1s\u001b[0m 2ms/step - loss: 0.0048 - val_loss: 0.0048\n",
      "Epoch 43/50\n",
      "\u001b[1m313/313\u001b[0m \u001b[32m━━━━━━━━━━━━━━━━━━━━\u001b[0m\u001b[37m\u001b[0m \u001b[1m1s\u001b[0m 2ms/step - loss: 0.0048 - val_loss: 0.0048\n",
      "Epoch 44/50\n",
      "\u001b[1m313/313\u001b[0m \u001b[32m━━━━━━━━━━━━━━━━━━━━\u001b[0m\u001b[37m\u001b[0m \u001b[1m1s\u001b[0m 2ms/step - loss: 0.0048 - val_loss: 0.0048\n",
      "Epoch 45/50\n",
      "\u001b[1m313/313\u001b[0m \u001b[32m━━━━━━━━━━━━━━━━━━━━\u001b[0m\u001b[37m\u001b[0m \u001b[1m1s\u001b[0m 2ms/step - loss: 0.0048 - val_loss: 0.0048\n",
      "Epoch 46/50\n",
      "\u001b[1m313/313\u001b[0m \u001b[32m━━━━━━━━━━━━━━━━━━━━\u001b[0m\u001b[37m\u001b[0m \u001b[1m1s\u001b[0m 2ms/step - loss: 0.0048 - val_loss: 0.0048\n",
      "Epoch 47/50\n",
      "\u001b[1m313/313\u001b[0m \u001b[32m━━━━━━━━━━━━━━━━━━━━\u001b[0m\u001b[37m\u001b[0m \u001b[1m1s\u001b[0m 2ms/step - loss: 0.0048 - val_loss: 0.0048\n",
      "Epoch 48/50\n",
      "\u001b[1m313/313\u001b[0m \u001b[32m━━━━━━━━━━━━━━━━━━━━\u001b[0m\u001b[37m\u001b[0m \u001b[1m1s\u001b[0m 2ms/step - loss: 0.0048 - val_loss: 0.0048\n",
      "Epoch 49/50\n",
      "\u001b[1m313/313\u001b[0m \u001b[32m━━━━━━━━━━━━━━━━━━━━\u001b[0m\u001b[37m\u001b[0m \u001b[1m1s\u001b[0m 2ms/step - loss: 0.0048 - val_loss: 0.0048\n",
      "Epoch 50/50\n",
      "\u001b[1m313/313\u001b[0m \u001b[32m━━━━━━━━━━━━━━━━━━━━\u001b[0m\u001b[37m\u001b[0m \u001b[1m1s\u001b[0m 2ms/step - loss: 0.0048 - val_loss: 0.0048\n"
     ]
    },
    {
     "data": {
      "text/plain": [
       "<keras.src.callbacks.history.History at 0x2cdbd8f5c10>"
      ]
     },
     "execution_count": 10,
     "metadata": {},
     "output_type": "execute_result"
    }
   ],
   "source": [
    "autoencoder.fit(bank_reserves_train, bank_reserves_train,\n",
    " epochs=20,\n",
    " batch_size=256,\n",
    " shuffle=True,\n",
    " validation_data=(bank_reserves_test, bank_reserves_test))"
   ]
  },
  {
   "cell_type": "code",
   "execution_count": 11,
   "id": "b3bd631f-f870-4d32-b368-2c6ceb25ab04",
   "metadata": {},
   "outputs": [
    {
     "name": "stdout",
     "output_type": "stream",
     "text": [
      "\u001b[1m625/625\u001b[0m \u001b[32m━━━━━━━━━━━━━━━━━━━━\u001b[0m\u001b[37m\u001b[0m \u001b[1m0s\u001b[0m 612us/step\n"
     ]
    }
   ],
   "source": [
    "encoder = Model(inputs=autoencoder.input, outputs=autoencoder.get_layer(index=4).output)\n",
    "encoded_ts = encoder.predict(bank_reserves_test)"
   ]
  },
  {
   "cell_type": "code",
   "execution_count": 12,
   "id": "ac6772c3-5d0d-46b5-9529-903e2a2901e4",
   "metadata": {},
   "outputs": [
    {
     "name": "stdout",
     "output_type": "stream",
     "text": [
      "\u001b[1m625/625\u001b[0m \u001b[32m━━━━━━━━━━━━━━━━━━━━\u001b[0m\u001b[37m\u001b[0m \u001b[1m0s\u001b[0m 632us/step\n"
     ]
    }
   ],
   "source": [
    "encoded_input = Input(shape=(5,))  # 5 is the size of your latent space\n",
    "decoded_layer = autoencoder.layers[5](encoded_input)\n",
    "for layer in autoencoder.layers[6:]:\n",
    "    decoded_layer = layer(decoded_layer)\n",
    "\n",
    "decoder = Model(inputs=encoded_input, outputs=decoded_layer)\n",
    "decoded_ts = decoder.predict(encoded_ts)"
   ]
  },
  {
   "cell_type": "code",
   "execution_count": 13,
   "id": "924e2b91-00bf-40ec-91e2-643ba9a58ef8",
   "metadata": {},
   "outputs": [
    {
     "data": {
      "text/plain": [
       "array([-1.152258  , -1.149972  , -1.151139  , -1.1477269 , -1.1391687 ,\n",
       "       -1.1318135 , -1.1260916 , -1.1157244 , -1.1095328 , -1.1070526 ,\n",
       "       -1.1051044 , -1.1049978 , -1.1008574 , -1.0994409 , -1.097996  ,\n",
       "       -1.0947391 , -1.09131   , -1.0900297 , -1.0970626 , -1.0949835 ,\n",
       "       -1.0946628 , -1.0887686 , -1.0924032 , -1.092135  , -1.0897561 ,\n",
       "       -1.0929116 , -1.092159  , -1.0905619 , -1.0893824 , -1.0860204 ,\n",
       "       -1.0868268 , -1.0844616 , -1.0768942 , -1.084673  , -1.0851805 ,\n",
       "       -1.0791315 , -1.0863115 , -1.0820857 , -1.0759581 , -1.0706844 ,\n",
       "       -1.0723836 , -1.0730183 , -1.0725251 , -1.0737731 , -1.081433  ,\n",
       "       -1.0805476 , -1.0798911 , -1.081267  , -1.0824631 , -1.0781085 ,\n",
       "       -1.0759039 , -1.074195  , -1.0781646 , -1.0786783 , -1.074559  ,\n",
       "       -1.0779976 , -1.0739659 , -1.0788033 , -1.0826796 , -1.0781418 ,\n",
       "       -1.073845  , -1.0848088 , -1.0798458 , -1.0783339 , -1.0719131 ,\n",
       "       -1.0769876 , -1.0763143 , -1.0757017 , -1.0824742 , -1.0755134 ,\n",
       "       -1.0813026 , -1.0736711 , -1.072051  , -1.0667636 , -1.0714786 ,\n",
       "       -1.078616  , -1.0740964 , -1.0795722 , -1.0750567 , -1.0797167 ,\n",
       "       -1.0796322 , -1.0800128 , -1.0775182 , -1.0748893 , -1.077713  ,\n",
       "       -1.0827073 , -1.0809153 , -1.0779663 , -1.0761249 , -1.074824  ,\n",
       "       -1.0758674 , -1.0744241 , -1.0753925 , -1.0797522 , -1.0778662 ,\n",
       "       -1.0804795 , -1.0733528 , -1.0696642 , -1.072457  , -1.0701318 ,\n",
       "       -1.0702314 ,  2.39411   ,  1.8088354 ,  1.6821035 ,  1.5661646 ,\n",
       "        1.4903762 ,  1.4185303 ,  1.3688719 ,  1.3288754 ,  1.298516  ,\n",
       "        1.2798982 ,  1.2731475 ,  1.2600261 ,  1.248526  ,  1.245907  ,\n",
       "        1.238028  ,  1.2331519 ,  1.2341659 ,  1.2376461 ,  1.2418542 ,\n",
       "        1.2428544 ,  1.2403144 ,  1.2425313 ,  1.2504869 ,  1.2475346 ,\n",
       "        1.2482415 ,  1.252115  ,  1.2554053 ,  1.2485266 ,  1.2536342 ,\n",
       "        1.2524655 ,  1.2588854 ,  1.2491108 ,  1.2468449 ,  1.2559329 ,\n",
       "        1.2618428 ,  1.2644877 ,  1.2786882 ,  1.2819126 ,  1.2677585 ,\n",
       "        1.2633599 ,  1.2649617 ,  1.2731614 ,  1.2633562 ,  1.2639108 ,\n",
       "        1.2692096 ,  1.2734512 ,  1.2728192 ,  1.277989  ,  1.2778065 ,\n",
       "        1.2804058 ,  1.28016   ,  1.2715838 ,  1.2810959 ,  1.2856982 ,\n",
       "        1.2887102 ,  1.2904311 ,  1.2908851 ,  1.2960275 ,  1.2977757 ,\n",
       "        1.2952123 ,  1.3010814 ,  1.3032908 ,  1.3078249 ,  1.3049656 ,\n",
       "        1.3030754 ,  1.306     ,  1.3090253 ,  1.3099368 ,  1.3091342 ,\n",
       "        1.3068905 ,  1.319177  ,  1.3097345 ,  1.3095087 ,  1.3117532 ,\n",
       "        1.3170658 ,  1.3209866 ,  1.3160336 ,  1.3127048 ,  1.3176212 ,\n",
       "        1.3161063 ,  1.3175204 ,  1.3258008 ,  1.3222593 ,  1.3239558 ,\n",
       "        1.3264567 ,  1.327133  ,  1.3327672 ,  1.331633  ,  1.3317385 ,\n",
       "        1.3282654 ,  1.3356819 ,  1.3309891 ,  1.3330653 ,  1.3309246 ,\n",
       "        1.3308293 ,  1.3404841 ,  1.3360555 ,  1.3368887 ,  1.3381346 ,\n",
       "        1.3368979 ,  1.3410553 , -1.1539578 , -0.7848968 , -0.6240195 ,\n",
       "       -0.49779445, -0.41558003, -0.36147118, -0.30995122, -0.2699546 ,\n",
       "       -0.23998731, -0.22191882, -0.20514753, -0.19051328, -0.18967779,\n",
       "       -0.1838823 , -0.17191067, -0.16714168, -0.16820902, -0.16357729,\n",
       "       -0.16221364, -0.16334566, -0.16577998, -0.16596743, -0.16849229,\n",
       "       -0.16713029, -0.17019017, -0.17505331, -0.16993925, -0.16490336,\n",
       "       -0.16934025, -0.1756782 , -0.16868183, -0.1648662 , -0.15965348,\n",
       "       -0.17188293, -0.18105257, -0.18171331, -0.18349089, -0.18930142,\n",
       "       -0.18226978, -0.18283054, -0.18974188, -0.19138204, -0.18700735,\n",
       "       -0.18182418, -0.18561319, -0.18858382, -0.1925475 , -0.19681503,\n",
       "       -0.1956483 , -0.1938077 , -0.19558981, -0.18840387, -0.19444811,\n",
       "       -0.19628331, -0.20085183, -0.195959  , -0.20332013, -0.20577322,\n",
       "       -0.2000134 , -0.20195706, -0.21006274, -0.20247826, -0.20668532,\n",
       "       -0.20763431, -0.2081027 , -0.20738526, -0.21449447, -0.21315148,\n",
       "       -0.21430172, -0.21408585, -0.22020066, -0.21501532, -0.21308064,\n",
       "       -0.21377264, -0.21620685, -0.21991754, -0.22209015, -0.21810879,\n",
       "       -0.22208174, -0.22056624, -0.22203517, -0.22281578, -0.22070858,\n",
       "       -0.22361177, -0.23023851, -0.23028748, -0.23165625, -0.23829469,\n",
       "       -0.23706916, -0.23127377, -0.24006334, -0.24217016, -0.24029201,\n",
       "       -0.23905186, -0.24394876, -0.24632508, -0.24775115, -0.24846981,\n",
       "       -0.24333118, -0.2379004 , -0.2417376 ], dtype=float32)"
      ]
     },
     "execution_count": 13,
     "metadata": {},
     "output_type": "execute_result"
    }
   ],
   "source": [
    "decoded_ts[0]"
   ]
  },
  {
   "cell_type": "code",
   "execution_count": 14,
   "id": "1a4637e6-d50c-4319-8277-872bd27c40a2",
   "metadata": {},
   "outputs": [
    {
     "data": {
      "text/plain": [
       "array([-1.15390451, -1.15390451, -1.15390451, -1.14678831, -1.13255592,\n",
       "       -1.13255592, -1.13967212, -1.14678831, -1.13967212, -1.13255592,\n",
       "       -1.12543972, -1.11832352, -1.12543972, -1.13255592, -1.13967212,\n",
       "       -1.13255592, -1.12543972, -1.12543972, -1.12543972, -1.12543972,\n",
       "       -1.11832352, -1.11120732, -1.08985873, -1.07562633, -1.09697492,\n",
       "       -1.08274253, -1.08985873, -1.10409112, -1.10409112, -1.10409112,\n",
       "       -1.10409112, -1.08985873, -1.08274253, -1.06851013, -1.06139393,\n",
       "       -1.06851013, -1.08985873, -1.08274253, -1.07562633, -1.07562633,\n",
       "       -1.06851013, -1.08985873, -1.08274253, -1.07562633, -1.06851013,\n",
       "       -1.08274253, -1.07562633, -1.07562633, -1.08274253, -1.08274253,\n",
       "       -1.08274253, -1.07562633, -1.07562633, -1.06851013, -1.08274253,\n",
       "       -1.08274253, -1.08985873, -1.08985873, -1.09697492, -1.10409112,\n",
       "       -1.11120732, -1.08274253, -1.07562633, -1.08985873, -1.08274253,\n",
       "       -1.08274253, -1.08274253, -1.06851013, -1.06851013, -1.06139393,\n",
       "       -1.06851013, -1.06851013, -1.05427773, -1.05427773, -1.06139393,\n",
       "       -1.06851013, -1.06851013, -1.06851013, -1.06851013, -1.05427773,\n",
       "       -1.07562633, -1.08985873, -1.08274253, -1.08985873, -1.07562633,\n",
       "       -1.06139393, -1.06851013, -1.05427773, -1.05427773, -1.06139393,\n",
       "       -1.06851013, -1.06851013, -1.06851013, -1.06851013, -1.06139393,\n",
       "       -1.05427773, -1.05427773, -1.06851013, -1.08274253, -1.08985873,\n",
       "       -1.07562633,  2.40419476,  1.76373689,  1.69969111,  1.62852912,\n",
       "        1.42927556,  1.35811358,  1.31541639,  1.27271919,  1.29406779,\n",
       "        1.2513706 ,  1.27983539,  1.21578961,  1.2584868 ,  1.265603  ,\n",
       "        1.35811358,  1.32253258,  1.30118399,  1.32253258,  1.30830019,\n",
       "        1.27983539,  1.2442544 ,  1.2229058 ,  1.27983539,  1.16597622,\n",
       "        1.2371382 ,  1.2584868 ,  1.2584868 ,  1.2584868 ,  1.20867341,\n",
       "        1.230022  ,  1.2584868 ,  1.21578961,  1.2371382 ,  1.21578961,\n",
       "        1.2584868 ,  1.27983539,  1.27271919,  1.29406779,  1.29406779,\n",
       "        1.30118399,  1.30830019,  1.33676498,  1.2584868 ,  1.20867341,\n",
       "        1.21578961,  1.2513706 ,  1.2442544 ,  1.2371382 ,  1.28695159,\n",
       "        1.2513706 ,  1.29406779,  1.28695159,  1.2442544 ,  1.19444101,\n",
       "        1.20867341,  1.2371382 ,  1.27271919,  1.265603  ,  1.2513706 ,\n",
       "        1.27983539,  1.30118399,  1.29406779,  1.33676498,  1.35099738,\n",
       "        1.32253258,  1.30118399,  1.32253258,  1.27271919,  1.27271919,\n",
       "        1.2513706 ,  1.30118399,  1.28695159,  1.265603  ,  1.35811358,\n",
       "        1.32964878,  1.27271919,  1.29406779,  1.32253258,  1.32964878,\n",
       "        1.27271919,  1.27983539,  1.30118399,  1.31541639,  1.32964878,\n",
       "        1.37946217,  1.32964878,  1.34388118,  1.31541639,  1.29406779,\n",
       "        1.30830019,  1.35811358,  1.31541639,  1.32964878,  1.35099738,\n",
       "        1.34388118,  1.37946217,  1.37234597,  1.37234597,  1.36522978,\n",
       "        1.41504317,  1.34388118, -1.15390451, -0.7482812 , -0.68423541,\n",
       "       -0.59172483, -0.44228466, -0.27861209, -0.25726349, -0.17186911,\n",
       "       -0.16475291, -0.15763672, -0.17898531, -0.13628812, -0.2145663 ,\n",
       "       -0.17186911, -0.20745011, -0.20033391, -0.17898531, -0.19321771,\n",
       "       -0.15763672, -0.14340432, -0.10070713, -0.10782333, -0.18610151,\n",
       "       -0.10782333, -0.15052052, -0.15763672, -0.17186911, -0.14340432,\n",
       "       -0.07935853, -0.12205572, -0.15763672, -0.12917192, -0.12205572,\n",
       "       -0.12205572, -0.20033391, -0.2430311 , -0.20745011, -0.26437969,\n",
       "       -0.20745011, -0.2216825 , -0.2359149 , -0.2145663 , -0.15052052,\n",
       "       -0.13628812, -0.13628812, -0.16475291, -0.13628812, -0.12917192,\n",
       "       -0.18610151, -0.15763672, -0.19321771, -0.2287987 , -0.20033391,\n",
       "       -0.15052052, -0.16475291, -0.19321771, -0.17898531, -0.2359149 ,\n",
       "       -0.19321771, -0.20033391, -0.19321771, -0.17898531, -0.25726349,\n",
       "       -0.26437969, -0.2430311 , -0.19321771, -0.20033391, -0.17898531,\n",
       "       -0.16475291, -0.17898531, -0.2216825 , -0.2145663 , -0.20033391,\n",
       "       -0.2501473 , -0.2216825 , -0.19321771, -0.20033391, -0.2145663 ,\n",
       "       -0.2216825 , -0.19321771, -0.19321771, -0.20745011, -0.2501473 ,\n",
       "       -0.2145663 , -0.27149589, -0.2287987 , -0.2430311 , -0.25726349,\n",
       "       -0.2430311 , -0.2287987 , -0.28572829, -0.27149589, -0.27861209,\n",
       "       -0.2501473 , -0.25726349, -0.29996069, -0.26437969, -0.2430311 ,\n",
       "       -0.2145663 , -0.27861209, -0.2359149 ])"
      ]
     },
     "execution_count": 14,
     "metadata": {},
     "output_type": "execute_result"
    }
   ],
   "source": [
    "bank_reserves_test[0]"
   ]
  },
  {
   "cell_type": "code",
   "execution_count": 19,
   "id": "76d13d8c-e8b6-4988-9679-f9611e9d861a",
   "metadata": {},
   "outputs": [
    {
     "name": "stdout",
     "output_type": "stream",
     "text": [
      "\u001b[1m3125/3125\u001b[0m \u001b[32m━━━━━━━━━━━━━━━━━━━━\u001b[0m\u001b[37m\u001b[0m \u001b[1m2s\u001b[0m 582us/step\n"
     ]
    }
   ],
   "source": [
    "encoded_ts = encoder.predict(bank_reserves)"
   ]
  },
  {
   "cell_type": "code",
   "execution_count": 16,
   "id": "2482440b-b023-42ec-932a-78486f0b9cf6",
   "metadata": {},
   "outputs": [
    {
     "data": {
      "text/plain": [
       "numpy.ndarray"
      ]
     },
     "execution_count": 16,
     "metadata": {},
     "output_type": "execute_result"
    }
   ],
   "source": [
    "type(encoded_ts)"
   ]
  },
  {
   "cell_type": "code",
   "execution_count": 20,
   "id": "78dae97a-ad0e-402e-bf5b-1888d9dc5066",
   "metadata": {},
   "outputs": [],
   "source": [
    "np.savetxt(\"C:/Users/met48/Desktop/TS-Clustering/extracted_features/bank_reserves_DAE.csv\", encoded_ts, delimiter=\",\")"
   ]
  },
  {
   "cell_type": "code",
   "execution_count": null,
   "id": "e66b79e3-c67c-4ad3-8b2f-6297aa358980",
   "metadata": {},
   "outputs": [],
   "source": []
  },
  {
   "cell_type": "code",
   "execution_count": null,
   "id": "ed33c936-3fce-4ec3-ad14-d0475cb50835",
   "metadata": {},
   "outputs": [],
   "source": []
  }
 ],
 "metadata": {
  "kernelspec": {
   "display_name": "Python 3 (ipykernel)",
   "language": "python",
   "name": "python3"
  },
  "language_info": {
   "codemirror_mode": {
    "name": "ipython",
    "version": 3
   },
   "file_extension": ".py",
   "mimetype": "text/x-python",
   "name": "python",
   "nbconvert_exporter": "python",
   "pygments_lexer": "ipython3",
   "version": "3.11.5"
  }
 },
 "nbformat": 4,
 "nbformat_minor": 5
}
