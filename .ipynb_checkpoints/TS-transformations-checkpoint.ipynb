{
 "cells": [
  {
   "cell_type": "code",
   "execution_count": null,
   "id": "f7c44179-b862-4076-b7fc-b93fdb7314a2",
   "metadata": {},
   "outputs": [],
   "source": [
    "import pywt\n",
    "\n",
    "sc = StandardScaler()\n",
    "bank_reserves_DWT_list = list()\n",
    "bank_reserves_DWT_std_list = list()\n",
    "#for i in np.arange(0, poor.shape[0]):\n",
    "for i in np.arange(0, 1):\n",
    "    if(i % 500==0):\n",
    "        print(\"On iteration \", i, \"at \", datetime.datetime.now())\n",
    "    sample = pd.concat((poor.iloc[i], middle.iloc[i]), axis=1)\n",
    "    sample = pd.concat((sample, rich.iloc[i]), axis=1)\n",
    "    sample_std = sc.fit_transform(sample)\n",
    "    \n",
    "    sample_DWT, detail_sample_DWT = pywt.dwt(sample, 'haar')\n",
    "    sample_DWT_trunc = pywt.threshold(sample_DWT, np.std(sample_DWT)/2, 'soft')\n",
    "    detail_sample_DWT_trunc = pywt.threshold(detail_sample_DWT, np.std(detail_sample_DWT)/2, 'soft')\n",
    "    sample_trunc = [*sample_DWT_trunc, *detail_sample_DWT_trunc]\n",
    "    \n",
    "    sample_DWT_std, detail_sample_DWT_std = pywt.dwt(sample_std, 'haar')\n",
    "    sample_DWT_std_trunc = pywt.threshold(sample_DWT_std, np.std(sample_DWT_std)/2, 'soft')\n",
    "    detail_sample_DWT_std_trunc = pywt.threshold(detail_sample_DWT_std, np.std(detail_sample_DWT_std)/2, 'soft')\n",
    "    print(detail_sample_DWT_std_trunc)\n",
    "    sample_trunc_std = [*sample_DWT_std_trunc, *detail_sample_DWT_std_trunc]\n",
    "    print(sample_trunc_std)\n",
    "    \n",
    "    bank_reserves_DWT_list.append(sample_trunc)\n",
    "    bank_reserves_DWT_std_list.append(sample_trunc_std)\n",
    "#bank_reserves_DWT = pd.DataFrame(bank_reserves_DWT_list)\n",
    "#bank_reserves_DWT_std = pd.DataFrame(bank_reserves_DWT_std_list)"
   ]
  },
  {
   "cell_type": "code",
   "execution_count": null,
   "id": "9d0eb20d-6b8b-4051-9b15-774e00104bb7",
   "metadata": {},
   "outputs": [],
   "source": [
    "bank_reserves_DWT.to_csv('/Users/maria/Desktop/TS-Clustering/extracted_features/bank_reserves_DWT.csv')\n",
    "bank_reserves_DWT_std.to_csv('/Users/maria/Desktop/TS-Clustering/extracted_features/bank_reserves_DWT_standardized.csv')"
   ]
  },
  {
   "cell_type": "code",
   "execution_count": null,
   "id": "ee584fbb-438d-4b41-83b5-5e9cb4a23f02",
   "metadata": {},
   "outputs": [],
   "source": [
    "sc = StandardScaler()\n",
    "bank_reserves_DFT = pd.DataFrame()\n",
    "bank_reserves_DFT_std = pd.DataFrame()\n",
    "for i in np.arange(0, poor.shape[0]):\n",
    "    sample = pd.concat((poor.iloc[i], middle.iloc[i]), axis=1)\n",
    "    sample = pd.concat((sample, rich.iloc[i]), axis=1)\n",
    "    sample_std = sc.fit_transform(sample)\n",
    "    sample_DFT = np.fft.fftn(sample)\n",
    "    sample_DFT_std = np.fft.fftn(sample_std)\n",
    "    bank_reserves_DFT = pd.concat([bank_reserves_DFT, (pd.Series(sample_DFT[0:9].flatten()))], axis=1)\n",
    "    bank_reserves_DFT_std = pd.concat([bank_reserves_DFT_std, (pd.Series(sample_DFT_std[0:9].flatten()))], axis=1)"
   ]
  }
 ],
 "metadata": {
  "kernelspec": {
   "display_name": "Python 3 (ipykernel)",
   "language": "python",
   "name": "python3"
  },
  "language_info": {
   "codemirror_mode": {
    "name": "ipython",
    "version": 3
   },
   "file_extension": ".py",
   "mimetype": "text/x-python",
   "name": "python",
   "nbconvert_exporter": "python",
   "pygments_lexer": "ipython3",
   "version": "3.11.5"
  }
 },
 "nbformat": 4,
 "nbformat_minor": 5
}
