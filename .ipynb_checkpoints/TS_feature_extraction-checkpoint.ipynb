{
 "cells": [
  {
   "cell_type": "code",
   "execution_count": null,
   "id": "400f4b09",
   "metadata": {},
   "outputs": [],
   "source": [
    "import pandas as pd\n",
    "import hmmlearn as hmm\n",
    "import tslearn\n",
    "from tslearn.clustering import TimeSeriesKMeans\n",
    "import numpy as np\n",
    "import matplotlib.pyplot as plt\n",
    "from tslearn.utils import to_time_series_dataset\n",
    "from sklearn.preprocessing import StandardScaler\n",
    "from sklearn.decomposition import PCA\n",
    "import matplotlib.pyplot as plt\n",
    "import datetime"
   ]
  },
  {
   "cell_type": "code",
   "execution_count": null,
   "id": "ece61f32",
   "metadata": {},
   "outputs": [],
   "source": [
    "poor = pd.read_csv(\"/Users/maria/Desktop/TS-Clustering/SimData/bank_reserves_outputs_poor.csv\", header=None)\n",
    "middle = pd.read_csv(\"/Users/maria/Desktop/TS-Clustering/SimData/bank_reserves_outputs_middle.csv\", header=None)\n",
    "rich = pd.read_csv(\"/Users/maria/Desktop/TS-Clustering/SimData/bank_reserves_outputs_rich.csv\", header=None)"
   ]
  },
  {
   "cell_type": "markdown",
   "id": "9e896cd4",
   "metadata": {},
   "source": [
    "# Principal Component Analysis"
   ]
  },
  {
   "cell_type": "code",
   "execution_count": null,
   "id": "0374de94",
   "metadata": {},
   "outputs": [],
   "source": [
    "sc = StandardScaler()\n",
    "pca = PCA()\n",
    "bank_reserves_PCA = pd.DataFrame()\n",
    "bank_reserves_PCA_std = pd.DataFrame()\n",
    "for i in np.arange(0, poor.shape[0]):\n",
    "    if(i % 500==0):\n",
    "        print(\\\"On iteration \\\", i, \\\"at \\\", datetime.datetime.now())\n",
    "    sample = pd.concat((poor.iloc[i], middle.iloc[i]), axis=1)\n",
    "    sample = pd.concat((sample, rich.iloc[i]), axis=1)\n",
    "    sample_std = sc.fit_transform(sample)\n",
    "    sample_PCA = pca.fit_transform(sample)\n",
    "    sample_PCA_std = pca.fit_transform(sample_std)\n",
    "    bank_reserves_PCA = pd.concat([bank_reserves_PCA, (pd.Series(sample_PCA[0:9].flatten()))], axis=1)\n",
    "    bank_reserves_PCA_std = pd.concat([bank_reserves_PCA_std, (pd.Series(sample_PCA_std[0:9].flatten()))], axis=1)"
   ]
  },
  {
   "cell_type": "code",
   "execution_count": null,
   "id": "93c588c7",
   "metadata": {},
   "outputs": [],
   "source": [
    "bank_reserves_PCA.to_csv('bank_reserves_PCA.csv')\n",
    "bank_reserves_PCA_std.to_csv('bank_reserves_PCA_standardized.csv')"
   ]
  },
  {
   "cell_type": "markdown",
   "id": "a74eb578",
   "metadata": {},
   "source": [
    "# Discrete wavelet transformation"
   ]
  },
  {
   "cell_type": "code",
   "execution_count": null,
   "id": "f0f77eee",
   "metadata": {},
   "outputs": [],
   "source": [
    "sc = StandardScaler()\n",
    "bank_reserves_DWT = pd.DataFrame()\n",
    "bank_reserves_DWT_std = pd.DataFrame()\n",
    "for i in np.arange(0, poor.shape[0])\n",
    "    if(i % 500==0):\n",
    "        print(\"On iteration \", i, \"at \", datetime.datetime.now())\n",
    "    sample = pd.concat((poor.iloc[i], middle.iloc[i]), axis=1)\n",
    "    sample = pd.concat((sample, rich.iloc[i]), axis=1)\n",
    "    sample_std = sc.fit_transform(sample)\n",
    "    sample_DWT = pca.fit_transform(sample)\n",
    "    sample_DWT_std = pca.fit_transform(sample_std)\n",
    "    bank_reserves_DWT = pd.concat([bank_reserves_DWT, (pd.Series(sample_DWT[0:9].flatten()))], axis=1)\n",
    "    bank_reserves_DWT_std = pd.concat([bank_reserves_DWT_std, (pd.Series(sample_DWT_std[0:9].flatten()))], axis=1)"
   ]
  },
  {
   "cell_type": "markdown",
   "id": "4bf3723f",
   "metadata": {},
   "source": [
    "# Discrete Fourier transformation"
   ]
  },
  {
   "cell_type": "code",
   "execution_count": null,
   "id": "b72b30b3",
   "metadata": {},
   "outputs": [],
   "source": [
    "sc = StandardScaler()\n",
    "bank_reserves_DFT = pd.DataFrame()\n",
    "bank_reserves_DFT_std = pd.DataFrame()\n",
    "for i in np.arange(0, poor.shape[0]):\n",
    "    sample = pd.concat((poor.iloc[i], middle.iloc[i]), axis=1)\n",
    "    sample = pd.concat((sample, rich.iloc[i]), axis=1)\n",
    "    sample_std = sc.fit_transform(sample)\n",
    "    sample_DFT = np.fft.fftn(sample)\n",
    "    sample_DFT_std = np.fft.fftn(sample_std)\n",
    "    bank_reserves_DFT = pd.concat([bank_reserves_DFT, (pd.Series(sample_DFT[0:9].flatten()))], axis=1)\n",
    "    bank_reserves_DFT_std = pd.concat([bank_reserves_DFT_std, (pd.Series(sample_DFT_std[0:9].flatten()))], axis=1)"
   ]
  },
  {
   "cell_type": "markdown",
   "id": "d30480d7",
   "metadata": {},
   "source": [
    "# ARMA"
   ]
  },
  {
   "cell_type": "code",
   "execution_count": null,
   "id": "f6034780",
   "metadata": {},
   "outputs": [],
   "source": [
    "sc = StandardScaler()\n",
    "bank_reserves_ARMA = pd.DataFrame()\n",
    "bank_reserves_ARMA_std = pd.DataFrame()\n",
    "for i in np.arange(0, poor.shape[0]):\n",
    "    sample = pd.concat((poor.iloc[i], middle.iloc[i]), axis=1)\n",
    "    sample = pd.concat((sample, rich.iloc[i]), axis=1)\n",
    "    sample_std = sc.fit_transform(sample)\n",
    "    sample_ARMA = np.fft.fftn(sample)\n",
    "    sample_ARMA_std = np.fft.fftn(sample_std)\n",
    "    bank_reserves_ARMA = pd.concat([bank_reserves_ARMA, (pd.Series(sample_ARMA[0:9].flatten()))], axis=1)\n",
    "    bank_reserves_ARMA_std = pd.concat([bank_reserves_ARMA_std, (pd.Series(sample_ARMA_std[0:9].flatten()))], axis=1)"
   ]
  },
  {
   "cell_type": "markdown",
   "id": "a8491164",
   "metadata": {},
   "source": [
    "# Hidden Markov Model"
   ]
  },
  {
   "cell_type": "code",
   "execution_count": null,
   "id": "a515d812",
   "metadata": {},
   "outputs": [],
   "source": [
    "sc = StandardScaler()\n",
    "bank_reserves_HMM = pd.DataFrame()\n",
    "bank_reserves_HMM_std = pd.DataFrame()\n",
    "for i in np.arange(0, poor.shape[0]):\n",
    "    sample = pd.concat((poor.iloc[i], middle.iloc[i]), axis=1)\n",
    "    sample = pd.concat((sample, rich.iloc[i]), axis=1)\n",
    "    sample_std = sc.fit_transform(sample)\n",
    "    sample_HMM = np.fft.fftn(sample)\n",
    "    sample_HMM_std = np.fft.fftn(sample_std)\n",
    "    bank_reserves_HMM = pd.concat([bank_reserves_HMM, (pd.Series(sample_HMM[0:9].flatten()))], axis=1)\n",
    "    bank_reserves_HMM_std = pd.concat([bank_reserves_HMM_std, (pd.Series(sample_HMM_std[0:9].flatten()))], axis=1)"
   ]
  }
 ],
 "metadata": {
  "kernelspec": {
   "display_name": "Python 3 (ipykernel)",
   "language": "python",
   "name": "python3"
  },
  "language_info": {
   "codemirror_mode": {
    "name": "ipython",
    "version": 3
   },
   "file_extension": ".py",
   "mimetype": "text/x-python",
   "name": "python",
   "nbconvert_exporter": "python",
   "pygments_lexer": "ipython3",
   "version": "3.10.9"
  }
 },
 "nbformat": 4,
 "nbformat_minor": 5
}
