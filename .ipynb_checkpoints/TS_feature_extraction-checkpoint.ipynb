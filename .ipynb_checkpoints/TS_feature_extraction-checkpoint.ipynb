{
 "cells": [
  {
   "cell_type": "code",
<<<<<<< Updated upstream
   "execution_count": 8,
=======
   "execution_count": 69,
>>>>>>> Stashed changes
   "id": "010ff7e0-e31d-4705-81b8-d19f2b10ad0f",
   "metadata": {},
   "outputs": [],
   "source": [
    "import pandas as pd\n",
    "import hmmlearn as hmm\n",
    "import tslearn\n",
    "from tslearn.clustering import TimeSeriesKMeans\n",
    "import numpy as np\n",
    "import matplotlib.pyplot as plt\n",
<<<<<<< Updated upstream
    "from tslearn.utils import to_time_series_dataset"
=======
    "from tslearn.utils import to_time_series_dataset\n",
    "from sklearn.preprocessing import StandardScaler\n",
    "from sklearn.decomposition import PCA\n",
    "import matplotlib.pyplot as plt\n",
    "import datetime"
>>>>>>> Stashed changes
   ]
  },
  {
   "cell_type": "code",
<<<<<<< Updated upstream
   "execution_count": 2,
=======
   "execution_count": 54,
>>>>>>> Stashed changes
   "id": "16c413b2-cb46-45be-93aa-a38ee858d06d",
   "metadata": {},
   "outputs": [],
   "source": [
<<<<<<< Updated upstream
    "poor = pd.read_csv(\"C:/Users/met48/Desktop/TS-Clustering/SimData/bank_reserves_outputs_poor.csv\", header=None)\n",
    "middle = pd.read_csv(\"C:/Users/met48/Desktop/TS-Clustering/SimData/bank_reserves_outputs_middle.csv\", header=None)\n",
    "rich = pd.read_csv(\"C:/Users/met48/Desktop/TS-Clustering/SimData/bank_reserves_outputs_rich.csv\", header=None)"
=======
    "poor = pd.read_csv(\"/Users/maria/Desktop/TS-Clustering/SimData/bank_reserves_outputs_poor.csv\", header=None)\n",
    "middle = pd.read_csv(\"/Users/maria/Desktop/TS-Clustering/SimData/bank_reserves_outputs_middle.csv\", header=None)\n",
    "rich = pd.read_csv(\"/Users/maria/Desktop/TS-Clustering/SimData/bank_reserves_outputs_rich.csv\", header=None)"
>>>>>>> Stashed changes
   ]
  },
  {
   "cell_type": "markdown",
   "id": "2b0e9e34-f509-4867-8c40-d97505de54fe",
   "metadata": {},
   "source": [
    "# Principal component analysis"
   ]
  },
  {
   "cell_type": "code",
<<<<<<< Updated upstream
   "execution_count": 4,
   "id": "3a6e02f8-c5cd-42c2-aae9-c565a3c8a146",
   "metadata": {},
   "outputs": [],
   "source": [
    "from sklearn.preprocessing import StandardScaler\n",
    "from sklearn.decomposition import PCA\n",
    "import matplotlib.pyplot as plt"
   ]
  },
  {
   "cell_type": "code",
   "execution_count": 5,
   "id": "c88e7d68-b574-49f3-9819-485b09a5f4a1",
   "metadata": {},
   "outputs": [],
   "source": [
    "sc = StandardScaler() \n",
    "\n",
    "X_poor = poor.values \n",
    "X_poor_std = sc.fit_transform(X_poor)\n",
    "\n",
    "X_middle = middle.values  \n",
    "X_middle_std = sc.fit_transform(X_middle)\n",
    "\n",
    "X_rich = rich.values \n",
    "X_rich_std = sc.fit_transform(X_rich)"
   ]
  },
  {
   "cell_type": "code",
   "execution_count": 6,
   "id": "c99dc63b-cf0f-4574-96f7-b90ab2386632",
   "metadata": {},
   "outputs": [],
   "source": [
    "PCA_df = []\n",
    "pca = PCA()\n",
    "for \n",
    "X_pca = pca.fit(X_std)"
   ]
  },
  {
   "cell_type": "code",
   "execution_count": 9,
   "id": "542aedb3-8820-45d8-84ec-aac7e5ee4e40",
   "metadata": {},
   "outputs": [
    {
     "data": {
      "image/png": "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",
      "text/plain": [
       "<Figure size 640x480 with 1 Axes>"
      ]
     },
     "metadata": {},
     "output_type": "display_data"
    }
   ],
   "source": [
    "plt.plot(np.cumsum(pca.explained_variance_ratio_))\n",
    "plt.xlabel('number of components')\n",
    "plt.ylabel('cumulative explained variance');"
=======
   "execution_count": 70,
   "id": "616fecc7",
   "metadata": {},
   "outputs": [
    {
     "name": "stdout",
     "output_type": "stream",
     "text": [
      "On iteration  0 at  2024-08-13 14:13:01.881086\n",
      "On iteration  500 at  2024-08-13 14:13:07.358321\n",
      "On iteration  1000 at  2024-08-13 14:13:19.871676\n",
      "On iteration  1500 at  2024-08-13 14:13:41.872060\n",
      "On iteration  2000 at  2024-08-13 14:14:13.291042\n",
      "On iteration  2500 at  2024-08-13 14:14:54.636592\n",
      "On iteration  3000 at  2024-08-13 14:15:43.617060\n",
      "On iteration  3500 at  2024-08-13 14:16:42.194043\n",
      "On iteration  4000 at  2024-08-13 14:17:50.475680\n",
      "On iteration  4500 at  2024-08-13 14:19:08.697408\n",
      "On iteration  5000 at  2024-08-13 14:20:31.784542\n",
      "On iteration  5500 at  2024-08-13 14:22:03.608247\n",
      "On iteration  6000 at  2024-08-13 14:23:46.303517\n"
     ]
    },
    {
     "ename": "KeyboardInterrupt",
     "evalue": "",
     "output_type": "error",
     "traceback": [
      "\u001b[0;31m---------------------------------------------------------------------------\u001b[0m",
      "\u001b[0;31mKeyboardInterrupt\u001b[0m                         Traceback (most recent call last)",
      "Cell \u001b[0;32mIn[70], line 13\u001b[0m\n\u001b[1;32m     11\u001b[0m sample_PCA \u001b[38;5;241m=\u001b[39m pca\u001b[38;5;241m.\u001b[39mfit_transform(sample)\n\u001b[1;32m     12\u001b[0m sample_PCA_std \u001b[38;5;241m=\u001b[39m pca\u001b[38;5;241m.\u001b[39mfit_transform(sample_std)\n\u001b[0;32m---> 13\u001b[0m bank_reserves_PCA \u001b[38;5;241m=\u001b[39m \u001b[43mpd\u001b[49m\u001b[38;5;241;43m.\u001b[39;49m\u001b[43mconcat\u001b[49m\u001b[43m(\u001b[49m\u001b[43m[\u001b[49m\u001b[43mbank_reserves_PCA\u001b[49m\u001b[43m,\u001b[49m\u001b[43m \u001b[49m\u001b[43m(\u001b[49m\u001b[43mpd\u001b[49m\u001b[38;5;241;43m.\u001b[39;49m\u001b[43mSeries\u001b[49m\u001b[43m(\u001b[49m\u001b[43msample_PCA\u001b[49m\u001b[43m[\u001b[49m\u001b[38;5;241;43m0\u001b[39;49m\u001b[43m:\u001b[49m\u001b[38;5;241;43m9\u001b[39;49m\u001b[43m]\u001b[49m\u001b[38;5;241;43m.\u001b[39;49m\u001b[43mflatten\u001b[49m\u001b[43m(\u001b[49m\u001b[43m)\u001b[49m\u001b[43m)\u001b[49m\u001b[43m)\u001b[49m\u001b[43m]\u001b[49m\u001b[43m,\u001b[49m\u001b[43m \u001b[49m\u001b[43maxis\u001b[49m\u001b[38;5;241;43m=\u001b[39;49m\u001b[38;5;241;43m1\u001b[39;49m\u001b[43m)\u001b[49m\n\u001b[1;32m     14\u001b[0m bank_reserves_PCA_std \u001b[38;5;241m=\u001b[39m pd\u001b[38;5;241m.\u001b[39mconcat([bank_reserves_PCA_std, (pd\u001b[38;5;241m.\u001b[39mSeries(sample_PCA_std[\u001b[38;5;241m0\u001b[39m:\u001b[38;5;241m9\u001b[39m]\u001b[38;5;241m.\u001b[39mflatten()))], axis\u001b[38;5;241m=\u001b[39m\u001b[38;5;241m1\u001b[39m)\n",
      "File \u001b[0;32m~/anaconda3/lib/python3.10/site-packages/pandas/util/_decorators.py:331\u001b[0m, in \u001b[0;36mdeprecate_nonkeyword_arguments.<locals>.decorate.<locals>.wrapper\u001b[0;34m(*args, **kwargs)\u001b[0m\n\u001b[1;32m    325\u001b[0m \u001b[38;5;28;01mif\u001b[39;00m \u001b[38;5;28mlen\u001b[39m(args) \u001b[38;5;241m>\u001b[39m num_allow_args:\n\u001b[1;32m    326\u001b[0m     warnings\u001b[38;5;241m.\u001b[39mwarn(\n\u001b[1;32m    327\u001b[0m         msg\u001b[38;5;241m.\u001b[39mformat(arguments\u001b[38;5;241m=\u001b[39m_format_argument_list(allow_args)),\n\u001b[1;32m    328\u001b[0m         \u001b[38;5;167;01mFutureWarning\u001b[39;00m,\n\u001b[1;32m    329\u001b[0m         stacklevel\u001b[38;5;241m=\u001b[39mfind_stack_level(),\n\u001b[1;32m    330\u001b[0m     )\n\u001b[0;32m--> 331\u001b[0m \u001b[38;5;28;01mreturn\u001b[39;00m \u001b[43mfunc\u001b[49m\u001b[43m(\u001b[49m\u001b[38;5;241;43m*\u001b[39;49m\u001b[43margs\u001b[49m\u001b[43m,\u001b[49m\u001b[43m \u001b[49m\u001b[38;5;241;43m*\u001b[39;49m\u001b[38;5;241;43m*\u001b[39;49m\u001b[43mkwargs\u001b[49m\u001b[43m)\u001b[49m\n",
      "File \u001b[0;32m~/anaconda3/lib/python3.10/site-packages/pandas/core/reshape/concat.py:381\u001b[0m, in \u001b[0;36mconcat\u001b[0;34m(objs, axis, join, ignore_index, keys, levels, names, verify_integrity, sort, copy)\u001b[0m\n\u001b[1;32m    159\u001b[0m \u001b[38;5;124;03m\"\"\"\u001b[39;00m\n\u001b[1;32m    160\u001b[0m \u001b[38;5;124;03mConcatenate pandas objects along a particular axis.\u001b[39;00m\n\u001b[1;32m    161\u001b[0m \n\u001b[0;32m   (...)\u001b[0m\n\u001b[1;32m    366\u001b[0m \u001b[38;5;124;03m1   3   4\u001b[39;00m\n\u001b[1;32m    367\u001b[0m \u001b[38;5;124;03m\"\"\"\u001b[39;00m\n\u001b[1;32m    368\u001b[0m op \u001b[38;5;241m=\u001b[39m _Concatenator(\n\u001b[1;32m    369\u001b[0m     objs,\n\u001b[1;32m    370\u001b[0m     axis\u001b[38;5;241m=\u001b[39maxis,\n\u001b[0;32m   (...)\u001b[0m\n\u001b[1;32m    378\u001b[0m     sort\u001b[38;5;241m=\u001b[39msort,\n\u001b[1;32m    379\u001b[0m )\n\u001b[0;32m--> 381\u001b[0m \u001b[38;5;28;01mreturn\u001b[39;00m \u001b[43mop\u001b[49m\u001b[38;5;241;43m.\u001b[39;49m\u001b[43mget_result\u001b[49m\u001b[43m(\u001b[49m\u001b[43m)\u001b[49m\n",
      "File \u001b[0;32m~/anaconda3/lib/python3.10/site-packages/pandas/core/reshape/concat.py:616\u001b[0m, in \u001b[0;36m_Concatenator.get_result\u001b[0;34m(self)\u001b[0m\n\u001b[1;32m    612\u001b[0m             indexers[ax] \u001b[38;5;241m=\u001b[39m obj_labels\u001b[38;5;241m.\u001b[39mget_indexer(new_labels)\n\u001b[1;32m    614\u001b[0m     mgrs_indexers\u001b[38;5;241m.\u001b[39mappend((obj\u001b[38;5;241m.\u001b[39m_mgr, indexers))\n\u001b[0;32m--> 616\u001b[0m new_data \u001b[38;5;241m=\u001b[39m \u001b[43mconcatenate_managers\u001b[49m\u001b[43m(\u001b[49m\n\u001b[1;32m    617\u001b[0m \u001b[43m    \u001b[49m\u001b[43mmgrs_indexers\u001b[49m\u001b[43m,\u001b[49m\u001b[43m \u001b[49m\u001b[38;5;28;43mself\u001b[39;49m\u001b[38;5;241;43m.\u001b[39;49m\u001b[43mnew_axes\u001b[49m\u001b[43m,\u001b[49m\u001b[43m \u001b[49m\u001b[43mconcat_axis\u001b[49m\u001b[38;5;241;43m=\u001b[39;49m\u001b[38;5;28;43mself\u001b[39;49m\u001b[38;5;241;43m.\u001b[39;49m\u001b[43mbm_axis\u001b[49m\u001b[43m,\u001b[49m\u001b[43m \u001b[49m\u001b[43mcopy\u001b[49m\u001b[38;5;241;43m=\u001b[39;49m\u001b[38;5;28;43mself\u001b[39;49m\u001b[38;5;241;43m.\u001b[39;49m\u001b[43mcopy\u001b[49m\n\u001b[1;32m    618\u001b[0m \u001b[43m\u001b[49m\u001b[43m)\u001b[49m\n\u001b[1;32m    619\u001b[0m \u001b[38;5;28;01mif\u001b[39;00m \u001b[38;5;129;01mnot\u001b[39;00m \u001b[38;5;28mself\u001b[39m\u001b[38;5;241m.\u001b[39mcopy:\n\u001b[1;32m    620\u001b[0m     new_data\u001b[38;5;241m.\u001b[39m_consolidate_inplace()\n",
      "File \u001b[0;32m~/anaconda3/lib/python3.10/site-packages/pandas/core/internals/concat.py:199\u001b[0m, in \u001b[0;36mconcatenate_managers\u001b[0;34m(mgrs_indexers, axes, concat_axis, copy)\u001b[0m\n\u001b[1;32m    195\u001b[0m     \u001b[38;5;28;01mreturn\u001b[39;00m _concatenate_array_managers(mgrs_indexers, axes, concat_axis, copy)\n\u001b[1;32m    197\u001b[0m mgrs_indexers \u001b[38;5;241m=\u001b[39m _maybe_reindex_columns_na_proxy(axes, mgrs_indexers)\n\u001b[0;32m--> 199\u001b[0m concat_plans \u001b[38;5;241m=\u001b[39m [\n\u001b[1;32m    200\u001b[0m     _get_mgr_concatenation_plan(mgr, indexers) \u001b[38;5;28;01mfor\u001b[39;00m mgr, indexers \u001b[38;5;129;01min\u001b[39;00m mgrs_indexers\n\u001b[1;32m    201\u001b[0m ]\n\u001b[1;32m    202\u001b[0m concat_plan \u001b[38;5;241m=\u001b[39m _combine_concat_plans(concat_plans, concat_axis)\n\u001b[1;32m    203\u001b[0m blocks \u001b[38;5;241m=\u001b[39m []\n",
      "File \u001b[0;32m~/anaconda3/lib/python3.10/site-packages/pandas/core/internals/concat.py:200\u001b[0m, in \u001b[0;36m<listcomp>\u001b[0;34m(.0)\u001b[0m\n\u001b[1;32m    195\u001b[0m     \u001b[38;5;28;01mreturn\u001b[39;00m _concatenate_array_managers(mgrs_indexers, axes, concat_axis, copy)\n\u001b[1;32m    197\u001b[0m mgrs_indexers \u001b[38;5;241m=\u001b[39m _maybe_reindex_columns_na_proxy(axes, mgrs_indexers)\n\u001b[1;32m    199\u001b[0m concat_plans \u001b[38;5;241m=\u001b[39m [\n\u001b[0;32m--> 200\u001b[0m     \u001b[43m_get_mgr_concatenation_plan\u001b[49m\u001b[43m(\u001b[49m\u001b[43mmgr\u001b[49m\u001b[43m,\u001b[49m\u001b[43m \u001b[49m\u001b[43mindexers\u001b[49m\u001b[43m)\u001b[49m \u001b[38;5;28;01mfor\u001b[39;00m mgr, indexers \u001b[38;5;129;01min\u001b[39;00m mgrs_indexers\n\u001b[1;32m    201\u001b[0m ]\n\u001b[1;32m    202\u001b[0m concat_plan \u001b[38;5;241m=\u001b[39m _combine_concat_plans(concat_plans, concat_axis)\n\u001b[1;32m    203\u001b[0m blocks \u001b[38;5;241m=\u001b[39m []\n",
      "File \u001b[0;32m~/anaconda3/lib/python3.10/site-packages/pandas/core/internals/concat.py:311\u001b[0m, in \u001b[0;36m_get_mgr_concatenation_plan\u001b[0;34m(mgr, indexers)\u001b[0m\n\u001b[1;32m    308\u001b[0m plan \u001b[38;5;241m=\u001b[39m []\n\u001b[1;32m    309\u001b[0m \u001b[38;5;28;01mfor\u001b[39;00m blkno, placements \u001b[38;5;129;01min\u001b[39;00m libinternals\u001b[38;5;241m.\u001b[39mget_blkno_placements(blknos, group\u001b[38;5;241m=\u001b[39m\u001b[38;5;28;01mFalse\u001b[39;00m):\n\u001b[0;32m--> 311\u001b[0m     \u001b[38;5;28;01massert\u001b[39;00m placements\u001b[38;5;241m.\u001b[39mis_slice_like\n\u001b[1;32m    312\u001b[0m     \u001b[38;5;28;01massert\u001b[39;00m blkno \u001b[38;5;241m!=\u001b[39m \u001b[38;5;241m-\u001b[39m\u001b[38;5;241m1\u001b[39m\n\u001b[1;32m    314\u001b[0m     join_unit_indexers \u001b[38;5;241m=\u001b[39m indexers\u001b[38;5;241m.\u001b[39mcopy()\n",
      "\u001b[0;31mKeyboardInterrupt\u001b[0m: "
     ]
    }
   ],
   "source": [
    "sc = StandardScaler()\n",
    "pca = PCA()\n",
    "bank_reserves_PCA = pd.DataFrame()\n",
    "bank_reserves_PCA_std = pd.DataFrame()\n",
    "for i in np.arange(0, poor.shape[0]):\n",
    "    if(i % 500==0):\n",
    "        print(\"On iteration \", i, \"at \", datetime.datetime.now())\n",
    "    sample = pd.concat((poor.iloc[i], middle.iloc[i]), axis=1)\n",
    "    sample = pd.concat((sample, rich.iloc[i]), axis=1)\n",
    "    sample_std = sc.fit_transform(sample)\n",
    "    sample_PCA = pca.fit_transform(sample)\n",
    "    sample_PCA_std = pca.fit_transform(sample_std)\n",
    "    bank_reserves_PCA = pd.concat([bank_reserves_PCA, (pd.Series(sample_PCA[0:9].flatten()))], axis=1)\n",
    "    bank_reserves_PCA_std = pd.concat([bank_reserves_PCA_std, (pd.Series(sample_PCA_std[0:9].flatten()))], axis=1)"
>>>>>>> Stashed changes
   ]
  },
  {
   "cell_type": "code",
<<<<<<< Updated upstream
   "execution_count": 10,
   "id": "a818a538-c194-4bfd-aa57-fe3f6b94c435",
   "metadata": {},
   "outputs": [],
   "source": [
    "num_components = 10\n",
    "pca = PCA(num_components)  \n",
    "X_pca = pca.fit_transform(X_std) "
   ]
  },
  {
   "cell_type": "code",
   "execution_count": 12,
   "id": "eca6830b-4e1b-4218-86b6-45d31d733854",
=======
   "execution_count": 65,
   "id": "04e086e2",
>>>>>>> Stashed changes
   "metadata": {},
   "outputs": [
    {
     "data": {
<<<<<<< Updated upstream
      "text/html": [
       "<div>\n",
       "<style scoped>\n",
       "    .dataframe tbody tr th:only-of-type {\n",
       "        vertical-align: middle;\n",
       "    }\n",
       "\n",
       "    .dataframe tbody tr th {\n",
       "        vertical-align: top;\n",
       "    }\n",
       "\n",
       "    .dataframe thead th {\n",
       "        text-align: right;\n",
       "    }\n",
       "</style>\n",
       "<table border=\"1\" class=\"dataframe\">\n",
       "  <thead>\n",
       "    <tr style=\"text-align: right;\">\n",
       "      <th></th>\n",
       "      <th>0</th>\n",
       "      <th>1</th>\n",
       "      <th>2</th>\n",
       "      <th>3</th>\n",
       "      <th>4</th>\n",
       "      <th>5</th>\n",
       "      <th>6</th>\n",
       "      <th>7</th>\n",
       "      <th>8</th>\n",
       "      <th>9</th>\n",
       "      <th>...</th>\n",
       "      <th>91</th>\n",
       "      <th>92</th>\n",
       "      <th>93</th>\n",
       "      <th>94</th>\n",
       "      <th>95</th>\n",
       "      <th>96</th>\n",
       "      <th>97</th>\n",
       "      <th>98</th>\n",
       "      <th>99</th>\n",
       "      <th>100</th>\n",
       "    </tr>\n",
       "  </thead>\n",
       "  <tbody>\n",
       "    <tr>\n",
       "      <th>0</th>\n",
       "      <td>0.0</td>\n",
       "      <td>0.0</td>\n",
       "      <td>0.0</td>\n",
       "      <td>0.014426</td>\n",
       "      <td>0.028473</td>\n",
       "      <td>0.042915</td>\n",
       "      <td>0.054965</td>\n",
       "      <td>0.064750</td>\n",
       "      <td>0.071997</td>\n",
       "      <td>0.077765</td>\n",
       "      <td>...</td>\n",
       "      <td>0.104521</td>\n",
       "      <td>0.104469</td>\n",
       "      <td>0.104414</td>\n",
       "      <td>0.104364</td>\n",
       "      <td>0.104318</td>\n",
       "      <td>0.104262</td>\n",
       "      <td>0.104211</td>\n",
       "      <td>0.104159</td>\n",
       "      <td>0.104108</td>\n",
       "      <td>0.104061</td>\n",
       "    </tr>\n",
       "    <tr>\n",
       "      <th>1</th>\n",
       "      <td>-0.0</td>\n",
       "      <td>-0.0</td>\n",
       "      <td>-0.0</td>\n",
       "      <td>0.121760</td>\n",
       "      <td>0.199357</td>\n",
       "      <td>0.246806</td>\n",
       "      <td>0.267371</td>\n",
       "      <td>0.269720</td>\n",
       "      <td>0.264005</td>\n",
       "      <td>0.252003</td>\n",
       "      <td>...</td>\n",
       "      <td>-0.075875</td>\n",
       "      <td>-0.076428</td>\n",
       "      <td>-0.076985</td>\n",
       "      <td>-0.077367</td>\n",
       "      <td>-0.077845</td>\n",
       "      <td>-0.078238</td>\n",
       "      <td>-0.078693</td>\n",
       "      <td>-0.079106</td>\n",
       "      <td>-0.079423</td>\n",
       "      <td>-0.079732</td>\n",
       "    </tr>\n",
       "    <tr>\n",
       "      <th>2</th>\n",
       "      <td>-0.0</td>\n",
       "      <td>-0.0</td>\n",
       "      <td>-0.0</td>\n",
       "      <td>0.409003</td>\n",
       "      <td>0.465541</td>\n",
       "      <td>0.392233</td>\n",
       "      <td>0.278457</td>\n",
       "      <td>0.172064</td>\n",
       "      <td>0.085647</td>\n",
       "      <td>0.022377</td>\n",
       "      <td>...</td>\n",
       "      <td>0.058463</td>\n",
       "      <td>0.059025</td>\n",
       "      <td>0.059639</td>\n",
       "      <td>0.060313</td>\n",
       "      <td>0.060759</td>\n",
       "      <td>0.061365</td>\n",
       "      <td>0.061735</td>\n",
       "      <td>0.062393</td>\n",
       "      <td>0.062971</td>\n",
       "      <td>0.063298</td>\n",
       "    </tr>\n",
       "    <tr>\n",
       "      <th>3</th>\n",
       "      <td>-0.0</td>\n",
       "      <td>-0.0</td>\n",
       "      <td>-0.0</td>\n",
       "      <td>0.614451</td>\n",
       "      <td>0.303513</td>\n",
       "      <td>-0.045893</td>\n",
       "      <td>-0.227381</td>\n",
       "      <td>-0.276353</td>\n",
       "      <td>-0.255085</td>\n",
       "      <td>-0.210041</td>\n",
       "      <td>...</td>\n",
       "      <td>-0.054233</td>\n",
       "      <td>-0.055055</td>\n",
       "      <td>-0.055989</td>\n",
       "      <td>-0.056734</td>\n",
       "      <td>-0.057045</td>\n",
       "      <td>-0.057859</td>\n",
       "      <td>-0.058262</td>\n",
       "      <td>-0.058858</td>\n",
       "      <td>-0.059344</td>\n",
       "      <td>-0.059769</td>\n",
       "    </tr>\n",
       "    <tr>\n",
       "      <th>4</th>\n",
       "      <td>-0.0</td>\n",
       "      <td>-0.0</td>\n",
       "      <td>-0.0</td>\n",
       "      <td>0.552765</td>\n",
       "      <td>-0.244768</td>\n",
       "      <td>-0.423120</td>\n",
       "      <td>-0.236998</td>\n",
       "      <td>-0.018072</td>\n",
       "      <td>0.125219</td>\n",
       "      <td>0.192267</td>\n",
       "      <td>...</td>\n",
       "      <td>0.049636</td>\n",
       "      <td>0.050583</td>\n",
       "      <td>0.051563</td>\n",
       "      <td>0.052568</td>\n",
       "      <td>0.052850</td>\n",
       "      <td>0.053847</td>\n",
       "      <td>0.054677</td>\n",
       "      <td>0.055289</td>\n",
       "      <td>0.055741</td>\n",
       "      <td>0.056072</td>\n",
       "    </tr>\n",
       "    <tr>\n",
       "      <th>5</th>\n",
       "      <td>-0.0</td>\n",
       "      <td>-0.0</td>\n",
       "      <td>-0.0</td>\n",
       "      <td>-0.330236</td>\n",
       "      <td>0.555741</td>\n",
       "      <td>0.069867</td>\n",
       "      <td>-0.306877</td>\n",
       "      <td>-0.327902</td>\n",
       "      <td>-0.191661</td>\n",
       "      <td>-0.042245</td>\n",
       "      <td>...</td>\n",
       "      <td>0.048162</td>\n",
       "      <td>0.048817</td>\n",
       "      <td>0.050086</td>\n",
       "      <td>0.051248</td>\n",
       "      <td>0.052304</td>\n",
       "      <td>0.053194</td>\n",
       "      <td>0.053665</td>\n",
       "      <td>0.054288</td>\n",
       "      <td>0.054517</td>\n",
       "      <td>0.054734</td>\n",
       "    </tr>\n",
       "    <tr>\n",
       "      <th>6</th>\n",
       "      <td>0.0</td>\n",
       "      <td>0.0</td>\n",
       "      <td>0.0</td>\n",
       "      <td>-0.152179</td>\n",
       "      <td>0.459663</td>\n",
       "      <td>-0.426260</td>\n",
       "      <td>-0.274691</td>\n",
       "      <td>0.119240</td>\n",
       "      <td>0.291268</td>\n",
       "      <td>0.269873</td>\n",
       "      <td>...</td>\n",
       "      <td>-0.047677</td>\n",
       "      <td>-0.048872</td>\n",
       "      <td>-0.049951</td>\n",
       "      <td>-0.050960</td>\n",
       "      <td>-0.051654</td>\n",
       "      <td>-0.052830</td>\n",
       "      <td>-0.053260</td>\n",
       "      <td>-0.053695</td>\n",
       "      <td>-0.054112</td>\n",
       "      <td>-0.053804</td>\n",
       "    </tr>\n",
       "    <tr>\n",
       "      <th>7</th>\n",
       "      <td>-0.0</td>\n",
       "      <td>-0.0</td>\n",
       "      <td>-0.0</td>\n",
       "      <td>0.046676</td>\n",
       "      <td>-0.245028</td>\n",
       "      <td>0.514350</td>\n",
       "      <td>-0.233759</td>\n",
       "      <td>-0.372917</td>\n",
       "      <td>-0.093066</td>\n",
       "      <td>0.155076</td>\n",
       "      <td>...</td>\n",
       "      <td>-0.048227</td>\n",
       "      <td>-0.050343</td>\n",
       "      <td>-0.051953</td>\n",
       "      <td>-0.052514</td>\n",
       "      <td>-0.053819</td>\n",
       "      <td>-0.054809</td>\n",
       "      <td>-0.055954</td>\n",
       "      <td>-0.055762</td>\n",
       "      <td>-0.055917</td>\n",
       "      <td>-0.055652</td>\n",
       "    </tr>\n",
       "    <tr>\n",
       "      <th>8</th>\n",
       "      <td>0.0</td>\n",
       "      <td>0.0</td>\n",
       "      <td>0.0</td>\n",
       "      <td>-0.012307</td>\n",
       "      <td>0.094279</td>\n",
       "      <td>-0.340578</td>\n",
       "      <td>0.493078</td>\n",
       "      <td>0.002599</td>\n",
       "      <td>-0.333582</td>\n",
       "      <td>-0.254792</td>\n",
       "      <td>...</td>\n",
       "      <td>-0.051363</td>\n",
       "      <td>-0.052769</td>\n",
       "      <td>-0.054511</td>\n",
       "      <td>-0.055859</td>\n",
       "      <td>-0.056780</td>\n",
       "      <td>-0.058250</td>\n",
       "      <td>-0.059172</td>\n",
       "      <td>-0.058963</td>\n",
       "      <td>-0.059174</td>\n",
       "      <td>-0.058975</td>\n",
       "    </tr>\n",
       "    <tr>\n",
       "      <th>9</th>\n",
       "      <td>-0.0</td>\n",
       "      <td>-0.0</td>\n",
       "      <td>-0.0</td>\n",
       "      <td>-0.004934</td>\n",
       "      <td>0.038706</td>\n",
       "      <td>-0.170362</td>\n",
       "      <td>0.424251</td>\n",
       "      <td>-0.368766</td>\n",
       "      <td>-0.236229</td>\n",
       "      <td>0.162935</td>\n",
       "      <td>...</td>\n",
       "      <td>0.048902</td>\n",
       "      <td>0.051620</td>\n",
       "      <td>0.052241</td>\n",
       "      <td>0.053604</td>\n",
       "      <td>0.054574</td>\n",
       "      <td>0.056225</td>\n",
       "      <td>0.058212</td>\n",
       "      <td>0.058688</td>\n",
       "      <td>0.059375</td>\n",
       "      <td>0.058840</td>\n",
       "    </tr>\n",
       "  </tbody>\n",
       "</table>\n",
       "<p>10 rows × 101 columns</p>\n",
       "</div>"
      ],
      "text/plain": [
       "   0    1    2         3         4         5         6         7         8    \\\n",
       "0  0.0  0.0  0.0  0.014426  0.028473  0.042915  0.054965  0.064750  0.071997   \n",
       "1 -0.0 -0.0 -0.0  0.121760  0.199357  0.246806  0.267371  0.269720  0.264005   \n",
       "2 -0.0 -0.0 -0.0  0.409003  0.465541  0.392233  0.278457  0.172064  0.085647   \n",
       "3 -0.0 -0.0 -0.0  0.614451  0.303513 -0.045893 -0.227381 -0.276353 -0.255085   \n",
       "4 -0.0 -0.0 -0.0  0.552765 -0.244768 -0.423120 -0.236998 -0.018072  0.125219   \n",
       "5 -0.0 -0.0 -0.0 -0.330236  0.555741  0.069867 -0.306877 -0.327902 -0.191661   \n",
       "6  0.0  0.0  0.0 -0.152179  0.459663 -0.426260 -0.274691  0.119240  0.291268   \n",
       "7 -0.0 -0.0 -0.0  0.046676 -0.245028  0.514350 -0.233759 -0.372917 -0.093066   \n",
       "8  0.0  0.0  0.0 -0.012307  0.094279 -0.340578  0.493078  0.002599 -0.333582   \n",
       "9 -0.0 -0.0 -0.0 -0.004934  0.038706 -0.170362  0.424251 -0.368766 -0.236229   \n",
       "\n",
       "        9    ...       91        92        93        94        95        96   \\\n",
       "0  0.077765  ...  0.104521  0.104469  0.104414  0.104364  0.104318  0.104262   \n",
       "1  0.252003  ... -0.075875 -0.076428 -0.076985 -0.077367 -0.077845 -0.078238   \n",
       "2  0.022377  ...  0.058463  0.059025  0.059639  0.060313  0.060759  0.061365   \n",
       "3 -0.210041  ... -0.054233 -0.055055 -0.055989 -0.056734 -0.057045 -0.057859   \n",
       "4  0.192267  ...  0.049636  0.050583  0.051563  0.052568  0.052850  0.053847   \n",
       "5 -0.042245  ...  0.048162  0.048817  0.050086  0.051248  0.052304  0.053194   \n",
       "6  0.269873  ... -0.047677 -0.048872 -0.049951 -0.050960 -0.051654 -0.052830   \n",
       "7  0.155076  ... -0.048227 -0.050343 -0.051953 -0.052514 -0.053819 -0.054809   \n",
       "8 -0.254792  ... -0.051363 -0.052769 -0.054511 -0.055859 -0.056780 -0.058250   \n",
       "9  0.162935  ...  0.048902  0.051620  0.052241  0.053604  0.054574  0.056225   \n",
       "\n",
       "        97        98        99        100  \n",
       "0  0.104211  0.104159  0.104108  0.104061  \n",
       "1 -0.078693 -0.079106 -0.079423 -0.079732  \n",
       "2  0.061735  0.062393  0.062971  0.063298  \n",
       "3 -0.058262 -0.058858 -0.059344 -0.059769  \n",
       "4  0.054677  0.055289  0.055741  0.056072  \n",
       "5  0.053665  0.054288  0.054517  0.054734  \n",
       "6 -0.053260 -0.053695 -0.054112 -0.053804  \n",
       "7 -0.055954 -0.055762 -0.055917 -0.055652  \n",
       "8 -0.059172 -0.058963 -0.059174 -0.058975  \n",
       "9  0.058212  0.058688  0.059375  0.058840  \n",
       "\n",
       "[10 rows x 101 columns]"
      ]
     },
     "execution_count": 12,
=======
      "text/plain": [
       "101"
      ]
     },
     "execution_count": 65,
>>>>>>> Stashed changes
     "metadata": {},
     "output_type": "execute_result"
    }
   ],
   "source": [
<<<<<<< Updated upstream
    "pd.DataFrame(pca.components_, columns = poor.columns)"
=======
    "bank_reserves_PCA.to_csv('bank_reserves_PCA.csv')\n",
    "bank_reserves_PCA_std.to_csv('bank_reserves_PCA_standardized.csv')"
>>>>>>> Stashed changes
   ]
  },
  {
   "cell_type": "markdown",
   "id": "79389257-93eb-43a8-be2e-2a030124ec46",
   "metadata": {},
   "source": [
    "# Discrete wavelet transformation"
   ]
  },
  {
   "cell_type": "code",
   "execution_count": null,
   "id": "5ee78ce7-f6a2-4800-a904-bba396f16a93",
   "metadata": {},
   "outputs": [],
<<<<<<< Updated upstream
   "source": []
=======
   "source": [
    "sc = StandardScaler()\n",
    "\n",
    "bank_reserves_DWT = pd.DataFrame()\n",
    "bank_reserves_DWT_std = pd.DataFrame()\n",
    "for i in np.arange(0, poor.shape[0]):\n",
    "    if(i % 500==0):\n",
    "        print(\"On iteration \", i, \"at \", datetime.datetime.now())\n",
    "    sample = pd.concat((poor.iloc[i], middle.iloc[i]), axis=1)\n",
    "    sample = pd.concat((sample, rich.iloc[i]), axis=1)\n",
    "    sample_std = sc.fit_transform(sample)\n",
    "    sample_DWT = pca.fit_transform(sample)\n",
    "    sample_DWT_std = pca.fit_transform(sample_std)\n",
    "    bank_reserves_DWT = pd.concat([bank_reserves_DWT, (pd.Series(sample_DWT[0:9].flatten()))], axis=1)\n",
    "    bank_reserves_DWT_std = pd.concat([bank_reserves_DWT_std, (pd.Series(sample_DWT_std[0:9].flatten()))], axis=1)"
   ]
>>>>>>> Stashed changes
  },
  {
   "cell_type": "markdown",
   "id": "99c184bc-b8ba-40a6-b8ca-2f990ddec9d4",
   "metadata": {},
   "source": [
    "# Discrete Fourier transformation"
   ]
  },
  {
   "cell_type": "code",
   "execution_count": null,
   "id": "46612b95-4af5-473c-8ec2-1b3310f1b4f9",
   "metadata": {},
   "outputs": [],
<<<<<<< Updated upstream
   "source": []
=======
   "source": [
    "sc = StandardScaler()\n",
    "\n",
    "bank_reserves_DFT = pd.DataFrame()\n",
    "bank_reserves_DFT_std = pd.DataFrame()\n",
    "for i in np.arange(0, poor.shape[0]):\n",
    "    sample = pd.concat((poor.iloc[i], middle.iloc[i]), axis=1)\n",
    "    sample = pd.concat((sample, rich.iloc[i]), axis=1)\n",
    "    sample_std = sc.fit_transform(sample)\n",
    "    sample_DFT = np.fft.fftn(sample)\n",
    "    sample_DFT_std = np.fft.fftn(sample_std)\n",
    "    bank_reserves_DFT = pd.concat([bank_reserves_DFT, (pd.Series(sample_DFT[0:9].flatten()))], axis=1)\n",
    "    bank_reserves_DFT_std = pd.concat([bank_reserves_DFT_std, (pd.Series(sample_DFT_std[0:9].flatten()))], axis=1)"
   ]
>>>>>>> Stashed changes
  },
  {
   "cell_type": "markdown",
   "id": "46a76853-4721-4497-9dd8-41e4285bbc39",
   "metadata": {},
   "source": [
    "# ARMA"
   ]
  },
  {
   "cell_type": "code",
   "execution_count": null,
   "id": "87083766-82b6-4922-8bb0-994307df43e6",
   "metadata": {},
   "outputs": [],
<<<<<<< Updated upstream
   "source": []
=======
   "source": [
    "sc = StandardScaler()\n",
    "\n",
    "bank_reserves_ARMA = pd.DataFrame()\n",
    "bank_reserves_ARMA_std = pd.DataFrame()\n",
    "for i in np.arange(0, poor.shape[0]):\n",
    "    sample = pd.concat((poor.iloc[i], middle.iloc[i]), axis=1)\n",
    "    sample = pd.concat((sample, rich.iloc[i]), axis=1)\n",
    "    sample_std = sc.fit_transform(sample)\n",
    "    sample_ARMA = np.fft.fftn(sample)\n",
    "    sample_ARMA_std = np.fft.fftn(sample_std)\n",
    "    bank_reserves_ARMA = pd.concat([bank_reserves_ARMA, (pd.Series(sample_ARMA[0:9].flatten()))], axis=1)\n",
    "    bank_reserves_ARMA_std = pd.concat([bank_reserves_ARMA_std, (pd.Series(sample_ARMA_std[0:9].flatten()))], axis=1)"
   ]
  },
  {
   "cell_type": "markdown",
   "id": "21bef71d",
   "metadata": {},
   "source": [
    "# HMM"
   ]
  },
  {
   "cell_type": "code",
   "execution_count": null,
   "id": "c13b0296",
   "metadata": {},
   "outputs": [],
   "source": [
    "sc = StandardScaler()\n",
    "\n",
    "bank_reserves_HMM = pd.DataFrame()\n",
    "bank_reserves_HMM_std = pd.DataFrame()\n",
    "for i in np.arange(0, poor.shape[0]):\n",
    "    sample = pd.concat((poor.iloc[i], middle.iloc[i]), axis=1)\n",
    "    sample = pd.concat((sample, rich.iloc[i]), axis=1)\n",
    "    sample_std = sc.fit_transform(sample)\n",
    "    sample_HMM = np.fft.fftn(sample)\n",
    "    sample_HMM_std = np.fft.fftn(sample_std)\n",
    "    bank_reserves_HMM = pd.concat([bank_reserves_HMM, (pd.Series(sample_HMM[0:9].flatten()))], axis=1)\n",
    "    bank_reserves_HMM_std = pd.concat([bank_reserves_HMM_std, (pd.Series(sample_HMM_std[0:9].flatten()))], axis=1)"
   ]
>>>>>>> Stashed changes
  }
 ],
 "metadata": {
  "kernelspec": {
   "display_name": "Python 3 (ipykernel)",
   "language": "python",
   "name": "python3"
  },
  "language_info": {
   "codemirror_mode": {
    "name": "ipython",
    "version": 3
   },
   "file_extension": ".py",
   "mimetype": "text/x-python",
   "name": "python",
   "nbconvert_exporter": "python",
   "pygments_lexer": "ipython3",
<<<<<<< Updated upstream
   "version": "3.11.5"
=======
   "version": "3.10.9"
>>>>>>> Stashed changes
  }
 },
 "nbformat": 4,
 "nbformat_minor": 5
}
