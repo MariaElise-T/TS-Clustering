{
 "cells": [
  {
   "cell_type": "code",
   "execution_count": 25,
   "id": "c61ea950-5d23-458f-b687-50deb373e492",
   "metadata": {},
   "outputs": [],
   "source": [
    "import mesa\n",
    "import random\n",
    "random.seed(0)\n",
    "import warnings\n",
    "warnings.filterwarnings(\"ignore\")\n",
    "import sys\n",
    "import numpy as np\n",
    "\n",
    "sys.path.append(\"C:/Users/met48/Desktop/Schelling_ML-main/Schelling_ML-main/mesa-examples-main/mesa-examples-main/examples/forest_fire/\") \n",
    "from forest_fire import __init__ as forestFireInit\n",
    "from forest_fire import agent as forestFireAgent\n",
    "from forest_fire import model as forestFireModel\n",
    "\n",
    "sys.path.append(\"C:/Users/met48/Desktop/Schelling_ML-main/Schelling_ML-main/mesa-examples-main/mesa-examples-main/examples/bank_reserves/\") \n",
    "from bank_reserves import random_walk as bankReservesRandomWalk\n",
    "from bank_reserves import agents as bankReservesAgent\n",
    "from bank_reserves import model as bankReservesModel\n",
    "\n",
    "sys.path.append(\"C:/Users/met48/Desktop/Schelling_ML-main/Schelling_ML-main/mesa-examples-main/mesa-examples-main/examples/epstein_civil_violence/\") \n",
    "from epstein_civil_violence import __init__ as epsteinInit\n",
    "from epstein_civil_violence import agent as epsteinCVAgent\n",
    "from epstein_civil_violence import model as epsteinCVModel\n",
    "\n",
    "sys.path.append(\"C:/Users/met48/Desktop/Schelling_ML-main/Schelling_ML-main/mesa-examples-main/mesa-examples-main/examples/sugarscape_g1mt/\") \n",
    "from sugarscape_g1mt import __init__ as sugarscapeInit\n",
    "from sugarscape_g1mt import resource_agents as sugarscapeAgentResource\n",
    "from sugarscape_g1mt import trader_agents as sugarscapeAgentTrader\n",
    "from sugarscape_g1mt import model as sugarscapeModel"
   ]
  },
  {
   "cell_type": "markdown",
   "id": "1c35cef8-c573-4b70-84bc-3ff9dc2e3d8a",
   "metadata": {},
   "source": [
    "# Forest Fire Model "
   ]
  },
  {
   "cell_type": "code",
   "execution_count": 26,
   "id": "de9d7b77-8747-4e2f-bfc7-f155c391ad5e",
   "metadata": {},
   "outputs": [],
   "source": [
    "with open('forest_fire_inputs.csv', 'w', newline='') as forest_fire_inputs, \\\n",
    "    open('forest_fire_outputs_fine.csv', 'w', newline='') as forest_fire_outputs_fine, \\\n",
    "    open('forest_fire_outputs_onfire.csv', 'w', newline='') as forest_fire_outputs_onfire, \\\n",
    "    open('forest_fire_outputs_burned.csv', 'w', newline='') as forest_fire_outputs_burned:\n",
    "    for i in np.arange(100000):\n",
    "        density = random.uniform(0, 1)\n",
    "        fire = forestFireModel.ForestFire(100, 100, density)\n",
    "        fire.run_model()\n",
    "        results = fire.datacollector.get_model_vars_dataframe()\n",
    "        print(density, file=forest_fire_inputs)\n",
    "        print(*results['Fine'].to_list(), file=forest_fire_outputs_fine, sep=\",\")\n",
    "        print(*results['On Fire'].to_list(), file=forest_fire_outputs_onfire, sep=\",\")\n",
    "        print(*results['Burned Out'].to_list(), file=forest_fire_outputs_burned, sep=\",\")\n",
    "forest_fire_inputs.close()\n",
    "forest_fire_outputs_fine.close()\n",
    "forest_fire_outputs_onfire.close()\n",
    "forest_fire_outputs_burned.close()"
   ]
  },
  {
   "cell_type": "markdown",
   "id": "43038b05-a308-411f-abaa-0111cbb79816",
   "metadata": {},
   "source": [
    "# Bank Reserves"
   ]
  },
  {
   "cell_type": "code",
   "execution_count": 27,
   "id": "fb7b6ea8-4e36-4b9a-924d-ea79ea10ce31",
   "metadata": {},
   "outputs": [],
   "source": [
    "# Modified the 'model.py' file to manually set number of steps to 100\n",
    "with open('bank_reserves_inputs.csv', 'w', newline='') as bank_reserves_inputs, \\\n",
    "    open('bank_reserves_outputs_rich.csv', 'w', newline='') as bank_reserves_outputs_rich, \\\n",
    "    open('bank_reserves_outputs_middle.csv', 'w', newline='') as bank_reserves_outputs_middle, \\\n",
    "    open('bank_reserves_outputs_poor.csv', 'w', newline='') as bank_reserves_outputs_poor:\n",
    "    for i in np.arange(100000):\n",
    "        reserve_perc = random.uniform(0,100)\n",
    "        bankRes = bankReservesModel.BankReserves(init_people=500, rich_threshold=10, reserve_percent=reserve_perc)\n",
    "        bankRes.run_model()\n",
    "        results = bankRes.datacollector.get_model_vars_dataframe()\n",
    "        print(reserve_perc, file=bank_reserves_inputs)\n",
    "        print(*results['Rich'].to_list(), file=bank_reserves_outputs_rich, sep=\",\")\n",
    "        print(*results['Middle Class'].to_list(), file=bank_reserves_outputs_middle, sep=\",\")\n",
    "        print(*results['Poor'].to_list(), file=bank_reserves_outputs_poor, sep=\",\")\n",
    "bank_reserves_inputs.close()\n",
    "bank_reserves_outputs_rich.close()\n",
    "bank_reserves_outputs_middle.close()\n",
    "bank_reserves_outputs_poor.close()"
   ]
  },
  {
   "cell_type": "markdown",
   "id": "a38192b0-bc9c-44c3-8d03-f80b8b9a9457",
   "metadata": {},
   "source": [
    "# Epstein Civil Violence"
   ]
  },
  {
   "cell_type": "code",
   "execution_count": 28,
   "id": "baee911e-739b-467e-9a2e-76bc19b29e9c",
   "metadata": {},
   "outputs": [
    {
     "name": "stdout",
     "output_type": "stream",
     "text": [
      "Unexpected exception formatting exception. Falling back to standard exception\n"
     ]
    },
    {
     "name": "stderr",
     "output_type": "stream",
     "text": [
      "Traceback (most recent call last):\n",
      "  File \"C:\\Users\\met48\\AppData\\Local\\anaconda3\\Lib\\site-packages\\IPython\\core\\interactiveshell.py\", line 3553, in run_code\n",
      "    exec(code_obj, self.user_global_ns, self.user_ns)\n",
      "  File \"C:\\Users\\met48\\AppData\\Local\\Temp\\ipykernel_7572\\724531392.py\", line 10, in <module>\n",
      "    bankRes.run_model()\n",
      "  File \"C:\\Users\\met48\\AppData\\Local\\anaconda3\\Lib\\site-packages\\mesa\\model.py\", line 116, in run_model\n",
      "    self.step()\n",
      "  File \"C:\\Users/met48/Desktop/Schelling_ML-main/Schelling_ML-main/mesa-examples-main/mesa-examples-main/examples/epstein_civil_violence\\epstein_civil_violence\\model.py\", line 112, in step\n",
      "    self.schedule.step()\n",
      "  File \"C:\\Users\\met48\\AppData\\Local\\anaconda3\\Lib\\site-packages\\mesa\\time.py\", line 120, in _wrapped_step\n",
      "    self._original_step()\n",
      "  File \"C:\\Users\\met48\\AppData\\Local\\anaconda3\\Lib\\site-packages\\mesa\\time.py\", line 176, in step\n",
      "    self.do_each(\"step\", shuffle=True)\n",
      "  File \"C:\\Users\\met48\\AppData\\Local\\anaconda3\\Lib\\site-packages\\mesa\\time.py\", line 152, in do_each\n",
      "    self._agents.do(method)\n",
      "  File \"C:\\Users\\met48\\AppData\\Local\\anaconda3\\Lib\\site-packages\\mesa\\agent.py\", line 245, in do\n",
      "    res = [\n",
      "          ^\n",
      "  File \"C:\\Users\\met48\\AppData\\Local\\anaconda3\\Lib\\site-packages\\mesa\\agent.py\", line 246, in <listcomp>\n",
      "    getattr(agent, method_name)(*args, **kwargs)\n",
      "  File \"C:\\Users/met48/Desktop/Schelling_ML-main/Schelling_ML-main/mesa-examples-main/mesa-examples-main/examples/epstein_civil_violence\\epstein_civil_violence\\agent.py\", line 78, in step\n",
      "    self.update_neighbors()\n",
      "  File \"C:\\Users/met48/Desktop/Schelling_ML-main/Schelling_ML-main/mesa-examples-main/mesa-examples-main/examples/epstein_civil_violence\\epstein_civil_violence\\agent.py\", line 96, in update_neighbors\n",
      "    self.neighbors = self.model.grid.get_cell_list_contents(self.neighborhood)\n",
      "                     ^^^^^^^^^^^^^^^^^^^^^^^^^^^^^^^^^^^^^^^^^^^^^^^^^^^^^^^^^\n",
      "  File \"C:\\Users\\met48\\AppData\\Local\\anaconda3\\Lib\\site-packages\\mesa\\space.py\", line 64, in wrapper\n",
      "    return wrapped_function(grid_instance, positions)\n",
      "           ^^^^^^^^^^^^^^^^^^^^^^^^^^^^^^^^^^^^^^^^^^\n",
      "  File \"C:\\Users\\met48\\AppData\\Local\\anaconda3\\Lib\\site-packages\\mesa\\space.py\", line 419, in get_cell_list_contents\n",
      "    return list(self.iter_cell_list_contents(cell_list))\n",
      "           ^^^^^^^^^^^^^^^^^^^^^^^^^^^^^^^^^^^^^^^^^^^^^\n",
      "  File \"C:\\Users\\met48\\AppData\\Local\\anaconda3\\Lib\\site-packages\\mesa\\space.py\", line -1, in iter_cell_list_contents\n",
      "KeyboardInterrupt\n",
      "\n",
      "During handling of the above exception, another exception occurred:\n",
      "\n",
      "Traceback (most recent call last):\n",
      "  File \"C:\\Users\\met48\\AppData\\Local\\anaconda3\\Lib\\site-packages\\IPython\\core\\interactiveshell.py\", line 2144, in showtraceback\n",
      "    stb = self.InteractiveTB.structured_traceback(\n",
      "          ^^^^^^^^^^^^^^^^^^^^^^^^^^^^^^^^^^^^^^^^\n",
      "  File \"C:\\Users\\met48\\AppData\\Local\\anaconda3\\Lib\\site-packages\\IPython\\core\\ultratb.py\", line 1435, in structured_traceback\n",
      "    return FormattedTB.structured_traceback(\n",
      "           ^^^^^^^^^^^^^^^^^^^^^^^^^^^^^^^^^\n",
      "  File \"C:\\Users\\met48\\AppData\\Local\\anaconda3\\Lib\\site-packages\\IPython\\core\\ultratb.py\", line 1326, in structured_traceback\n",
      "    return VerboseTB.structured_traceback(\n",
      "           ^^^^^^^^^^^^^^^^^^^^^^^^^^^^^^^\n",
      "  File \"C:\\Users\\met48\\AppData\\Local\\anaconda3\\Lib\\site-packages\\IPython\\core\\ultratb.py\", line 1173, in structured_traceback\n",
      "    formatted_exception = self.format_exception_as_a_whole(etype, evalue, etb, number_of_lines_of_context,\n",
      "                          ^^^^^^^^^^^^^^^^^^^^^^^^^^^^^^^^^^^^^^^^^^^^^^^^^^^^^^^^^^^^^^^^^^^^^^^^^^^^^^^^\n",
      "  File \"C:\\Users\\met48\\AppData\\Local\\anaconda3\\Lib\\site-packages\\IPython\\core\\ultratb.py\", line 1088, in format_exception_as_a_whole\n",
      "    frames.append(self.format_record(record))\n",
      "                  ^^^^^^^^^^^^^^^^^^^^^^^^^^\n",
      "  File \"C:\\Users\\met48\\AppData\\Local\\anaconda3\\Lib\\site-packages\\IPython\\core\\ultratb.py\", line 970, in format_record\n",
      "    frame_info.lines, Colors, self.has_colors, lvals\n",
      "    ^^^^^^^^^^^^^^^^\n",
      "  File \"C:\\Users\\met48\\AppData\\Local\\anaconda3\\Lib\\site-packages\\IPython\\core\\ultratb.py\", line 792, in lines\n",
      "    return self._sd.lines\n",
      "           ^^^^^^^^^^^^^^\n",
      "  File \"C:\\Users\\met48\\AppData\\Local\\anaconda3\\Lib\\site-packages\\stack_data\\utils.py\", line 145, in cached_property_wrapper\n",
      "    value = obj.__dict__[self.func.__name__] = self.func(obj)\n",
      "                                               ^^^^^^^^^^^^^^\n",
      "  File \"C:\\Users\\met48\\AppData\\Local\\anaconda3\\Lib\\site-packages\\stack_data\\core.py\", line 698, in lines\n",
      "    pieces = self.included_pieces\n",
      "             ^^^^^^^^^^^^^^^^^^^^\n",
      "  File \"C:\\Users\\met48\\AppData\\Local\\anaconda3\\Lib\\site-packages\\stack_data\\utils.py\", line 145, in cached_property_wrapper\n",
      "    value = obj.__dict__[self.func.__name__] = self.func(obj)\n",
      "                                               ^^^^^^^^^^^^^^\n",
      "  File \"C:\\Users\\met48\\AppData\\Local\\anaconda3\\Lib\\site-packages\\stack_data\\core.py\", line 649, in included_pieces\n",
      "    pos = scope_pieces.index(self.executing_piece)\n",
      "                             ^^^^^^^^^^^^^^^^^^^^\n",
      "  File \"C:\\Users\\met48\\AppData\\Local\\anaconda3\\Lib\\site-packages\\stack_data\\utils.py\", line 145, in cached_property_wrapper\n",
      "    value = obj.__dict__[self.func.__name__] = self.func(obj)\n",
      "                                               ^^^^^^^^^^^^^^\n",
      "  File \"C:\\Users\\met48\\AppData\\Local\\anaconda3\\Lib\\site-packages\\stack_data\\core.py\", line 628, in executing_piece\n",
      "    return only(\n",
      "           ^^^^^\n",
      "  File \"C:\\Users\\met48\\AppData\\Local\\anaconda3\\Lib\\site-packages\\executing\\executing.py\", line 164, in only\n",
      "    raise NotOneValueFound('Expected one value, found 0')\n",
      "executing.executing.NotOneValueFound: Expected one value, found 0\n"
     ]
    }
   ],
   "source": [
    "with open('epsteinCV_inputs.csv', 'w', newline='') as epsteinCV_inputs, \\\n",
    "    open('epsteinCV_outputs_quiet.csv', 'w', newline='') as epsteinCV_outputs_quiet, \\\n",
    "    open('epsteinCV_outputs_active.csv', 'w', newline='') as epsteinCV_outputs_active, \\\n",
    "    open('epsteinCV_outputs_jailed.csv', 'w', newline='') as epsteinCV_outputs_jailed:\n",
    "    for i in np.arange(100000):\n",
    "        cit_dens = random.uniform(0.5, 1)\n",
    "        cop_dens = random.uniform(0, 1-cit_dens)\n",
    "        leg = random.uniform(0, 1)\n",
    "        bankRes = epsteinCVModel.EpsteinCivilViolence(citizen_density=cit_dens, cop_density=cop_dens, citizen_vision=5, cop_vision=5, legitimacy=leg, max_jail_term=30, active_threshold = 0.1, arrest_prob_constant = 2.3, movement=True, max_iters=250)\n",
    "        bankRes.run_model()\n",
    "        results = bankRes.datacollector.get_model_vars_dataframe()\n",
    "        print(*list([cit_dens, cop_dens, leg]), file=epsteinCV_inputs)\n",
    "        print(*results['Quiescent'].to_list(), file=epsteinCV_outputs_quiet, sep=\",\")\n",
    "        print(*results['Active'].to_list(), file=epsteinCV_outputs_active, sep=\",\")\n",
    "        print(*results['Jailed'].to_list(), file=epsteinCV_outputs_jailed, sep=\",\")\n",
    "epsteinCV_inputs.close()\n",
    "epsteinCV_outputs_quiet.close()\n",
    "epsteinCV_outputs_active.close()\n",
    "epsteinCV_outputs_jailed.close() "
   ]
  },
  {
   "cell_type": "markdown",
   "id": "3f83d734-404a-4800-b76b-e5c01477dbac",
   "metadata": {},
   "source": [
    "# SugarScape"
   ]
  },
  {
   "cell_type": "code",
   "execution_count": 29,
   "id": "fb705114-13b0-47de-bf6a-51c98a74598e",
   "metadata": {},
   "outputs": [
    {
     "ename": "KeyboardInterrupt",
     "evalue": "",
     "output_type": "error",
     "traceback": [
      "\u001b[1;31m---------------------------------------------------------------------------\u001b[0m",
      "\u001b[1;31mKeyboardInterrupt\u001b[0m                         Traceback (most recent call last)",
      "Cell \u001b[1;32mIn[29], line 13\u001b[0m\n\u001b[0;32m     11\u001b[0m metabolism_min \u001b[38;5;241m=\u001b[39m random\u001b[38;5;241m.\u001b[39mrandint(\u001b[38;5;241m1\u001b[39m, metabolism_max)\n\u001b[0;32m     12\u001b[0m sugarScape \u001b[38;5;241m=\u001b[39m sugarscapeModel\u001b[38;5;241m.\u001b[39mSugarscapeG1mt(initial_population\u001b[38;5;241m=\u001b[39m\u001b[38;5;241m200\u001b[39m, endowment_max\u001b[38;5;241m=\u001b[39mendowment_max, endowment_min\u001b[38;5;241m=\u001b[39mendowment_min, vision_max \u001b[38;5;241m=\u001b[39m vision_max, vision_min \u001b[38;5;241m=\u001b[39m vision_min, metabolism_max \u001b[38;5;241m=\u001b[39m metabolism_max, metabolism_min\u001b[38;5;241m=\u001b[39mmetabolism_min)\n\u001b[1;32m---> 13\u001b[0m sugarScape\u001b[38;5;241m.\u001b[39mrun_model()\n\u001b[0;32m     14\u001b[0m results \u001b[38;5;241m=\u001b[39m sugarScape\u001b[38;5;241m.\u001b[39mdatacollector\u001b[38;5;241m.\u001b[39mget_model_vars_dataframe()\n\u001b[0;32m     15\u001b[0m \u001b[38;5;28mprint\u001b[39m(\u001b[38;5;241m*\u001b[39m\u001b[38;5;28mlist\u001b[39m([endowment_max, endowment_min, vision_max, vision_min, metabolism_max, metabolism_min]), file\u001b[38;5;241m=\u001b[39msugarscape_inputs)\n",
      "File \u001b[1;32mC:\\Users/met48/Desktop/Schelling_ML-main/Schelling_ML-main/mesa-examples-main/mesa-examples-main/examples/sugarscape_g1mt\\sugarscape_g1mt\\model.py:207\u001b[0m, in \u001b[0;36mSugarscapeG1mt.run_model\u001b[1;34m(self, step_count)\u001b[0m\n\u001b[0;32m    205\u001b[0m \u001b[38;5;28;01mdef\u001b[39;00m \u001b[38;5;21mrun_model\u001b[39m(\u001b[38;5;28mself\u001b[39m, step_count\u001b[38;5;241m=\u001b[39m\u001b[38;5;241m1000\u001b[39m):\n\u001b[0;32m    206\u001b[0m     \u001b[38;5;28;01mfor\u001b[39;00m i \u001b[38;5;129;01min\u001b[39;00m \u001b[38;5;28mrange\u001b[39m(step_count):\n\u001b[1;32m--> 207\u001b[0m         \u001b[38;5;28mself\u001b[39m\u001b[38;5;241m.\u001b[39mstep()\n",
      "File \u001b[1;32mC:\\Users/met48/Desktop/Schelling_ML-main/Schelling_ML-main/mesa-examples-main/mesa-examples-main/examples/sugarscape_g1mt\\sugarscape_g1mt\\model.py:168\u001b[0m, in \u001b[0;36mSugarscapeG1mt.step\u001b[1;34m(self)\u001b[0m\n\u001b[0;32m    166\u001b[0m agent\u001b[38;5;241m.\u001b[39mprices \u001b[38;5;241m=\u001b[39m []\n\u001b[0;32m    167\u001b[0m agent\u001b[38;5;241m.\u001b[39mtrade_partners \u001b[38;5;241m=\u001b[39m []\n\u001b[1;32m--> 168\u001b[0m agent\u001b[38;5;241m.\u001b[39mmove()\n\u001b[0;32m    169\u001b[0m agent\u001b[38;5;241m.\u001b[39meat()\n\u001b[0;32m    170\u001b[0m agent\u001b[38;5;241m.\u001b[39mmaybe_die()\n",
      "File \u001b[1;32mC:\\Users/met48/Desktop/Schelling_ML-main/Schelling_ML-main/mesa-examples-main/mesa-examples-main/examples/sugarscape_g1mt\\sugarscape_g1mt\\trader_agents.py:258\u001b[0m, in \u001b[0;36mTrader.move\u001b[1;34m(self)\u001b[0m\n\u001b[0;32m    248\u001b[0m neighbors \u001b[38;5;241m=\u001b[39m [\n\u001b[0;32m    249\u001b[0m     i\n\u001b[0;32m    250\u001b[0m     \u001b[38;5;28;01mfor\u001b[39;00m i \u001b[38;5;129;01min\u001b[39;00m \u001b[38;5;28mself\u001b[39m\u001b[38;5;241m.\u001b[39mmodel\u001b[38;5;241m.\u001b[39mgrid\u001b[38;5;241m.\u001b[39mget_neighborhood(\n\u001b[1;32m   (...)\u001b[0m\n\u001b[0;32m    253\u001b[0m     \u001b[38;5;28;01mif\u001b[39;00m \u001b[38;5;129;01mnot\u001b[39;00m \u001b[38;5;28mself\u001b[39m\u001b[38;5;241m.\u001b[39mis_occupied_by_other(i)\n\u001b[0;32m    254\u001b[0m ]\n\u001b[0;32m    256\u001b[0m \u001b[38;5;66;03m# 2. determine which move maximizes welfare\u001b[39;00m\n\u001b[1;32m--> 258\u001b[0m welfares \u001b[38;5;241m=\u001b[39m [\n\u001b[0;32m    259\u001b[0m     \u001b[38;5;28mself\u001b[39m\u001b[38;5;241m.\u001b[39mcalculate_welfare(\n\u001b[0;32m    260\u001b[0m         \u001b[38;5;28mself\u001b[39m\u001b[38;5;241m.\u001b[39msugar \u001b[38;5;241m+\u001b[39m \u001b[38;5;28mself\u001b[39m\u001b[38;5;241m.\u001b[39mget_resource(pos)\u001b[38;5;241m.\u001b[39msugar_amount,\n\u001b[0;32m    261\u001b[0m         \u001b[38;5;28mself\u001b[39m\u001b[38;5;241m.\u001b[39mspice \u001b[38;5;241m+\u001b[39m \u001b[38;5;28mself\u001b[39m\u001b[38;5;241m.\u001b[39mget_resource(pos)\u001b[38;5;241m.\u001b[39mspice_amount,\n\u001b[0;32m    262\u001b[0m     )\n\u001b[0;32m    263\u001b[0m     \u001b[38;5;28;01mfor\u001b[39;00m pos \u001b[38;5;129;01min\u001b[39;00m neighbors\n\u001b[0;32m    264\u001b[0m ]\n\u001b[0;32m    266\u001b[0m \u001b[38;5;66;03m# 3. Find closest best option\u001b[39;00m\n\u001b[0;32m    267\u001b[0m \n\u001b[0;32m    268\u001b[0m \u001b[38;5;66;03m# find the highest welfare in welfares\u001b[39;00m\n\u001b[0;32m    269\u001b[0m max_welfare \u001b[38;5;241m=\u001b[39m \u001b[38;5;28mmax\u001b[39m(welfares)\n",
      "File \u001b[1;32mC:\\Users/met48/Desktop/Schelling_ML-main/Schelling_ML-main/mesa-examples-main/mesa-examples-main/examples/sugarscape_g1mt\\sugarscape_g1mt\\trader_agents.py:260\u001b[0m, in \u001b[0;36m<listcomp>\u001b[1;34m(.0)\u001b[0m\n\u001b[0;32m    248\u001b[0m neighbors \u001b[38;5;241m=\u001b[39m [\n\u001b[0;32m    249\u001b[0m     i\n\u001b[0;32m    250\u001b[0m     \u001b[38;5;28;01mfor\u001b[39;00m i \u001b[38;5;129;01min\u001b[39;00m \u001b[38;5;28mself\u001b[39m\u001b[38;5;241m.\u001b[39mmodel\u001b[38;5;241m.\u001b[39mgrid\u001b[38;5;241m.\u001b[39mget_neighborhood(\n\u001b[1;32m   (...)\u001b[0m\n\u001b[0;32m    253\u001b[0m     \u001b[38;5;28;01mif\u001b[39;00m \u001b[38;5;129;01mnot\u001b[39;00m \u001b[38;5;28mself\u001b[39m\u001b[38;5;241m.\u001b[39mis_occupied_by_other(i)\n\u001b[0;32m    254\u001b[0m ]\n\u001b[0;32m    256\u001b[0m \u001b[38;5;66;03m# 2. determine which move maximizes welfare\u001b[39;00m\n\u001b[0;32m    258\u001b[0m welfares \u001b[38;5;241m=\u001b[39m [\n\u001b[0;32m    259\u001b[0m     \u001b[38;5;28mself\u001b[39m\u001b[38;5;241m.\u001b[39mcalculate_welfare(\n\u001b[1;32m--> 260\u001b[0m         \u001b[38;5;28mself\u001b[39m\u001b[38;5;241m.\u001b[39msugar \u001b[38;5;241m+\u001b[39m \u001b[38;5;28mself\u001b[39m\u001b[38;5;241m.\u001b[39mget_resource(pos)\u001b[38;5;241m.\u001b[39msugar_amount,\n\u001b[0;32m    261\u001b[0m         \u001b[38;5;28mself\u001b[39m\u001b[38;5;241m.\u001b[39mspice \u001b[38;5;241m+\u001b[39m \u001b[38;5;28mself\u001b[39m\u001b[38;5;241m.\u001b[39mget_resource(pos)\u001b[38;5;241m.\u001b[39mspice_amount,\n\u001b[0;32m    262\u001b[0m     )\n\u001b[0;32m    263\u001b[0m     \u001b[38;5;28;01mfor\u001b[39;00m pos \u001b[38;5;129;01min\u001b[39;00m neighbors\n\u001b[0;32m    264\u001b[0m ]\n\u001b[0;32m    266\u001b[0m \u001b[38;5;66;03m# 3. Find closest best option\u001b[39;00m\n\u001b[0;32m    267\u001b[0m \n\u001b[0;32m    268\u001b[0m \u001b[38;5;66;03m# find the highest welfare in welfares\u001b[39;00m\n\u001b[0;32m    269\u001b[0m max_welfare \u001b[38;5;241m=\u001b[39m \u001b[38;5;28mmax\u001b[39m(welfares)\n",
      "File \u001b[1;32mC:\\Users/met48/Desktop/Schelling_ML-main/Schelling_ML-main/mesa-examples-main/mesa-examples-main/examples/sugarscape_g1mt\\sugarscape_g1mt\\trader_agents.py:54\u001b[0m, in \u001b[0;36mTrader.get_resource\u001b[1;34m(self, pos)\u001b[0m\n\u001b[0;32m     53\u001b[0m \u001b[38;5;28;01mdef\u001b[39;00m \u001b[38;5;21mget_resource\u001b[39m(\u001b[38;5;28mself\u001b[39m, pos):\n\u001b[1;32m---> 54\u001b[0m     this_cell \u001b[38;5;241m=\u001b[39m \u001b[38;5;28mself\u001b[39m\u001b[38;5;241m.\u001b[39mmodel\u001b[38;5;241m.\u001b[39mgrid\u001b[38;5;241m.\u001b[39mget_cell_list_contents(pos)\n\u001b[0;32m     55\u001b[0m     \u001b[38;5;28;01mfor\u001b[39;00m agent \u001b[38;5;129;01min\u001b[39;00m this_cell:\n\u001b[0;32m     56\u001b[0m         \u001b[38;5;28;01mif\u001b[39;00m \u001b[38;5;28mtype\u001b[39m(agent) \u001b[38;5;129;01mis\u001b[39;00m Resource:\n",
      "File \u001b[1;32m~\\AppData\\Local\\anaconda3\\Lib\\site-packages\\mesa\\space.py:64\u001b[0m, in \u001b[0;36maccept_tuple_argument.<locals>.wrapper\u001b[1;34m(grid_instance, positions)\u001b[0m\n\u001b[0;32m     62\u001b[0m \u001b[38;5;28;01mif\u001b[39;00m \u001b[38;5;28mlen\u001b[39m(positions) \u001b[38;5;241m==\u001b[39m \u001b[38;5;241m2\u001b[39m \u001b[38;5;129;01mand\u001b[39;00m \u001b[38;5;129;01mnot\u001b[39;00m \u001b[38;5;28misinstance\u001b[39m(positions[\u001b[38;5;241m0\u001b[39m], \u001b[38;5;28mtuple\u001b[39m):\n\u001b[0;32m     63\u001b[0m     positions \u001b[38;5;241m=\u001b[39m [positions]\n\u001b[1;32m---> 64\u001b[0m \u001b[38;5;28;01mreturn\u001b[39;00m wrapped_function(grid_instance, positions)\n",
      "File \u001b[1;32m~\\AppData\\Local\\anaconda3\\Lib\\site-packages\\mesa\\space.py:419\u001b[0m, in \u001b[0;36m_Grid.get_cell_list_contents\u001b[1;34m(self, cell_list)\u001b[0m\n\u001b[0;32m    408\u001b[0m \u001b[38;5;129m@accept_tuple_argument\u001b[39m\n\u001b[0;32m    409\u001b[0m \u001b[38;5;28;01mdef\u001b[39;00m \u001b[38;5;21mget_cell_list_contents\u001b[39m(\u001b[38;5;28mself\u001b[39m, cell_list: Iterable[Coordinate]) \u001b[38;5;241m-\u001b[39m\u001b[38;5;241m>\u001b[39m \u001b[38;5;28mlist\u001b[39m[Agent]:\n\u001b[0;32m    410\u001b[0m \u001b[38;5;250m    \u001b[39m\u001b[38;5;124;03m\"\"\"Returns an iterator of the agents contained in the cells identified\u001b[39;00m\n\u001b[0;32m    411\u001b[0m \u001b[38;5;124;03m    in `cell_list`; cells with empty content are excluded.\u001b[39;00m\n\u001b[0;32m    412\u001b[0m \n\u001b[1;32m   (...)\u001b[0m\n\u001b[0;32m    417\u001b[0m \u001b[38;5;124;03m        A list of the agents contained in the cells identified in `cell_list`.\u001b[39;00m\n\u001b[0;32m    418\u001b[0m \u001b[38;5;124;03m    \"\"\"\u001b[39;00m\n\u001b[1;32m--> 419\u001b[0m     \u001b[38;5;28;01mreturn\u001b[39;00m \u001b[38;5;28mlist\u001b[39m(\u001b[38;5;28mself\u001b[39m\u001b[38;5;241m.\u001b[39miter_cell_list_contents(cell_list))\n",
      "\u001b[1;31mKeyboardInterrupt\u001b[0m: "
     ]
    }
   ],
   "source": [
    "with open('sugarscape_inputs.csv', 'w', newline='') as sugarscape_inputs, \\\n",
    "    open('sugarscape_outputs_trader.csv', 'w', newline='') as sugarscape_outputs_trader, \\\n",
    "    open('sugarscape_outputs_tradeVol.csv', 'w', newline='') as sugarscape_outputs_tradeVol, \\\n",
    "    open('sugarscape_outputs_price.csv', 'w', newline='') as sugarscape_outputs_price:\n",
    "    for i in np.arange(1):\n",
    "        endowment_maxv = random.randint(2, 80)\n",
    "        endowment_minv = random.randint(1, endowment_max)\n",
    "        vision_maxv = random.randint(2, 10)\n",
    "        vision_minv = random.randint(1, vision_max)\n",
    "        metabolism_maxv = random.randint(2, 10)\n",
    "        metabolism_minv = random.randint(1, metabolism_max)\n",
    "        sugarScape = sugarscapeModel.SugarscapeG1mt(initial_population=200, endowment_max=endowment_maxv, endowment_min=endowment_minv, vision_max = vision_maxv, vision_min = vision_minv, metabolism_max = metabolism_maxv, metabolism_min=metabolism_minv)\n",
    "        sugarScape.run_model()\n",
    "        results = sugarScape.datacollector.get_model_vars_dataframe()\n",
    "        print(*list([endowment_maxv, endowment_minv, vision_maxv, vision_minv, metabolism_maxv, metabolism_minv]), file=sugarscape_inputs)\n",
    "        print(*results['Trader'].to_list(), file=sugarscape_outputs_trader, sep=\",\")\n",
    "        print(*results['Trade Volume'].to_list(), file=sugarscape_outputs_tradeVol, sep=\",\")\n",
    "        print(*results['Price'].to_list(), file=sugarscape_outputs_price, sep=\",\")\n",
    "sugarscape_inputs.close()\n",
    "sugarscape_outputs_trader.close()\n",
    "sugarscape_outputs_tradeVol.close()\n",
    "sugarscape_outputs_price.close() "
   ]
  },
  {
   "cell_type": "code",
   "execution_count": null,
   "id": "f8064e4d-de40-4a1d-beba-89f89a99742e",
   "metadata": {},
   "outputs": [],
   "source": []
  }
 ],
 "metadata": {
  "kernelspec": {
   "display_name": "Python 3 (ipykernel)",
   "language": "python",
   "name": "python3"
  },
  "language_info": {
   "codemirror_mode": {
    "name": "ipython",
    "version": 3
   },
   "file_extension": ".py",
   "mimetype": "text/x-python",
   "name": "python",
   "nbconvert_exporter": "python",
   "pygments_lexer": "ipython3",
   "version": "3.11.5"
  }
 },
 "nbformat": 4,
 "nbformat_minor": 5
}
