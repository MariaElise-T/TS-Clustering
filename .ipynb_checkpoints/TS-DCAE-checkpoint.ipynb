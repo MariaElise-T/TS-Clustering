{
 "cells": [
  {
   "cell_type": "code",
   "execution_count": 1,
   "id": "7d9851c8-e820-4dba-bd80-4d5ab79a639a",
   "metadata": {},
   "outputs": [],
   "source": [
    "from keras.models import Model \n",
    "from keras.layers import Input, Convolution2D, MaxPooling2D, Dense, Dropout, Flatten, Dense, Dropout, Flatten, Conv2D, MaxPooling2D\n",
    "import np_utils\n",
    "import numpy as np\n",
    "import pandas as pd\n",
    "from keras.callbacks import EarlyStopping\n",
    "from keras.models import Sequential\n",
    "from keras.optimizers import Adam\n",
    "from keras.utils import to_categorical\n",
    "import os"
   ]
  },
  {
   "cell_type": "code",
   "execution_count": null,
   "id": "28ea168a-3d9a-41a7-8242-950bbc4d1da2",
   "metadata": {},
   "outputs": [],
   "source": [
    "poor = pd.read_csv(\"SimData/bank_reserves_outputs_poor.csv\", header=None)\n",
    "middle = pd.read_csv(\"SimData/bank_reserves_outputs_middle.csv\", header=None)\n",
    "rich = pd.read_csv(\"SimData/bank_reserves_outputs_rich.csv\", header=None)\n",
    "sc = StandardScaler()\n",
    "bank_reserves = []\n",
    "bank_reserves_std = []\n",
    "for i in np.arange(0, poor.shape[0]):\n",
    "    if(i % 500==0):\n",
    "        print(\"On iteration \", i, \"at \", datetime.datetime.now())\n",
    "    sample = pd.concat((poor.iloc[i], middle.iloc[i]), axis=1)\n",
    "    sample = pd.concat((sample, rich.iloc[i]), axis=1)\n",
    "    sample_std = sc.fit_transform(sample)\n",
    "    bank_reserves.append(sample)\n",
    "    bank_reserves_std.append(sample_std)"
   ]
  },
  {
   "cell_type": "code",
   "execution_count": 26,
   "id": "b9c3ebc3-ccc0-42ae-9827-473d303c83f8",
   "metadata": {},
   "outputs": [
    {
     "data": {
      "text/html": [
       "<pre style=\"white-space:pre;overflow-x:auto;line-height:normal;font-family:Menlo,'DejaVu Sans Mono',consolas,'Courier New',monospace\"><span style=\"font-weight: bold\">Model: \"functional_1\"</span>\n",
       "</pre>\n"
      ],
      "text/plain": [
       "\u001b[1mModel: \"functional_1\"\u001b[0m\n"
      ]
     },
     "metadata": {},
     "output_type": "display_data"
    },
    {
     "data": {
      "text/html": [
       "<pre style=\"white-space:pre;overflow-x:auto;line-height:normal;font-family:Menlo,'DejaVu Sans Mono',consolas,'Courier New',monospace\">┏━━━━━━━━━━━━━━━━━━━━━━━━━━━━━━━━━┳━━━━━━━━━━━━━━━━━━━━━━━━┳━━━━━━━━━━━━━━━┓\n",
       "┃<span style=\"font-weight: bold\"> Layer (type)                    </span>┃<span style=\"font-weight: bold\"> Output Shape           </span>┃<span style=\"font-weight: bold\">       Param # </span>┃\n",
       "┡━━━━━━━━━━━━━━━━━━━━━━━━━━━━━━━━━╇━━━━━━━━━━━━━━━━━━━━━━━━╇━━━━━━━━━━━━━━━┩\n",
       "│ input_layer_1 (<span style=\"color: #0087ff; text-decoration-color: #0087ff\">InputLayer</span>)      │ (<span style=\"color: #00d7ff; text-decoration-color: #00d7ff\">None</span>, <span style=\"color: #00af00; text-decoration-color: #00af00\">784</span>)            │             <span style=\"color: #00af00; text-decoration-color: #00af00\">0</span> │\n",
       "├─────────────────────────────────┼────────────────────────┼───────────────┤\n",
       "│ dense_6 (<span style=\"color: #0087ff; text-decoration-color: #0087ff\">Dense</span>)                 │ (<span style=\"color: #00d7ff; text-decoration-color: #00d7ff\">None</span>, <span style=\"color: #00af00; text-decoration-color: #00af00\">30</span>)             │        <span style=\"color: #00af00; text-decoration-color: #00af00\">23,550</span> │\n",
       "├─────────────────────────────────┼────────────────────────┼───────────────┤\n",
       "│ dense_7 (<span style=\"color: #0087ff; text-decoration-color: #0087ff\">Dense</span>)                 │ (<span style=\"color: #00d7ff; text-decoration-color: #00d7ff\">None</span>, <span style=\"color: #00af00; text-decoration-color: #00af00\">20</span>)             │           <span style=\"color: #00af00; text-decoration-color: #00af00\">620</span> │\n",
       "├─────────────────────────────────┼────────────────────────┼───────────────┤\n",
       "│ dense_8 (<span style=\"color: #0087ff; text-decoration-color: #0087ff\">Dense</span>)                 │ (<span style=\"color: #00d7ff; text-decoration-color: #00d7ff\">None</span>, <span style=\"color: #00af00; text-decoration-color: #00af00\">10</span>)             │           <span style=\"color: #00af00; text-decoration-color: #00af00\">210</span> │\n",
       "├─────────────────────────────────┼────────────────────────┼───────────────┤\n",
       "│ dense_9 (<span style=\"color: #0087ff; text-decoration-color: #0087ff\">Dense</span>)                 │ (<span style=\"color: #00d7ff; text-decoration-color: #00d7ff\">None</span>, <span style=\"color: #00af00; text-decoration-color: #00af00\">10</span>)             │           <span style=\"color: #00af00; text-decoration-color: #00af00\">110</span> │\n",
       "├─────────────────────────────────┼────────────────────────┼───────────────┤\n",
       "│ dense_10 (<span style=\"color: #0087ff; text-decoration-color: #0087ff\">Dense</span>)                │ (<span style=\"color: #00d7ff; text-decoration-color: #00d7ff\">None</span>, <span style=\"color: #00af00; text-decoration-color: #00af00\">20</span>)             │           <span style=\"color: #00af00; text-decoration-color: #00af00\">220</span> │\n",
       "├─────────────────────────────────┼────────────────────────┼───────────────┤\n",
       "│ dense_11 (<span style=\"color: #0087ff; text-decoration-color: #0087ff\">Dense</span>)                │ (<span style=\"color: #00d7ff; text-decoration-color: #00d7ff\">None</span>, <span style=\"color: #00af00; text-decoration-color: #00af00\">30</span>)             │           <span style=\"color: #00af00; text-decoration-color: #00af00\">630</span> │\n",
       "├─────────────────────────────────┼────────────────────────┼───────────────┤\n",
       "│ dense_12 (<span style=\"color: #0087ff; text-decoration-color: #0087ff\">Dense</span>)                │ (<span style=\"color: #00d7ff; text-decoration-color: #00d7ff\">None</span>, <span style=\"color: #00af00; text-decoration-color: #00af00\">30</span>)             │           <span style=\"color: #00af00; text-decoration-color: #00af00\">930</span> │\n",
       "└─────────────────────────────────┴────────────────────────┴───────────────┘\n",
       "</pre>\n"
      ],
      "text/plain": [
       "┏━━━━━━━━━━━━━━━━━━━━━━━━━━━━━━━━━┳━━━━━━━━━━━━━━━━━━━━━━━━┳━━━━━━━━━━━━━━━┓\n",
       "┃\u001b[1m \u001b[0m\u001b[1mLayer (type)                   \u001b[0m\u001b[1m \u001b[0m┃\u001b[1m \u001b[0m\u001b[1mOutput Shape          \u001b[0m\u001b[1m \u001b[0m┃\u001b[1m \u001b[0m\u001b[1m      Param #\u001b[0m\u001b[1m \u001b[0m┃\n",
       "┡━━━━━━━━━━━━━━━━━━━━━━━━━━━━━━━━━╇━━━━━━━━━━━━━━━━━━━━━━━━╇━━━━━━━━━━━━━━━┩\n",
       "│ input_layer_1 (\u001b[38;5;33mInputLayer\u001b[0m)      │ (\u001b[38;5;45mNone\u001b[0m, \u001b[38;5;34m784\u001b[0m)            │             \u001b[38;5;34m0\u001b[0m │\n",
       "├─────────────────────────────────┼────────────────────────┼───────────────┤\n",
       "│ dense_6 (\u001b[38;5;33mDense\u001b[0m)                 │ (\u001b[38;5;45mNone\u001b[0m, \u001b[38;5;34m30\u001b[0m)             │        \u001b[38;5;34m23,550\u001b[0m │\n",
       "├─────────────────────────────────┼────────────────────────┼───────────────┤\n",
       "│ dense_7 (\u001b[38;5;33mDense\u001b[0m)                 │ (\u001b[38;5;45mNone\u001b[0m, \u001b[38;5;34m20\u001b[0m)             │           \u001b[38;5;34m620\u001b[0m │\n",
       "├─────────────────────────────────┼────────────────────────┼───────────────┤\n",
       "│ dense_8 (\u001b[38;5;33mDense\u001b[0m)                 │ (\u001b[38;5;45mNone\u001b[0m, \u001b[38;5;34m10\u001b[0m)             │           \u001b[38;5;34m210\u001b[0m │\n",
       "├─────────────────────────────────┼────────────────────────┼───────────────┤\n",
       "│ dense_9 (\u001b[38;5;33mDense\u001b[0m)                 │ (\u001b[38;5;45mNone\u001b[0m, \u001b[38;5;34m10\u001b[0m)             │           \u001b[38;5;34m110\u001b[0m │\n",
       "├─────────────────────────────────┼────────────────────────┼───────────────┤\n",
       "│ dense_10 (\u001b[38;5;33mDense\u001b[0m)                │ (\u001b[38;5;45mNone\u001b[0m, \u001b[38;5;34m20\u001b[0m)             │           \u001b[38;5;34m220\u001b[0m │\n",
       "├─────────────────────────────────┼────────────────────────┼───────────────┤\n",
       "│ dense_11 (\u001b[38;5;33mDense\u001b[0m)                │ (\u001b[38;5;45mNone\u001b[0m, \u001b[38;5;34m30\u001b[0m)             │           \u001b[38;5;34m630\u001b[0m │\n",
       "├─────────────────────────────────┼────────────────────────┼───────────────┤\n",
       "│ dense_12 (\u001b[38;5;33mDense\u001b[0m)                │ (\u001b[38;5;45mNone\u001b[0m, \u001b[38;5;34m30\u001b[0m)             │           \u001b[38;5;34m930\u001b[0m │\n",
       "└─────────────────────────────────┴────────────────────────┴───────────────┘\n"
      ]
     },
     "metadata": {},
     "output_type": "display_data"
    },
    {
     "data": {
      "text/html": [
       "<pre style=\"white-space:pre;overflow-x:auto;line-height:normal;font-family:Menlo,'DejaVu Sans Mono',consolas,'Courier New',monospace\"><span style=\"font-weight: bold\"> Total params: </span><span style=\"color: #00af00; text-decoration-color: #00af00\">26,270</span> (102.62 KB)\n",
       "</pre>\n"
      ],
      "text/plain": [
       "\u001b[1m Total params: \u001b[0m\u001b[38;5;34m26,270\u001b[0m (102.62 KB)\n"
      ]
     },
     "metadata": {},
     "output_type": "display_data"
    },
    {
     "data": {
      "text/html": [
       "<pre style=\"white-space:pre;overflow-x:auto;line-height:normal;font-family:Menlo,'DejaVu Sans Mono',consolas,'Courier New',monospace\"><span style=\"font-weight: bold\"> Trainable params: </span><span style=\"color: #00af00; text-decoration-color: #00af00\">26,270</span> (102.62 KB)\n",
       "</pre>\n"
      ],
      "text/plain": [
       "\u001b[1m Trainable params: \u001b[0m\u001b[38;5;34m26,270\u001b[0m (102.62 KB)\n"
      ]
     },
     "metadata": {},
     "output_type": "display_data"
    },
    {
     "data": {
      "text/html": [
       "<pre style=\"white-space:pre;overflow-x:auto;line-height:normal;font-family:Menlo,'DejaVu Sans Mono',consolas,'Courier New',monospace\"><span style=\"font-weight: bold\"> Non-trainable params: </span><span style=\"color: #00af00; text-decoration-color: #00af00\">0</span> (0.00 B)\n",
       "</pre>\n"
      ],
      "text/plain": [
       "\u001b[1m Non-trainable params: \u001b[0m\u001b[38;5;34m0\u001b[0m (0.00 B)\n"
      ]
     },
     "metadata": {},
     "output_type": "display_data"
    }
   ],
   "source": [
    "input = Input(shape=(303,))\n",
    "\n",
    "encoded = Conv1D(filters=10, kernel_size=32, activation='relu')(input)\n",
    "encoded = Conv1D(filters=10, kernel_size=64, activation='relu')(encoded)\n",
    "encoded = Conv1D(filters=10, kernel_size=128, activation='relu')(encoded)\n",
    "decoded = Conv1D(filters=10, kernel_size=128, activation='relu')(encoded)\n",
    "\n",
    "encoded = Dense(384, activation='relu')(encoded)\n",
    "decoded = Dense(5, activation='relu')(encoded)\n",
    "decoded = Dense(384, activation='relu')(decoded)\n",
    "\n",
    "decoded = Conv1DTranspose(filters=10, kernel_size=128, activation='relu')(decoded)\n",
    "decoded = Conv1DTranspose(filters=10, kernel_size=128, activation='relu')(decoded)\n",
    "decoded = Conv1DTranspose(filters=10, kernel_size=64, activation='relu')(decoded)\n",
    "decoded = Conv1DTranspose(filters=10, kernel_size=32, activation='relu')(decoded)\n",
    "\n",
    "autoencoder = Model(input, decoded)\n",
    "autoencoder.summary()"
   ]
  },
  {
   "cell_type": "code",
   "execution_count": 17,
   "id": "aec8a75c-756a-4878-9d19-95c1a2e2e006",
   "metadata": {},
   "outputs": [],
   "source": [
    "autoencoder.compile(optimizer='adam', loss='binary_crossentropy')"
   ]
  },
  {
   "cell_type": "code",
   "execution_count": 18,
   "id": "10638d78-649c-4a48-aec7-cd98eb1cbc39",
   "metadata": {},
   "outputs": [
    {
     "name": "stdout",
     "output_type": "stream",
     "text": [
      "Epoch 1/20\n",
      "\u001b[1m235/235\u001b[0m \u001b[32m━━━━━━━━━━━━━━━━━━━━\u001b[0m\u001b[37m\u001b[0m \u001b[1m2s\u001b[0m 5ms/step - loss: 0.3400 - val_loss: 0.1673\n",
      "Epoch 2/20\n",
      "\u001b[1m235/235\u001b[0m \u001b[32m━━━━━━━━━━━━━━━━━━━━\u001b[0m\u001b[37m\u001b[0m \u001b[1m1s\u001b[0m 4ms/step - loss: 0.1591 - val_loss: 0.1358\n",
      "Epoch 3/20\n",
      "\u001b[1m235/235\u001b[0m \u001b[32m━━━━━━━━━━━━━━━━━━━━\u001b[0m\u001b[37m\u001b[0m \u001b[1m1s\u001b[0m 4ms/step - loss: 0.1331 - val_loss: 0.1230\n",
      "Epoch 4/20\n",
      "\u001b[1m235/235\u001b[0m \u001b[32m━━━━━━━━━━━━━━━━━━━━\u001b[0m\u001b[37m\u001b[0m \u001b[1m1s\u001b[0m 4ms/step - loss: 0.1226 - val_loss: 0.1163\n",
      "Epoch 5/20\n",
      "\u001b[1m235/235\u001b[0m \u001b[32m━━━━━━━━━━━━━━━━━━━━\u001b[0m\u001b[37m\u001b[0m \u001b[1m1s\u001b[0m 5ms/step - loss: 0.1163 - val_loss: 0.1110\n",
      "Epoch 6/20\n",
      "\u001b[1m235/235\u001b[0m \u001b[32m━━━━━━━━━━━━━━━━━━━━\u001b[0m\u001b[37m\u001b[0m \u001b[1m1s\u001b[0m 5ms/step - loss: 0.1116 - val_loss: 0.1084\n",
      "Epoch 7/20\n",
      "\u001b[1m235/235\u001b[0m \u001b[32m━━━━━━━━━━━━━━━━━━━━\u001b[0m\u001b[37m\u001b[0m \u001b[1m1s\u001b[0m 5ms/step - loss: 0.1087 - val_loss: 0.1058\n",
      "Epoch 8/20\n",
      "\u001b[1m235/235\u001b[0m \u001b[32m━━━━━━━━━━━━━━━━━━━━\u001b[0m\u001b[37m\u001b[0m \u001b[1m1s\u001b[0m 5ms/step - loss: 0.1061 - val_loss: 0.1031\n",
      "Epoch 9/20\n",
      "\u001b[1m235/235\u001b[0m \u001b[32m━━━━━━━━━━━━━━━━━━━━\u001b[0m\u001b[37m\u001b[0m \u001b[1m1s\u001b[0m 5ms/step - loss: 0.1037 - val_loss: 0.1008\n",
      "Epoch 10/20\n",
      "\u001b[1m235/235\u001b[0m \u001b[32m━━━━━━━━━━━━━━━━━━━━\u001b[0m\u001b[37m\u001b[0m \u001b[1m1s\u001b[0m 4ms/step - loss: 0.1013 - val_loss: 0.0992\n",
      "Epoch 11/20\n",
      "\u001b[1m235/235\u001b[0m \u001b[32m━━━━━━━━━━━━━━━━━━━━\u001b[0m\u001b[37m\u001b[0m \u001b[1m1s\u001b[0m 4ms/step - loss: 0.0997 - val_loss: 0.0975\n",
      "Epoch 12/20\n",
      "\u001b[1m235/235\u001b[0m \u001b[32m━━━━━━━━━━━━━━━━━━━━\u001b[0m\u001b[37m\u001b[0m \u001b[1m1s\u001b[0m 4ms/step - loss: 0.0984 - val_loss: 0.0964\n",
      "Epoch 13/20\n",
      "\u001b[1m235/235\u001b[0m \u001b[32m━━━━━━━━━━━━━━━━━━━━\u001b[0m\u001b[37m\u001b[0m \u001b[1m1s\u001b[0m 4ms/step - loss: 0.0970 - val_loss: 0.0952\n",
      "Epoch 14/20\n",
      "\u001b[1m235/235\u001b[0m \u001b[32m━━━━━━━━━━━━━━━━━━━━\u001b[0m\u001b[37m\u001b[0m \u001b[1m1s\u001b[0m 4ms/step - loss: 0.0960 - val_loss: 0.0943\n",
      "Epoch 15/20\n",
      "\u001b[1m235/235\u001b[0m \u001b[32m━━━━━━━━━━━━━━━━━━━━\u001b[0m\u001b[37m\u001b[0m \u001b[1m1s\u001b[0m 4ms/step - loss: 0.0948 - val_loss: 0.0939\n",
      "Epoch 16/20\n",
      "\u001b[1m235/235\u001b[0m \u001b[32m━━━━━━━━━━━━━━━━━━━━\u001b[0m\u001b[37m\u001b[0m \u001b[1m1s\u001b[0m 4ms/step - loss: 0.0945 - val_loss: 0.0930\n",
      "Epoch 17/20\n",
      "\u001b[1m235/235\u001b[0m \u001b[32m━━━━━━━━━━━━━━━━━━━━\u001b[0m\u001b[37m\u001b[0m \u001b[1m1s\u001b[0m 4ms/step - loss: 0.0933 - val_loss: 0.0919\n",
      "Epoch 18/20\n",
      "\u001b[1m235/235\u001b[0m \u001b[32m━━━━━━━━━━━━━━━━━━━━\u001b[0m\u001b[37m\u001b[0m \u001b[1m1s\u001b[0m 4ms/step - loss: 0.0930 - val_loss: 0.0917\n",
      "Epoch 19/20\n",
      "\u001b[1m235/235\u001b[0m \u001b[32m━━━━━━━━━━━━━━━━━━━━\u001b[0m\u001b[37m\u001b[0m \u001b[1m1s\u001b[0m 4ms/step - loss: 0.0925 - val_loss: 0.0910\n",
      "Epoch 20/20\n",
      "\u001b[1m235/235\u001b[0m \u001b[32m━━━━━━━━━━━━━━━━━━━━\u001b[0m\u001b[37m\u001b[0m \u001b[1m1s\u001b[0m 4ms/step - loss: 0.0917 - val_loss: 0.0905\n"
     ]
    },
    {
     "data": {
      "text/plain": [
       "<keras.src.callbacks.history.History at 0x139e50b4650>"
      ]
     },
     "execution_count": 18,
     "metadata": {},
     "output_type": "execute_result"
    }
   ],
   "source": [
    "autoencoder.fit(x_train, x_train,\n",
    " epochs=20,\n",
    " batch_size=256,\n",
    " shuffle=True,\n",
    " validation_data=(x_test, x_test))"
   ]
  },
  {
   "cell_type": "code",
   "execution_count": 19,
   "id": "ac6772c3-5d0d-46b5-9529-903e2a2901e4",
   "metadata": {},
   "outputs": [
    {
     "name": "stdout",
     "output_type": "stream",
     "text": [
      "\u001b[1m313/313\u001b[0m \u001b[32m━━━━━━━━━━━━━━━━━━━━\u001b[0m\u001b[37m\u001b[0m \u001b[1m0s\u001b[0m 968us/step\n",
      "\u001b[1m313/313\u001b[0m \u001b[32m━━━━━━━━━━━━━━━━━━━━\u001b[0m\u001b[37m\u001b[0m \u001b[1m0s\u001b[0m 827us/step\n"
     ]
    },
    {
     "data": {
      "text/plain": [
       "(784,)"
      ]
     },
     "execution_count": 19,
     "metadata": {},
     "output_type": "execute_result"
    }
   ],
   "source": [
    "# encode and decode some digits\n",
    "# note that we take them from the *test* set\n",
    "encoded_imgs = autoencoder.predict(x_test)\n",
    "decoded_imgs = autoencoder.predict(encoded_imgs)\n",
    "encoded_imgs[0].shape"
   ]
  },
  {
   "cell_type": "code",
   "execution_count": 25,
   "id": "f07f9b9b-455a-4ef8-b283-79adcdd86f01",
   "metadata": {},
   "outputs": [
    {
     "data": {
      "text/plain": [
       "array([5.41694033e-12, 2.88966686e-13, 1.32832677e-12, 3.21480174e-13,\n",
       "       1.90982827e-10, 3.52696455e-14, 1.04270488e-12, 7.03432364e-12,\n",
       "       1.09835177e-12, 5.80059742e-12, 2.52220093e-13, 2.20588283e-12,\n",
       "       7.89207755e-10, 1.40338327e-12, 1.89377001e-14, 2.44469115e-12,\n",
       "       8.26794796e-12, 4.62759334e-13, 2.51384174e-11, 2.12008622e-12,\n",
       "       1.07103718e-13, 2.13619417e-11, 4.78587656e-13, 4.87897873e-12,\n",
       "       1.86328817e-12, 1.78015404e-12, 5.38730649e-12, 5.34545010e-13,\n",
       "       4.89750168e-13, 3.34637401e-13, 1.79254506e-13, 2.12937892e-12,\n",
       "       1.06172529e-10, 8.49495225e-13, 3.07269654e-10, 7.38391848e-10,\n",
       "       1.71481296e-09, 1.87491017e-12, 1.99505239e-11, 1.19663862e-10,\n",
       "       2.24297642e-12, 3.34000168e-14, 1.79949221e-17, 2.42300330e-19,\n",
       "       4.14213107e-17, 2.19781289e-18, 2.84282517e-18, 1.10552193e-18,\n",
       "       7.79775487e-17, 1.57692381e-13, 1.60540192e-10, 3.55180285e-09,\n",
       "       1.42398402e-11, 5.09821298e-13, 1.10856788e-12, 2.12619037e-11,\n",
       "       2.41322045e-12, 3.83844102e-11, 6.18359964e-13, 1.62757280e-10,\n",
       "       4.28424726e-11, 1.02675524e-11, 2.00798697e-10, 1.14936274e-08,\n",
       "       1.76500365e-07, 7.57949881e-09, 4.22951310e-08, 6.07015664e-08,\n",
       "       1.65237196e-07, 1.04705265e-10, 1.59095895e-14, 2.06425933e-19,\n",
       "       4.70594036e-20, 1.29137150e-19, 2.38415683e-18, 3.48016887e-17,\n",
       "       1.92458856e-16, 3.61674720e-13, 6.45679387e-12, 6.90112334e-12,\n",
       "       8.59138390e-13, 4.05475572e-16, 1.41137387e-13, 8.22146344e-12,\n",
       "       2.84739626e-13, 2.25526694e-12, 1.59998642e-12, 2.62228395e-09,\n",
       "       4.50413218e-08, 4.88082144e-08, 2.17931930e-08, 1.06098376e-07,\n",
       "       2.47890330e-06, 2.58513467e-07, 3.89341679e-08, 1.72070884e-07,\n",
       "       2.99745118e-09, 2.91485100e-11, 5.72172857e-14, 2.17181026e-14,\n",
       "       3.10075723e-13, 2.89213152e-13, 4.71716362e-13, 2.23886241e-14,\n",
       "       3.10791106e-12, 5.83152832e-11, 3.73740844e-10, 1.19193865e-11,\n",
       "       6.63788198e-13, 1.78929222e-14, 1.70712175e-12, 7.30124208e-12,\n",
       "       8.81374617e-13, 6.24253138e-09, 7.14444753e-11, 6.83948144e-07,\n",
       "       2.09190625e-06, 1.42362717e-06, 1.47652543e-06, 2.84144130e-06,\n",
       "       1.41597702e-05, 9.11975876e-05, 4.34421963e-05, 4.53716939e-06,\n",
       "       3.05221505e-07, 1.20045018e-09, 1.19314031e-10, 2.31780525e-10,\n",
       "       1.01464656e-10, 3.11161817e-12, 1.82290001e-13, 1.46338215e-12,\n",
       "       1.00183872e-11, 9.15597945e-11, 3.67678044e-09, 2.33895570e-08,\n",
       "       3.10725952e-08, 9.97056188e-11, 1.03586272e-11, 5.80969092e-11,\n",
       "       6.05123861e-14, 5.24010035e-13, 6.51526610e-10, 1.31971490e-06,\n",
       "       7.35925278e-06, 2.70551823e-06, 3.52332245e-05, 1.73234323e-04,\n",
       "       1.03368505e-03, 2.24326272e-03, 8.81093380e-04, 6.37098929e-05,\n",
       "       1.90738592e-06, 1.65302765e-07, 8.01418238e-08, 7.12448056e-08,\n",
       "       3.05739833e-09, 2.93782026e-10, 1.67511727e-10, 8.44496473e-10,\n",
       "       8.93760621e-11, 6.36497244e-10, 4.63250629e-08, 6.85312727e-07,\n",
       "       2.46183873e-07, 1.75790120e-07, 1.26125553e-06, 2.61050692e-09,\n",
       "       8.14903874e-12, 3.72273323e-09, 3.18862185e-05, 3.31792762e-05,\n",
       "       1.06299820e-03, 1.84449949e-03, 2.73735309e-03, 9.30952840e-03,\n",
       "       4.75832857e-02, 6.48661107e-02, 1.74849872e-02, 1.39194110e-03,\n",
       "       1.22589001e-04, 2.68601634e-05, 3.99775199e-05, 3.38272985e-05,\n",
       "       5.92974493e-06, 1.71511363e-06, 6.25410394e-06, 2.86103545e-06,\n",
       "       7.50709603e-07, 3.74723470e-07, 2.47221010e-06, 1.47342462e-05,\n",
       "       1.01120872e-06, 7.95527853e-07, 1.04353558e-06, 4.65556332e-06,\n",
       "       7.27081385e-07, 1.28987565e-04, 4.45305632e-04, 2.47933879e-03,\n",
       "       3.69947590e-02, 1.22351997e-01, 2.90645957e-01, 5.84188938e-01,\n",
       "       6.59192681e-01, 6.77305818e-01, 5.03926814e-01, 2.04791829e-01,\n",
       "       9.38093066e-02, 7.37634599e-02, 6.10117726e-02, 3.84150296e-02,\n",
       "       1.87807418e-02, 9.97474696e-03, 1.83305591e-02, 2.22521275e-02,\n",
       "       2.53819190e-02, 7.52952183e-03, 2.06627441e-03, 1.34718095e-04,\n",
       "       1.15182433e-04, 4.31373192e-05, 4.79559321e-06, 3.19987612e-06,\n",
       "       7.77123478e-06, 8.34578386e-05, 4.66718368e-04, 7.03269243e-03,\n",
       "       1.29217967e-01, 4.22386140e-01, 6.71490848e-01, 8.11053336e-01,\n",
       "       9.01009798e-01, 9.03405845e-01, 8.29890668e-01, 7.65898883e-01,\n",
       "       7.33197570e-01, 8.43868315e-01, 8.32260847e-01, 8.01403761e-01,\n",
       "       7.06444502e-01, 6.42642200e-01, 6.18431807e-01, 6.71195149e-01,\n",
       "       5.19028306e-01, 1.88043743e-01, 1.22997779e-02, 1.22211291e-03,\n",
       "       3.02848377e-04, 2.70248944e-04, 1.87488797e-04, 1.09842231e-05,\n",
       "       5.28961500e-05, 2.12734129e-04, 2.01881150e-04, 1.79876201e-03,\n",
       "       4.63388674e-02, 2.33505458e-01, 3.00910920e-01, 4.68339056e-01,\n",
       "       6.28579497e-01, 7.40218401e-01, 7.29572773e-01, 7.35410571e-01,\n",
       "       7.81311095e-01, 8.58893216e-01, 8.83203506e-01, 8.88158560e-01,\n",
       "       8.36106122e-01, 7.30186760e-01, 8.35712194e-01, 9.24000144e-01,\n",
       "       8.86072516e-01, 4.33016717e-01, 2.24012714e-02, 8.17657274e-04,\n",
       "       3.47282417e-04, 3.00111511e-04, 2.64896589e-05, 2.45400543e-06,\n",
       "       4.97905858e-05, 1.01013706e-04, 1.26247221e-04, 8.79910018e-04,\n",
       "       2.94359773e-03, 1.37957009e-02, 2.68846266e-02, 3.62903476e-02,\n",
       "       6.36102110e-02, 1.16770424e-01, 1.83340013e-01, 1.68791682e-01,\n",
       "       1.81083918e-01, 2.93770909e-01, 4.26486522e-01, 2.62384832e-01,\n",
       "       1.23536631e-01, 1.77084193e-01, 6.81015611e-01, 9.53406453e-01,\n",
       "       9.29474354e-01, 4.72427070e-01, 2.50762943e-02, 7.00958597e-04,\n",
       "       8.11876889e-05, 9.71852569e-05, 1.09148332e-05, 2.43432783e-06,\n",
       "       1.91312802e-06, 1.29248383e-05, 5.78056824e-05, 3.40704690e-04,\n",
       "       3.25048255e-04, 5.82189532e-04, 1.26483093e-03, 1.31380162e-03,\n",
       "       2.54190457e-03, 3.34544620e-03, 6.27776282e-03, 4.52669943e-03,\n",
       "       4.79594804e-03, 1.05772642e-02, 9.69195925e-03, 5.95269725e-03,\n",
       "       4.59098583e-03, 4.50395979e-02, 6.09785914e-01, 9.44812596e-01,\n",
       "       8.83724451e-01, 2.50163883e-01, 7.63255684e-03, 2.94941361e-04,\n",
       "       4.07509688e-05, 1.43827754e-04, 1.03884013e-04, 2.37733857e-05,\n",
       "       1.25781526e-06, 5.73709315e-07, 5.46149458e-05, 8.50612341e-05,\n",
       "       3.32884920e-05, 2.19978137e-05, 4.17963129e-05, 9.12235118e-05,\n",
       "       1.38014089e-04, 3.80255224e-04, 5.47618314e-04, 5.85541886e-04,\n",
       "       7.51876505e-04, 1.70203438e-03, 1.21830939e-03, 5.12128056e-04,\n",
       "       1.95972715e-03, 8.93212780e-02, 7.88603961e-01, 8.80767286e-01,\n",
       "       4.02094513e-01, 3.30212303e-02, 1.57821772e-03, 1.42134595e-04,\n",
       "       1.64819940e-05, 2.23524075e-05, 7.99367626e-07, 4.65603364e-07,\n",
       "       1.33032207e-08, 3.77631466e-07, 2.02322371e-05, 2.50657358e-05,\n",
       "       7.48767206e-06, 1.34770107e-06, 1.64834080e-06, 8.31339821e-06,\n",
       "       3.28353599e-05, 2.05342978e-04, 4.13518661e-04, 9.10993025e-04,\n",
       "       9.53585841e-04, 8.09713034e-04, 3.06587201e-04, 5.03703428e-04,\n",
       "       7.51484465e-03, 4.28212553e-01, 9.01483774e-01, 6.74685597e-01,\n",
       "       8.62788484e-02, 3.33015760e-03, 2.64465169e-04, 8.27794502e-05,\n",
       "       1.02706526e-05, 1.17847676e-05, 5.01128454e-07, 1.90111873e-08,\n",
       "       3.97630835e-08, 2.44537652e-08, 1.02875238e-05, 1.35890577e-05,\n",
       "       1.12749194e-06, 7.94653943e-08, 1.96834989e-07, 2.06750951e-06,\n",
       "       3.12334705e-05, 2.96870741e-04, 1.89803366e-03, 3.09009734e-03,\n",
       "       8.72153847e-04, 2.65400013e-04, 1.91448664e-04, 2.20830855e-03,\n",
       "       8.49079937e-02, 8.13795090e-01, 8.65660250e-01, 2.83406317e-01,\n",
       "       7.08559807e-03, 2.10523023e-04, 7.51005355e-05, 3.77078359e-05,\n",
       "       2.26159264e-05, 5.56774694e-06, 1.17093452e-06, 4.68175360e-11,\n",
       "       1.13934583e-07, 4.35546772e-11, 3.51777203e-07, 3.32133226e-07,\n",
       "       7.51592921e-08, 1.40914214e-08, 4.27605720e-08, 1.31931358e-06,\n",
       "       5.88842158e-05, 9.70589870e-04, 8.11929163e-03, 3.81090795e-03,\n",
       "       5.34886320e-04, 1.19416363e-04, 2.33377621e-04, 9.10288189e-03,\n",
       "       4.77870136e-01, 9.41092491e-01, 6.67665362e-01, 4.15925495e-02,\n",
       "       3.22698557e-04, 1.85961544e-05, 4.06773543e-05, 9.64660940e-05,\n",
       "       5.19644527e-05, 4.12679037e-06, 1.91318645e-06, 1.39558694e-11,\n",
       "       7.75238618e-07, 1.33795155e-07, 3.62959440e-09, 4.13760937e-08,\n",
       "       1.15608403e-08, 2.61932476e-09, 9.60442126e-09, 8.33309400e-07,\n",
       "       5.94296071e-05, 2.95445696e-03, 1.71662476e-02, 4.59871953e-03,\n",
       "       4.79450566e-04, 2.09118807e-04, 1.58845272e-03, 1.20557487e-01,\n",
       "       8.80766869e-01, 9.25686836e-01, 2.61965364e-01, 2.11504893e-03,\n",
       "       2.00416980e-05, 1.29636110e-05, 4.02467376e-05, 2.08817364e-04,\n",
       "       5.55216866e-05, 3.93551818e-06, 1.54987831e-07, 3.23563010e-10,\n",
       "       4.42811850e-14, 8.45760837e-07, 1.51039963e-08, 1.43504565e-07,\n",
       "       1.80961157e-09, 1.76215442e-09, 1.07646096e-08, 6.81410313e-07,\n",
       "       6.61417143e-05, 2.63762707e-03, 4.68472950e-03, 1.07341260e-03,\n",
       "       1.66226659e-04, 4.76134272e-04, 2.51793377e-02, 6.47970259e-01,\n",
       "       9.59017336e-01, 7.64576077e-01, 3.02118976e-02, 1.05951927e-04,\n",
       "       5.25048154e-06, 2.23588336e-06, 2.28979006e-05, 4.30894652e-05,\n",
       "       8.43440721e-05, 6.68140956e-06, 6.55092322e-07, 1.56537237e-08,\n",
       "       5.43458384e-07, 1.51937130e-08, 6.18996353e-07, 2.48408782e-07,\n",
       "       7.59830154e-09, 2.37419773e-09, 1.40104319e-08, 2.86211360e-07,\n",
       "       1.44132473e-05, 3.74398543e-04, 4.73432447e-04, 1.42385528e-04,\n",
       "       1.08412009e-04, 3.06989695e-03, 2.96498597e-01, 9.55815196e-01,\n",
       "       9.51595187e-01, 3.12305301e-01, 1.12537900e-03, 5.14253497e-06,\n",
       "       2.60521148e-07, 7.60680265e-08, 6.97256269e-07, 7.24305164e-06,\n",
       "       1.18174166e-05, 6.49090089e-06, 1.20699454e-07, 2.08572326e-10,\n",
       "       7.05709602e-10, 1.03355589e-04, 1.04522780e-06, 2.01045566e-07,\n",
       "       7.26939220e-08, 1.44563845e-08, 3.61125529e-08, 1.38285898e-07,\n",
       "       1.13194585e-06, 2.74141166e-05, 1.32853165e-04, 1.33685768e-04,\n",
       "       9.05173540e-04, 4.80206572e-02, 8.67520034e-01, 9.80842948e-01,\n",
       "       7.92376876e-01, 2.52318177e-02, 6.35137694e-05, 8.91567282e-08,\n",
       "       4.42111636e-09, 3.02933256e-09, 4.33293650e-08, 3.05739775e-07,\n",
       "       1.94735549e-06, 1.80920765e-07, 3.56823691e-08, 9.86156504e-11,\n",
       "       6.00417632e-12, 8.35033006e-06, 1.02700168e-08, 6.95152210e-07,\n",
       "       2.55299462e-08, 9.86193438e-09, 1.32725589e-07, 1.59898377e-07,\n",
       "       5.05316564e-07, 1.37334218e-05, 2.06660538e-04, 1.10342435e-03,\n",
       "       1.64985694e-02, 4.99638438e-01, 9.69454110e-01, 9.39455986e-01,\n",
       "       2.30699837e-01, 4.34042327e-03, 7.83229643e-06, 5.69978376e-09,\n",
       "       4.43164228e-10, 6.93067881e-10, 2.11418296e-08, 2.97497280e-07,\n",
       "       1.26007365e-06, 1.47204574e-07, 1.18043542e-09, 3.50258467e-09,\n",
       "       2.56814836e-09, 5.31113322e-08, 1.06402940e-08, 3.28469287e-06,\n",
       "       1.66260286e-08, 6.05646155e-09, 5.27707407e-08, 1.27910255e-07,\n",
       "       1.47815558e-06, 3.00110551e-05, 9.22730775e-04, 1.43228387e-02,\n",
       "       2.48762742e-01, 9.12430048e-01, 9.56798196e-01, 6.57516837e-01,\n",
       "       1.81781482e-02, 5.01057693e-05, 3.91905786e-07, 1.27643773e-09,\n",
       "       4.90339470e-11, 4.41434977e-09, 4.41930652e-08, 9.04194280e-07,\n",
       "       4.56357157e-06, 2.20922971e-06, 4.87731313e-08, 9.75332922e-12,\n",
       "       2.83683677e-09, 1.01962589e-08, 1.22416765e-07, 4.49324807e-06,\n",
       "       7.89087153e-07, 3.28317213e-08, 4.11678016e-08, 6.71536071e-08,\n",
       "       2.41692555e-06, 6.15953031e-05, 2.52328767e-03, 8.44141394e-02,\n",
       "       7.69427598e-01, 9.43873465e-01, 8.62383008e-01, 5.74113987e-02,\n",
       "       3.82868340e-04, 6.26775864e-06, 1.86024025e-07, 3.32889133e-10,\n",
       "       3.41707634e-10, 1.71957915e-08, 1.17764273e-06, 2.68066265e-06,\n",
       "       6.41710358e-05, 1.17786776e-05, 2.54614765e-08, 1.66025472e-12,\n",
       "       3.68362771e-11, 3.51794806e-14, 1.57320756e-06, 5.51822131e-06,\n",
       "       4.59717230e-05, 5.66037215e-07, 9.90522608e-07, 3.92624031e-07,\n",
       "       5.72270665e-06, 3.73571384e-04, 2.19569411e-02, 5.11167049e-01,\n",
       "       9.20907259e-01, 9.18048441e-01, 3.38823199e-01, 3.55943642e-03,\n",
       "       6.03210137e-05, 3.79727476e-06, 5.38552918e-08, 4.67300421e-10,\n",
       "       3.78815068e-09, 2.70061804e-07, 2.51196093e-06, 3.82932230e-05,\n",
       "       5.32066842e-05, 4.20244851e-06, 1.36813094e-06, 1.95150276e-12,\n",
       "       2.12691106e-12, 1.40252095e-13, 2.73514797e-06, 4.60330830e-06,\n",
       "       1.11185127e-05, 2.15553564e-06, 4.29712418e-06, 9.73242095e-06,\n",
       "       1.86477730e-04, 5.66647621e-03, 1.89084128e-01, 8.39118361e-01,\n",
       "       9.67360914e-01, 8.35914791e-01, 1.08032569e-01, 1.13538664e-03,\n",
       "       2.65767776e-05, 4.18563013e-06, 1.89086876e-07, 9.34026101e-09,\n",
       "       5.21003614e-08, 3.76666463e-07, 1.32990172e-05, 8.94544719e-05,\n",
       "       4.65144876e-05, 7.80670325e-06, 1.01269340e-11, 1.21639569e-12,\n",
       "       6.30809424e-14, 4.66532032e-13, 2.09740165e-06, 1.22343988e-06,\n",
       "       6.50293259e-06, 3.60996182e-06, 2.31756669e-04, 2.41207963e-04,\n",
       "       3.53251497e-04, 2.55889092e-02, 5.57654440e-01, 9.39096093e-01,\n",
       "       9.51685190e-01, 5.63569188e-01, 2.65040658e-02, 3.07925919e-04,\n",
       "       3.29152099e-05, 6.69204610e-06, 1.66226286e-07, 4.63626959e-09,\n",
       "       5.06539209e-07, 1.53804569e-06, 1.59007632e-05, 2.38680218e-06,\n",
       "       1.47797873e-05, 6.38511381e-07, 4.00198902e-11, 3.73663990e-13,\n",
       "       5.54908821e-13, 3.42175038e-11, 1.12778992e-12, 1.83185445e-09,\n",
       "       3.33583983e-09, 5.60777096e-08, 1.50461856e-05, 6.10730320e-04,\n",
       "       6.49880478e-03, 7.50955865e-02, 6.40370369e-01, 9.49792683e-01,\n",
       "       9.08069670e-01, 3.28922063e-01, 2.34656297e-02, 7.69096543e-04,\n",
       "       2.35735628e-04, 5.24501120e-05, 1.23398204e-05, 5.27791677e-09,\n",
       "       5.19778005e-11, 2.12229520e-06, 1.30540129e-05, 1.36031178e-06,\n",
       "       1.29875555e-10, 3.81669878e-08, 4.69276311e-13, 5.30508580e-13,\n",
       "       1.83968444e-12, 5.44891497e-13, 2.97336313e-14, 9.94029823e-14,\n",
       "       4.59017855e-07, 3.98940102e-07, 1.24969984e-05, 1.89162893e-05,\n",
       "       7.07212484e-06, 7.70915183e-04, 1.21083632e-02, 6.23111539e-02,\n",
       "       6.71615601e-02, 8.60448461e-03, 3.40048864e-04, 4.30550463e-05,\n",
       "       7.75706503e-05, 5.71696273e-06, 3.37595384e-06, 7.20522930e-09,\n",
       "       1.65740321e-09, 3.70512431e-12, 1.82730020e-07, 1.67086611e-07,\n",
       "       1.84762206e-11, 1.01729844e-12, 1.87969735e-12, 1.85067543e-12],\n",
       "      dtype=float32)"
      ]
     },
     "execution_count": 25,
     "metadata": {},
     "output_type": "execute_result"
    }
   ],
   "source": [
    "encoded_imgs[0]"
   ]
  },
  {
   "cell_type": "code",
   "execution_count": 20,
   "id": "cf88565f-ad4a-4551-84b7-c9e1fe5fb056",
   "metadata": {},
   "outputs": [
    {
     "data": {
      "text/plain": [
       "(784,)"
      ]
     },
     "execution_count": 20,
     "metadata": {},
     "output_type": "execute_result"
    }
   ],
   "source": [
    "decoded_imgs[0].shape"
   ]
  },
  {
   "cell_type": "code",
   "execution_count": 23,
   "id": "c9844cad-650c-413d-858f-7feb73f4de55",
   "metadata": {},
   "outputs": [
    {
     "ename": "NameError",
     "evalue": "name 'n' is not defined",
     "output_type": "error",
     "traceback": [
      "\u001b[1;31m---------------------------------------------------------------------------\u001b[0m",
      "\u001b[1;31mNameError\u001b[0m                                 Traceback (most recent call last)",
      "Cell \u001b[1;32mIn[23], line 5\u001b[0m\n\u001b[0;32m      3\u001b[0m \u001b[38;5;66;03m#%matplotlib inline = 10 # how many digits we will display\u001b[39;00m\n\u001b[0;32m      4\u001b[0m plt\u001b[38;5;241m.\u001b[39mfigure(figsize\u001b[38;5;241m=\u001b[39m(\u001b[38;5;241m20\u001b[39m, \u001b[38;5;241m4\u001b[39m))\n\u001b[1;32m----> 5\u001b[0m \u001b[38;5;28;01mfor\u001b[39;00m i \u001b[38;5;129;01min\u001b[39;00m \u001b[38;5;28mrange\u001b[39m(n):\n\u001b[0;32m      6\u001b[0m  \u001b[38;5;66;03m# display original\u001b[39;00m\n\u001b[0;32m      7\u001b[0m  ax \u001b[38;5;241m=\u001b[39m plt\u001b[38;5;241m.\u001b[39msubplot(\u001b[38;5;241m2\u001b[39m, n, i \u001b[38;5;241m+\u001b[39m \u001b[38;5;241m1\u001b[39m)\n\u001b[0;32m      8\u001b[0m  plt\u001b[38;5;241m.\u001b[39mimshow(x_test[i]\u001b[38;5;241m.\u001b[39mreshape(\u001b[38;5;241m28\u001b[39m, \u001b[38;5;241m28\u001b[39m))\n",
      "\u001b[1;31mNameError\u001b[0m: name 'n' is not defined"
     ]
    },
    {
     "data": {
      "text/plain": [
       "<Figure size 2000x400 with 0 Axes>"
      ]
     },
     "metadata": {},
     "output_type": "display_data"
    }
   ],
   "source": [
    "# use Matplotlib\n",
    "import matplotlib.pyplot as plt\n",
    "#%matplotlib inline = 10 # how many digits we will display\n",
    "plt.figure(figsize=(20, 4))\n",
    "for i in range(n):\n",
    " # display original\n",
    " ax = plt.subplot(2, n, i + 1)\n",
    " plt.imshow(x_test[i].reshape(28, 28))\n",
    " plt.gray()\n",
    " ax.get_xaxis().set_visible(False)\n",
    " ax.get_yaxis().set_visible(False)# display reconstruction\n",
    " ax = plt.subplot(2, n, i + 1 + n)\n",
    " plt.imshow(decoded_imgs[i].reshape(28, 28))\n",
    " plt.gray()\n",
    " ax.get_xaxis().set_visible(False)\n",
    " ax.get_yaxis().set_visible(False)\n",
    "plt.show()"
   ]
  },
  {
   "cell_type": "code",
   "execution_count": null,
   "id": "1adbae85-53da-4271-9921-2f3b06ab381d",
   "metadata": {},
   "outputs": [],
   "source": []
  }
 ],
 "metadata": {
  "kernelspec": {
   "display_name": "Python 3 (ipykernel)",
   "language": "python",
   "name": "python3"
  },
  "language_info": {
   "codemirror_mode": {
    "name": "ipython",
    "version": 3
   },
   "file_extension": ".py",
   "mimetype": "text/x-python",
   "name": "python",
   "nbconvert_exporter": "python",
   "pygments_lexer": "ipython3",
   "version": "3.11.5"
  }
 },
 "nbformat": 4,
 "nbformat_minor": 5
}
