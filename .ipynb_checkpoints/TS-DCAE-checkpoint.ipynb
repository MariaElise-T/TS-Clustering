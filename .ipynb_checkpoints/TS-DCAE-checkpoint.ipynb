{
 "cells": [
  {
   "cell_type": "code",
   "execution_count": 1,
   "id": "7d9851c8-e820-4dba-bd80-4d5ab79a639a",
   "metadata": {},
   "outputs": [],
   "source": [
    "from keras.models import Model \n",
    "from keras.layers import Input, Convolution2D, MaxPooling2D, Dense, Dropout, Flatten, Dense, Dropout, Flatten, Conv2D, MaxPooling2D, Conv1D, UpSampling1D\n",
    "import np_utils\n",
    "import numpy as np\n",
    "import pandas as pd\n",
    "from keras.callbacks import EarlyStopping\n",
    "from keras.models import Sequential\n",
    "from keras.optimizers import Adam\n",
    "from keras.utils import to_categorical\n",
    "import os\n",
    "from sklearn.preprocessing import StandardScaler\n",
    "import os\n",
    "import datetime\n",
    "from sklearn.model_selection import train_test_split"
   ]
  },
  {
   "cell_type": "code",
   "execution_count": 5,
   "id": "28ea168a-3d9a-41a7-8242-950bbc4d1da2",
   "metadata": {},
   "outputs": [],
   "source": [
    "poor = pd.read_csv(\"C:/Users/met48/Desktop/TS-Clustering/SimData/bank_reserves_outputs_poor.csv\", header=None)\n",
    "middle = pd.read_csv(\"C:/Users/met48/Desktop/TS-Clustering/SimData/bank_reserves_outputs_middle.csv\", header=None)\n",
    "rich = pd.read_csv(\"C:/Users/met48/Desktop/TS-Clustering/SimData/bank_reserves_outputs_rich.csv\", header=None)\n",
    "sc = StandardScaler()\n",
    "bank_reserves = []\n",
    "for i in np.arange(0, poor.shape[0]):\n",
    "    sample = pd.concat([poor.iloc[i], middle.iloc[i]], axis=0).T\n",
    "    sample = pd.concat([sample, rich.iloc[i]], axis=0).T\n",
    "    sample_std = sc.fit_transform(sample.to_frame())\n",
    "    bank_reserves.append(sample_std)"
   ]
  },
  {
   "cell_type": "code",
   "execution_count": 6,
   "id": "617d686b-71d8-4ed0-83af-814e6c4f42dc",
   "metadata": {},
   "outputs": [],
   "source": [
    "bank_reserves = [sample.flatten() for sample in bank_reserves]\n",
    "bank_reserves = np.asarray(bank_reserves)\n",
    "bank_reserves_train, bank_reserves_test = train_test_split(bank_reserves, test_size=0.20, random_state=42)"
   ]
  },
  {
   "cell_type": "code",
   "execution_count": 9,
   "id": "60fa6956-28ba-4fdd-bd9a-3c69332fcacb",
   "metadata": {},
   "outputs": [],
   "source": [
    "bank_reserves_train = bank_reserves_train.reshape(bank_reserves_train.shape[0], 303, 1)"
   ]
  },
  {
   "cell_type": "code",
   "execution_count": 7,
   "id": "a4f4d436-61d5-41d7-9af2-62f9779d2fdb",
   "metadata": {},
   "outputs": [
    {
     "data": {
      "text/plain": [
       "(100000, 303)"
      ]
     },
     "execution_count": 7,
     "metadata": {},
     "output_type": "execute_result"
    }
   ],
   "source": [
    "bank_reserves.shape"
   ]
  },
  {
   "cell_type": "code",
   "execution_count": 10,
   "id": "b9c3ebc3-ccc0-42ae-9827-473d303c83f8",
   "metadata": {},
   "outputs": [
    {
     "ename": "ValueError",
     "evalue": "Computed output size would be negative. Received `inputs shape=(None, 49, 10)`, `kernel shape=(64, 10, 10)`, `dilation_rate=[1]`.",
     "output_type": "error",
     "traceback": [
      "\u001b[1;31m---------------------------------------------------------------------------\u001b[0m",
      "\u001b[1;31mValueError\u001b[0m                                Traceback (most recent call last)",
      "Cell \u001b[1;32mIn[10], line 14\u001b[0m\n\u001b[0;32m     12\u001b[0m decoded \u001b[38;5;241m=\u001b[39m Conv1D(filters\u001b[38;5;241m=\u001b[39m\u001b[38;5;241m10\u001b[39m, kernel_size\u001b[38;5;241m=\u001b[39m\u001b[38;5;241m128\u001b[39m, activation\u001b[38;5;241m=\u001b[39m\u001b[38;5;124m'\u001b[39m\u001b[38;5;124mrelu\u001b[39m\u001b[38;5;124m'\u001b[39m)(decoded)\n\u001b[0;32m     13\u001b[0m decoded \u001b[38;5;241m=\u001b[39m Conv1D(filters\u001b[38;5;241m=\u001b[39m\u001b[38;5;241m10\u001b[39m, kernel_size\u001b[38;5;241m=\u001b[39m\u001b[38;5;241m128\u001b[39m, activation\u001b[38;5;241m=\u001b[39m\u001b[38;5;124m'\u001b[39m\u001b[38;5;124mrelu\u001b[39m\u001b[38;5;124m'\u001b[39m)(decoded)\n\u001b[1;32m---> 14\u001b[0m decoded \u001b[38;5;241m=\u001b[39m Conv1D(filters\u001b[38;5;241m=\u001b[39m\u001b[38;5;241m10\u001b[39m, kernel_size\u001b[38;5;241m=\u001b[39m\u001b[38;5;241m64\u001b[39m, activation\u001b[38;5;241m=\u001b[39m\u001b[38;5;124m'\u001b[39m\u001b[38;5;124mrelu\u001b[39m\u001b[38;5;124m'\u001b[39m)(decoded)\n\u001b[0;32m     15\u001b[0m decoded \u001b[38;5;241m=\u001b[39m Conv1D(filters\u001b[38;5;241m=\u001b[39m\u001b[38;5;241m10\u001b[39m, kernel_size\u001b[38;5;241m=\u001b[39m\u001b[38;5;241m32\u001b[39m, activation\u001b[38;5;241m=\u001b[39m\u001b[38;5;124m'\u001b[39m\u001b[38;5;124mrelu\u001b[39m\u001b[38;5;124m'\u001b[39m)(decoded)\n\u001b[0;32m     17\u001b[0m autoencoder \u001b[38;5;241m=\u001b[39m Model(\u001b[38;5;28minput\u001b[39m, decoded)\n",
      "File \u001b[1;32m~\\AppData\\Local\\anaconda3\\Lib\\site-packages\\keras\\src\\utils\\traceback_utils.py:122\u001b[0m, in \u001b[0;36mfilter_traceback.<locals>.error_handler\u001b[1;34m(*args, **kwargs)\u001b[0m\n\u001b[0;32m    119\u001b[0m     filtered_tb \u001b[38;5;241m=\u001b[39m _process_traceback_frames(e\u001b[38;5;241m.\u001b[39m__traceback__)\n\u001b[0;32m    120\u001b[0m     \u001b[38;5;66;03m# To get the full stack trace, call:\u001b[39;00m\n\u001b[0;32m    121\u001b[0m     \u001b[38;5;66;03m# `keras.config.disable_traceback_filtering()`\u001b[39;00m\n\u001b[1;32m--> 122\u001b[0m     \u001b[38;5;28;01mraise\u001b[39;00m e\u001b[38;5;241m.\u001b[39mwith_traceback(filtered_tb) \u001b[38;5;28;01mfrom\u001b[39;00m \u001b[38;5;28;01mNone\u001b[39;00m\n\u001b[0;32m    123\u001b[0m \u001b[38;5;28;01mfinally\u001b[39;00m:\n\u001b[0;32m    124\u001b[0m     \u001b[38;5;28;01mdel\u001b[39;00m filtered_tb\n",
      "File \u001b[1;32m~\\AppData\\Local\\anaconda3\\Lib\\site-packages\\keras\\src\\ops\\operation_utils.py:221\u001b[0m, in \u001b[0;36mcompute_conv_output_shape\u001b[1;34m(input_shape, filters, kernel_size, strides, padding, data_format, dilation_rate)\u001b[0m\n\u001b[0;32m    219\u001b[0m     \u001b[38;5;28;01mfor\u001b[39;00m i \u001b[38;5;129;01min\u001b[39;00m \u001b[38;5;28mrange\u001b[39m(\u001b[38;5;28mlen\u001b[39m(output_spatial_shape)):\n\u001b[0;32m    220\u001b[0m         \u001b[38;5;28;01mif\u001b[39;00m i \u001b[38;5;129;01mnot\u001b[39;00m \u001b[38;5;129;01min\u001b[39;00m none_dims \u001b[38;5;129;01mand\u001b[39;00m output_spatial_shape[i] \u001b[38;5;241m<\u001b[39m \u001b[38;5;241m0\u001b[39m:\n\u001b[1;32m--> 221\u001b[0m             \u001b[38;5;28;01mraise\u001b[39;00m \u001b[38;5;167;01mValueError\u001b[39;00m(\n\u001b[0;32m    222\u001b[0m                 \u001b[38;5;124m\"\u001b[39m\u001b[38;5;124mComputed output size would be negative. Received \u001b[39m\u001b[38;5;124m\"\u001b[39m\n\u001b[0;32m    223\u001b[0m                 \u001b[38;5;124mf\u001b[39m\u001b[38;5;124m\"\u001b[39m\u001b[38;5;124m`inputs shape=\u001b[39m\u001b[38;5;132;01m{\u001b[39;00minput_shape\u001b[38;5;132;01m}\u001b[39;00m\u001b[38;5;124m`, \u001b[39m\u001b[38;5;124m\"\u001b[39m\n\u001b[0;32m    224\u001b[0m                 \u001b[38;5;124mf\u001b[39m\u001b[38;5;124m\"\u001b[39m\u001b[38;5;124m`kernel shape=\u001b[39m\u001b[38;5;132;01m{\u001b[39;00mkernel_shape\u001b[38;5;132;01m}\u001b[39;00m\u001b[38;5;124m`, \u001b[39m\u001b[38;5;124m\"\u001b[39m\n\u001b[0;32m    225\u001b[0m                 \u001b[38;5;124mf\u001b[39m\u001b[38;5;124m\"\u001b[39m\u001b[38;5;124m`dilation_rate=\u001b[39m\u001b[38;5;132;01m{\u001b[39;00mdilation_rate\u001b[38;5;132;01m}\u001b[39;00m\u001b[38;5;124m`.\u001b[39m\u001b[38;5;124m\"\u001b[39m\n\u001b[0;32m    226\u001b[0m             )\n\u001b[0;32m    227\u001b[0m \u001b[38;5;28;01melif\u001b[39;00m padding \u001b[38;5;241m==\u001b[39m \u001b[38;5;124m\"\u001b[39m\u001b[38;5;124msame\u001b[39m\u001b[38;5;124m\"\u001b[39m \u001b[38;5;129;01mor\u001b[39;00m padding \u001b[38;5;241m==\u001b[39m \u001b[38;5;124m\"\u001b[39m\u001b[38;5;124mcausal\u001b[39m\u001b[38;5;124m\"\u001b[39m:\n\u001b[0;32m    228\u001b[0m     output_spatial_shape \u001b[38;5;241m=\u001b[39m np\u001b[38;5;241m.\u001b[39mfloor((spatial_shape \u001b[38;5;241m-\u001b[39m \u001b[38;5;241m1\u001b[39m) \u001b[38;5;241m/\u001b[39m strides) \u001b[38;5;241m+\u001b[39m \u001b[38;5;241m1\u001b[39m\n",
      "\u001b[1;31mValueError\u001b[0m: Computed output size would be negative. Received `inputs shape=(None, 49, 10)`, `kernel shape=(64, 10, 10)`, `dilation_rate=[1]`."
     ]
    }
   ],
   "source": [
    "input = Input(shape=(303,1))\n",
    "\n",
    "encoded = Conv1D(filters=10, kernel_size=32, activation='relu', padding='same')(input)\n",
    "encoded = Conv1D(filters=10, kernel_size=64, activation='relu', padding='same')(encoded)\n",
    "encoded = Conv1D(filters=10, kernel_size=128, activation='relu', padding='same')(encoded)\n",
    "encoded = Conv1D(filters=3, kernel_size=128, activation='relu', padding='same')(encoded)\n",
    "\n",
    "encoded = Dense(384, activation='relu')(encoded)\n",
    "decoded = Dense(5, activation='relu')(encoded)\n",
    "decoded = Dense(384, activation='relu')(decoded)\n",
    "\n",
    "decoded = Conv1DTranspose(filters=3, kernel_size=128, activation='relu')(decoded)\n",
    "decoded = Conv1DTranspose(filters=10, kernel_size=128, activation='relu')(decoded)\n",
    "decoded = Conv1DTranspose(filters=10, kernel_size=64, activation='relu')(decoded)\n",
    "decoded = Conv1DTranspose(filters=10, kernel_size=32, activation='relu')(decoded)\n",
    "\n",
    "autoencoder = Model(input, decoded)\n",
    "autoencoder.summary()"
   ]
  },
  {
   "cell_type": "code",
   "execution_count": 29,
   "id": "aec8a75c-756a-4878-9d19-95c1a2e2e006",
   "metadata": {},
   "outputs": [],
   "source": [
    "autoencoder.compile(optimizer=Adam(learning_rate=0.001), loss='mse')"
   ]
  },
  {
   "cell_type": "code",
   "execution_count": null,
   "id": "10638d78-649c-4a48-aec7-cd98eb1cbc39",
   "metadata": {},
   "outputs": [],
   "source": [
    "autoencoder.fit(bank_reserves_train, bank_reserves_train,\n",
    " epochs=20,\n",
    " batch_size=8,\n",
    " shuffle=True,\n",
    " validation_data=(bank_reserves_test, bank_reserves_test),\n",
    " verbose=1)"
   ]
  },
  {
   "cell_type": "code",
   "execution_count": null,
   "id": "e906adbe-2bc2-45d7-9956-1fa526e65a8b",
   "metadata": {},
   "outputs": [],
   "source": [
    "encoder = Model(inputs=autoencoder.input, outputs=autoencoder.get_layer(index=4).output)\n",
    "encoded_ts = encoder.predict(bank_reserves_test)"
   ]
  },
  {
   "cell_type": "code",
   "execution_count": null,
   "id": "35eaae99-2a80-42cd-a72a-e4e201f481fd",
   "metadata": {},
   "outputs": [],
   "source": [
    "encoded_input = Input(shape=(5,))  # 5 is the size of your latent space\n",
    "decoded_layer = autoencoder.layers[5](encoded_input)\n",
    "for layer in autoencoder.layers[6:]:\n",
    "    decoded_layer = layer(decoded_layer)\n",
    "\n",
    "decoder = Model(inputs=encoded_input, outputs=decoded_layer)\n",
    "decoded_ts = decoder.predict(encoded_ts)"
   ]
  }
 ],
 "metadata": {
  "kernelspec": {
   "display_name": "Python 3 (ipykernel)",
   "language": "python",
   "name": "python3"
  },
  "language_info": {
   "codemirror_mode": {
    "name": "ipython",
    "version": 3
   },
   "file_extension": ".py",
   "mimetype": "text/x-python",
   "name": "python",
   "nbconvert_exporter": "python",
   "pygments_lexer": "ipython3",
   "version": "3.11.5"
  }
 },
 "nbformat": 4,
 "nbformat_minor": 5
}
