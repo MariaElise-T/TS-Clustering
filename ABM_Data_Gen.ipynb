{
 "cells": [
  {
   "cell_type": "code",
   "execution_count": 16,
   "id": "c61ea950-5d23-458f-b687-50deb373e492",
   "metadata": {},
   "outputs": [],
   "source": [
    "import mesa\n",
    "import random\n",
    "random.seed(0)\n",
    "import warnings\n",
    "warnings.filterwarnings(\"ignore\")\n",
    "import sys\n",
    "import numpy as np\n",
    "\n",
    "sys.path.append(\"C:/Users/met48/Desktop/Schelling_ML-main/Schelling_ML-main/mesa-examples-main/mesa-examples-main/examples/forest_fire/\") \n",
    "from forest_fire import __init__ as forestFireInit\n",
    "from forest_fire import agent as forestFireAgent\n",
    "from forest_fire import model as forestFireModel\n",
    "\n",
    "sys.path.append(\"C:/Users/met48/Desktop/Schelling_ML-main/Schelling_ML-main/mesa-examples-main/mesa-examples-main/examples/bank_reserves/\") \n",
    "from bank_reserves import random_walk as bankReservesRandomWalk\n",
    "from bank_reserves import agents as bankReservesAgent\n",
    "from bank_reserves import model as bankReservesModel\n",
    "\n",
    "sys.path.append(\"C:/Users/met48/Desktop/Schelling_ML-main/Schelling_ML-main/mesa-examples-main/mesa-examples-main/examples/epstein_civil_violence/\") \n",
    "from epstein_civil_violence import __init__ as epsteinInit\n",
    "from epstein_civil_violence import agent as epsteinCVAgent\n",
    "from epstein_civil_violence import model as epsteinCVModel"
   ]
  },
  {
   "cell_type": "markdown",
   "id": "1c35cef8-c573-4b70-84bc-3ff9dc2e3d8a",
   "metadata": {},
   "source": [
    "# Forest Fire Model "
   ]
  },
  {
   "cell_type": "code",
   "execution_count": 45,
   "id": "de9d7b77-8747-4e2f-bfc7-f155c391ad5e",
   "metadata": {},
   "outputs": [],
   "source": [
    "with open('forest_fire_inputs.csv', 'w', newline='') as forest_fire_inputs, \\\n",
    "    open('forest_fire_outputs_fine.csv', 'w', newline='') as forest_fire_outputs_fine, \\\n",
    "    open('forest_fire_outputs_onfire.csv', 'w', newline='') as forest_fire_outputs_onfire, \\\n",
    "    open('forest_fire_outputs_burned.csv', 'w', newline='') as forest_fire_outputs_burned:\n",
    "    for i in np.arange(5):\n",
    "        density = random.uniform(0, 1)\n",
    "        fire = forestFireModel.ForestFire(100, 100, density)\n",
    "        fire.run_model()\n",
    "        results = fire.datacollector.get_model_vars_dataframe()\n",
    "        print(density, file=forest_fire_inputs)\n",
    "        print(*results['Fine'].to_list(), file=forest_fire_outputs_fine, sep=\",\")\n",
    "        print(*results['On Fire'].to_list(), file=forest_fire_outputs_onfire, sep=\",\")\n",
    "        print(*results['Burned Out'].to_list(), file=forest_fire_outputs_burned, sep=\",\")\n",
    "forest_fire_inputs.close()\n",
    "forest_fire_outputs_fine.close()\n",
    "forest_fire_outputs_onfire.close()\n",
    "forest_fire_outputs_burned.close()"
   ]
  },
  {
   "cell_type": "markdown",
   "id": "43038b05-a308-411f-abaa-0111cbb79816",
   "metadata": {},
   "source": [
    "# Bank Reserves"
   ]
  },
  {
   "cell_type": "code",
   "execution_count": 13,
   "id": "fb7b6ea8-4e36-4b9a-924d-ea79ea10ce31",
   "metadata": {},
   "outputs": [],
   "source": [
    "# Modified the 'model.py' file to manually set number of steps to 100\n",
    "with open('bank_reserves_inputs.csv', 'w', newline='') as bank_reserves_inputs, \\\n",
    "    open('bank_reserves_outputs_rich.csv', 'w', newline='') as bank_reserves_outputs_rich, \\\n",
    "    open('bank_reserves_outputs_middle.csv', 'w', newline='') as bank_reserves_outputs_middle, \\\n",
    "    open('bank_reserves_outputs_poor.csv', 'w', newline='') as bank_reserves_outputs_poor:\n",
    "    for i in np.arange(5):\n",
    "        reserve_perc = random.uniform(0,100)\n",
    "        bankRes = bankReservesModel.BankReserves(init_people=500, rich_threshold=10, reserve_percent=reserve_perc)\n",
    "        bankRes.run_model()\n",
    "        results = bankRes.datacollector.get_model_vars_dataframe()\n",
    "        print(reserve_perc, file=bank_reserves_inputs)\n",
    "        print(*results['Rich'].to_list(), file=bank_reserves_outputs_rich, sep=\",\")\n",
    "        print(*results['Middle Class'].to_list(), file=bank_reserves_outputs_middle, sep=\",\")\n",
    "        print(*results['Poor'].to_list(), file=bank_reserves_outputs_poor, sep=\",\")\n",
    "bank_reserves_inputs.close()\n",
    "bank_reserves_outputs_rich.close()\n",
    "bank_reserves_outputs_middle.close()\n",
    "bank_reserves_outputs_poor.close()"
   ]
  },
  {
   "cell_type": "markdown",
   "id": "a38192b0-bc9c-44c3-8d03-f80b8b9a9457",
   "metadata": {},
   "source": [
    "# Epstein Civil Violence"
   ]
  },
  {
   "cell_type": "code",
   "execution_count": 23,
   "id": "baee911e-739b-467e-9a2e-76bc19b29e9c",
   "metadata": {},
   "outputs": [],
   "source": [
    "with open('epsteinCV_inputs.csv', 'w', newline='') as epsteinCV_inputs, \\\n",
    "    open('epsteinCV_outputs_quiet.csv', 'w', newline='') as epsteinCV_outputs_quiet, \\\n",
    "    open('epsteinCV_outputs_active.csv', 'w', newline='') as epsteinCV_outputs_active, \\\n",
    "    open('epsteinCV_outputs_jailed.csv', 'w', newline='') as epsteinCV_outputs_jailed:\n",
    "    for i in np.arange(5):\n",
    "        cit_dens = random.uniform(0.5, 1)\n",
    "        cop_dens = random.uniform(0, 1-cit_dens)\n",
    "        leg = random.uniform(0, 1)\n",
    "        bankRes = epsteinCVModel.EpsteinCivilViolence(citizen_density=cit_dens, cop_density=cop_dens, citizen_vision=5, cop_vision=5, legitimacy=leg, max_jail_term=30, active_threshold = 0.1, arrest_prob_constant = 2.3, movement=True, max_iters=250)\n",
    "        bankRes.run_model()\n",
    "        results = bankRes.datacollector.get_model_vars_dataframe()\n",
    "        print(*list([cit_dens, cop_dens, leg]), file=epsteinCV_inputs)\n",
    "        print(*results['Quiescent'].to_list(), file=epsteinCV_outputs_quiet, sep=\",\")\n",
    "        print(*results['Active'].to_list(), file=epsteinCV_outputs_active, sep=\",\")\n",
    "        print(*results['Jailed'].to_list(), file=epsteinCV_outputs_jailed, sep=\",\")\n",
    "epsteinCV_inputs.close()\n",
    "epsteinCV_outputs_quiet.close()\n",
    "epsteinCV_outputs_active.close()\n",
    "epsteinCV_outputs_jailed.close() "
   ]
  },
  {
   "cell_type": "markdown",
   "id": "3f83d734-404a-4800-b76b-e5c01477dbac",
   "metadata": {},
   "source": [
    "# SugarScape"
   ]
  },
  {
   "cell_type": "code",
   "execution_count": 24,
   "id": "fb705114-13b0-47de-bf6a-51c98a74598e",
   "metadata": {},
   "outputs": [
    {
     "ename": "SyntaxError",
     "evalue": "invalid syntax (930384015.py, line 1)",
     "output_type": "error",
     "traceback": [
      "\u001b[1;36m  Cell \u001b[1;32mIn[24], line 1\u001b[1;36m\u001b[0m\n\u001b[1;33m    blah blah blah\u001b[0m\n\u001b[1;37m         ^\u001b[0m\n\u001b[1;31mSyntaxError\u001b[0m\u001b[1;31m:\u001b[0m invalid syntax\n"
     ]
    }
   ],
   "source": [
    "blah blah blah"
   ]
  },
  {
   "cell_type": "code",
   "execution_count": null,
   "id": "d5f3263c-c318-42ce-9294-028382363b45",
   "metadata": {},
   "outputs": [],
   "source": []
  }
 ],
 "metadata": {
  "kernelspec": {
   "display_name": "Python 3 (ipykernel)",
   "language": "python",
   "name": "python3"
  },
  "language_info": {
   "codemirror_mode": {
    "name": "ipython",
    "version": 3
   },
   "file_extension": ".py",
   "mimetype": "text/x-python",
   "name": "python",
   "nbconvert_exporter": "python",
   "pygments_lexer": "ipython3",
   "version": "3.11.5"
  }
 },
 "nbformat": 4,
 "nbformat_minor": 5
}
