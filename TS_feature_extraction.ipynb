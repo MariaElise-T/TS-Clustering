{
 "cells": [
  {
   "cell_type": "code",
   "execution_count": 69,
   "id": "010ff7e0-e31d-4705-81b8-d19f2b10ad0f",
   "metadata": {},
   "outputs": [],
   "source": [
    "import pandas as pd\n",
    "import hmmlearn as hmm\n",
    "import tslearn\n",
    "from tslearn.clustering import TimeSeriesKMeans\n",
    "import numpy as np\n",
    "import matplotlib.pyplot as plt\n",
    "from tslearn.utils import to_time_series_dataset\n",
    "from sklearn.preprocessing import StandardScaler\n",
    "from sklearn.decomposition import PCA\n",
    "import matplotlib.pyplot as plt\n",
    "import datetime"
   ]
  },
  {
   "cell_type": "code",
   "execution_count": 54,
   "id": "16c413b2-cb46-45be-93aa-a38ee858d06d",
   "metadata": {},
   "outputs": [],
   "source": [
    "poor = pd.read_csv(\"/Users/maria/Desktop/TS-Clustering/SimData/bank_reserves_outputs_poor.csv\", header=None)\n",
    "middle = pd.read_csv(\"/Users/maria/Desktop/TS-Clustering/SimData/bank_reserves_outputs_middle.csv\", header=None)\n",
    "rich = pd.read_csv(\"/Users/maria/Desktop/TS-Clustering/SimData/bank_reserves_outputs_rich.csv\", header=None)"
   ]
  },
  {
   "cell_type": "markdown",
   "id": "2b0e9e34-f509-4867-8c40-d97505de54fe",
   "metadata": {},
   "source": [
    "# Principal component analysis"
   ]
  },
  {
   "cell_type": "code",
<<<<<<< Updated upstream
   "execution_count": 4,
   "id": "3a6e02f8-c5cd-42c2-aae9-c565a3c8a146",
   "metadata": {},
   "outputs": [],
   "source": [
    "from sklearn.preprocessing import StandardScaler\n",
    "from sklearn.decomposition import PCA\n",
    "import matplotlib.pyplot as plt"
   ]
  },
  {
   "cell_type": "code",
   "execution_count": 5,
   "id": "c88e7d68-b574-49f3-9819-485b09a5f4a1",
   "metadata": {},
   "outputs": [],
   "source": [
    "sc = StandardScaler() \n",
    "\n",
    "X_poor = poor.values \n",
    "X_poor_std = sc.fit_transform(X_poor)\n",
    "\n",
    "X_middle = middle.values  \n",
    "X_middle_std = sc.fit_transform(X_middle)\n",
    "\n",
    "X_rich = rich.values \n",
    "X_rich_std = sc.fit_transform(X_rich)"
   ]
  },
  {
   "cell_type": "code",
   "execution_count": 6,
   "id": "c99dc63b-cf0f-4574-96f7-b90ab2386632",
   "metadata": {},
   "outputs": [],
   "source": [
    "PCA_df = []\n",
    "pca = PCA()\n",
    "for \n",
    "X_pca = pca.fit(X_std)"
   ]
  },
  {
   "cell_type": "code",
   "execution_count": 9,
   "id": "542aedb3-8820-45d8-84ec-aac7e5ee4e40",
=======
   "execution_count": 70,
   "id": "616fecc7",
>>>>>>> Stashed changes
   "metadata": {},
   "outputs": [
    {
     "name": "stdout",
     "output_type": "stream",
     "text": [
      "On iteration  0 at  2024-08-13 14:13:01.881086\n",
      "On iteration  500 at  2024-08-13 14:13:07.358321\n",
      "On iteration  1000 at  2024-08-13 14:13:19.871676\n",
      "On iteration  1500 at  2024-08-13 14:13:41.872060\n",
      "On iteration  2000 at  2024-08-13 14:14:13.291042\n",
      "On iteration  2500 at  2024-08-13 14:14:54.636592\n",
      "On iteration  3000 at  2024-08-13 14:15:43.617060\n",
      "On iteration  3500 at  2024-08-13 14:16:42.194043\n",
      "On iteration  4000 at  2024-08-13 14:17:50.475680\n",
      "On iteration  4500 at  2024-08-13 14:19:08.697408\n",
      "On iteration  5000 at  2024-08-13 14:20:31.784542\n",
      "On iteration  5500 at  2024-08-13 14:22:03.608247\n",
      "On iteration  6000 at  2024-08-13 14:23:46.303517\n"
     ]
    },
    {
     "ename": "KeyboardInterrupt",
     "evalue": "",
     "output_type": "error",
     "traceback": [
      "\u001b[0;31m---------------------------------------------------------------------------\u001b[0m",
      "\u001b[0;31mKeyboardInterrupt\u001b[0m                         Traceback (most recent call last)",
      "Cell \u001b[0;32mIn[70], line 13\u001b[0m\n\u001b[1;32m     11\u001b[0m sample_PCA \u001b[38;5;241m=\u001b[39m pca\u001b[38;5;241m.\u001b[39mfit_transform(sample)\n\u001b[1;32m     12\u001b[0m sample_PCA_std \u001b[38;5;241m=\u001b[39m pca\u001b[38;5;241m.\u001b[39mfit_transform(sample_std)\n\u001b[0;32m---> 13\u001b[0m bank_reserves_PCA \u001b[38;5;241m=\u001b[39m \u001b[43mpd\u001b[49m\u001b[38;5;241;43m.\u001b[39;49m\u001b[43mconcat\u001b[49m\u001b[43m(\u001b[49m\u001b[43m[\u001b[49m\u001b[43mbank_reserves_PCA\u001b[49m\u001b[43m,\u001b[49m\u001b[43m \u001b[49m\u001b[43m(\u001b[49m\u001b[43mpd\u001b[49m\u001b[38;5;241;43m.\u001b[39;49m\u001b[43mSeries\u001b[49m\u001b[43m(\u001b[49m\u001b[43msample_PCA\u001b[49m\u001b[43m[\u001b[49m\u001b[38;5;241;43m0\u001b[39;49m\u001b[43m:\u001b[49m\u001b[38;5;241;43m9\u001b[39;49m\u001b[43m]\u001b[49m\u001b[38;5;241;43m.\u001b[39;49m\u001b[43mflatten\u001b[49m\u001b[43m(\u001b[49m\u001b[43m)\u001b[49m\u001b[43m)\u001b[49m\u001b[43m)\u001b[49m\u001b[43m]\u001b[49m\u001b[43m,\u001b[49m\u001b[43m \u001b[49m\u001b[43maxis\u001b[49m\u001b[38;5;241;43m=\u001b[39;49m\u001b[38;5;241;43m1\u001b[39;49m\u001b[43m)\u001b[49m\n\u001b[1;32m     14\u001b[0m bank_reserves_PCA_std \u001b[38;5;241m=\u001b[39m pd\u001b[38;5;241m.\u001b[39mconcat([bank_reserves_PCA_std, (pd\u001b[38;5;241m.\u001b[39mSeries(sample_PCA_std[\u001b[38;5;241m0\u001b[39m:\u001b[38;5;241m9\u001b[39m]\u001b[38;5;241m.\u001b[39mflatten()))], axis\u001b[38;5;241m=\u001b[39m\u001b[38;5;241m1\u001b[39m)\n",
      "File \u001b[0;32m~/anaconda3/lib/python3.10/site-packages/pandas/util/_decorators.py:331\u001b[0m, in \u001b[0;36mdeprecate_nonkeyword_arguments.<locals>.decorate.<locals>.wrapper\u001b[0;34m(*args, **kwargs)\u001b[0m\n\u001b[1;32m    325\u001b[0m \u001b[38;5;28;01mif\u001b[39;00m \u001b[38;5;28mlen\u001b[39m(args) \u001b[38;5;241m>\u001b[39m num_allow_args:\n\u001b[1;32m    326\u001b[0m     warnings\u001b[38;5;241m.\u001b[39mwarn(\n\u001b[1;32m    327\u001b[0m         msg\u001b[38;5;241m.\u001b[39mformat(arguments\u001b[38;5;241m=\u001b[39m_format_argument_list(allow_args)),\n\u001b[1;32m    328\u001b[0m         \u001b[38;5;167;01mFutureWarning\u001b[39;00m,\n\u001b[1;32m    329\u001b[0m         stacklevel\u001b[38;5;241m=\u001b[39mfind_stack_level(),\n\u001b[1;32m    330\u001b[0m     )\n\u001b[0;32m--> 331\u001b[0m \u001b[38;5;28;01mreturn\u001b[39;00m \u001b[43mfunc\u001b[49m\u001b[43m(\u001b[49m\u001b[38;5;241;43m*\u001b[39;49m\u001b[43margs\u001b[49m\u001b[43m,\u001b[49m\u001b[43m \u001b[49m\u001b[38;5;241;43m*\u001b[39;49m\u001b[38;5;241;43m*\u001b[39;49m\u001b[43mkwargs\u001b[49m\u001b[43m)\u001b[49m\n",
      "File \u001b[0;32m~/anaconda3/lib/python3.10/site-packages/pandas/core/reshape/concat.py:381\u001b[0m, in \u001b[0;36mconcat\u001b[0;34m(objs, axis, join, ignore_index, keys, levels, names, verify_integrity, sort, copy)\u001b[0m\n\u001b[1;32m    159\u001b[0m \u001b[38;5;124;03m\"\"\"\u001b[39;00m\n\u001b[1;32m    160\u001b[0m \u001b[38;5;124;03mConcatenate pandas objects along a particular axis.\u001b[39;00m\n\u001b[1;32m    161\u001b[0m \n\u001b[0;32m   (...)\u001b[0m\n\u001b[1;32m    366\u001b[0m \u001b[38;5;124;03m1   3   4\u001b[39;00m\n\u001b[1;32m    367\u001b[0m \u001b[38;5;124;03m\"\"\"\u001b[39;00m\n\u001b[1;32m    368\u001b[0m op \u001b[38;5;241m=\u001b[39m _Concatenator(\n\u001b[1;32m    369\u001b[0m     objs,\n\u001b[1;32m    370\u001b[0m     axis\u001b[38;5;241m=\u001b[39maxis,\n\u001b[0;32m   (...)\u001b[0m\n\u001b[1;32m    378\u001b[0m     sort\u001b[38;5;241m=\u001b[39msort,\n\u001b[1;32m    379\u001b[0m )\n\u001b[0;32m--> 381\u001b[0m \u001b[38;5;28;01mreturn\u001b[39;00m \u001b[43mop\u001b[49m\u001b[38;5;241;43m.\u001b[39;49m\u001b[43mget_result\u001b[49m\u001b[43m(\u001b[49m\u001b[43m)\u001b[49m\n",
      "File \u001b[0;32m~/anaconda3/lib/python3.10/site-packages/pandas/core/reshape/concat.py:616\u001b[0m, in \u001b[0;36m_Concatenator.get_result\u001b[0;34m(self)\u001b[0m\n\u001b[1;32m    612\u001b[0m             indexers[ax] \u001b[38;5;241m=\u001b[39m obj_labels\u001b[38;5;241m.\u001b[39mget_indexer(new_labels)\n\u001b[1;32m    614\u001b[0m     mgrs_indexers\u001b[38;5;241m.\u001b[39mappend((obj\u001b[38;5;241m.\u001b[39m_mgr, indexers))\n\u001b[0;32m--> 616\u001b[0m new_data \u001b[38;5;241m=\u001b[39m \u001b[43mconcatenate_managers\u001b[49m\u001b[43m(\u001b[49m\n\u001b[1;32m    617\u001b[0m \u001b[43m    \u001b[49m\u001b[43mmgrs_indexers\u001b[49m\u001b[43m,\u001b[49m\u001b[43m \u001b[49m\u001b[38;5;28;43mself\u001b[39;49m\u001b[38;5;241;43m.\u001b[39;49m\u001b[43mnew_axes\u001b[49m\u001b[43m,\u001b[49m\u001b[43m \u001b[49m\u001b[43mconcat_axis\u001b[49m\u001b[38;5;241;43m=\u001b[39;49m\u001b[38;5;28;43mself\u001b[39;49m\u001b[38;5;241;43m.\u001b[39;49m\u001b[43mbm_axis\u001b[49m\u001b[43m,\u001b[49m\u001b[43m \u001b[49m\u001b[43mcopy\u001b[49m\u001b[38;5;241;43m=\u001b[39;49m\u001b[38;5;28;43mself\u001b[39;49m\u001b[38;5;241;43m.\u001b[39;49m\u001b[43mcopy\u001b[49m\n\u001b[1;32m    618\u001b[0m \u001b[43m\u001b[49m\u001b[43m)\u001b[49m\n\u001b[1;32m    619\u001b[0m \u001b[38;5;28;01mif\u001b[39;00m \u001b[38;5;129;01mnot\u001b[39;00m \u001b[38;5;28mself\u001b[39m\u001b[38;5;241m.\u001b[39mcopy:\n\u001b[1;32m    620\u001b[0m     new_data\u001b[38;5;241m.\u001b[39m_consolidate_inplace()\n",
      "File \u001b[0;32m~/anaconda3/lib/python3.10/site-packages/pandas/core/internals/concat.py:199\u001b[0m, in \u001b[0;36mconcatenate_managers\u001b[0;34m(mgrs_indexers, axes, concat_axis, copy)\u001b[0m\n\u001b[1;32m    195\u001b[0m     \u001b[38;5;28;01mreturn\u001b[39;00m _concatenate_array_managers(mgrs_indexers, axes, concat_axis, copy)\n\u001b[1;32m    197\u001b[0m mgrs_indexers \u001b[38;5;241m=\u001b[39m _maybe_reindex_columns_na_proxy(axes, mgrs_indexers)\n\u001b[0;32m--> 199\u001b[0m concat_plans \u001b[38;5;241m=\u001b[39m [\n\u001b[1;32m    200\u001b[0m     _get_mgr_concatenation_plan(mgr, indexers) \u001b[38;5;28;01mfor\u001b[39;00m mgr, indexers \u001b[38;5;129;01min\u001b[39;00m mgrs_indexers\n\u001b[1;32m    201\u001b[0m ]\n\u001b[1;32m    202\u001b[0m concat_plan \u001b[38;5;241m=\u001b[39m _combine_concat_plans(concat_plans, concat_axis)\n\u001b[1;32m    203\u001b[0m blocks \u001b[38;5;241m=\u001b[39m []\n",
      "File \u001b[0;32m~/anaconda3/lib/python3.10/site-packages/pandas/core/internals/concat.py:200\u001b[0m, in \u001b[0;36m<listcomp>\u001b[0;34m(.0)\u001b[0m\n\u001b[1;32m    195\u001b[0m     \u001b[38;5;28;01mreturn\u001b[39;00m _concatenate_array_managers(mgrs_indexers, axes, concat_axis, copy)\n\u001b[1;32m    197\u001b[0m mgrs_indexers \u001b[38;5;241m=\u001b[39m _maybe_reindex_columns_na_proxy(axes, mgrs_indexers)\n\u001b[1;32m    199\u001b[0m concat_plans \u001b[38;5;241m=\u001b[39m [\n\u001b[0;32m--> 200\u001b[0m     \u001b[43m_get_mgr_concatenation_plan\u001b[49m\u001b[43m(\u001b[49m\u001b[43mmgr\u001b[49m\u001b[43m,\u001b[49m\u001b[43m \u001b[49m\u001b[43mindexers\u001b[49m\u001b[43m)\u001b[49m \u001b[38;5;28;01mfor\u001b[39;00m mgr, indexers \u001b[38;5;129;01min\u001b[39;00m mgrs_indexers\n\u001b[1;32m    201\u001b[0m ]\n\u001b[1;32m    202\u001b[0m concat_plan \u001b[38;5;241m=\u001b[39m _combine_concat_plans(concat_plans, concat_axis)\n\u001b[1;32m    203\u001b[0m blocks \u001b[38;5;241m=\u001b[39m []\n",
      "File \u001b[0;32m~/anaconda3/lib/python3.10/site-packages/pandas/core/internals/concat.py:311\u001b[0m, in \u001b[0;36m_get_mgr_concatenation_plan\u001b[0;34m(mgr, indexers)\u001b[0m\n\u001b[1;32m    308\u001b[0m plan \u001b[38;5;241m=\u001b[39m []\n\u001b[1;32m    309\u001b[0m \u001b[38;5;28;01mfor\u001b[39;00m blkno, placements \u001b[38;5;129;01min\u001b[39;00m libinternals\u001b[38;5;241m.\u001b[39mget_blkno_placements(blknos, group\u001b[38;5;241m=\u001b[39m\u001b[38;5;28;01mFalse\u001b[39;00m):\n\u001b[0;32m--> 311\u001b[0m     \u001b[38;5;28;01massert\u001b[39;00m placements\u001b[38;5;241m.\u001b[39mis_slice_like\n\u001b[1;32m    312\u001b[0m     \u001b[38;5;28;01massert\u001b[39;00m blkno \u001b[38;5;241m!=\u001b[39m \u001b[38;5;241m-\u001b[39m\u001b[38;5;241m1\u001b[39m\n\u001b[1;32m    314\u001b[0m     join_unit_indexers \u001b[38;5;241m=\u001b[39m indexers\u001b[38;5;241m.\u001b[39mcopy()\n",
      "\u001b[0;31mKeyboardInterrupt\u001b[0m: "
     ]
    }
   ],
   "source": [
    "sc = StandardScaler()\n",
    "pca = PCA()\n",
    "bank_reserves_PCA = pd.DataFrame()\n",
    "bank_reserves_PCA_std = pd.DataFrame()\n",
    "for i in np.arange(0, poor.shape[0]):\n",
    "    if(i % 500==0):\n",
    "        print(\"On iteration \", i, \"at \", datetime.datetime.now())\n",
    "    sample = pd.concat((poor.iloc[i], middle.iloc[i]), axis=1)\n",
    "    sample = pd.concat((sample, rich.iloc[i]), axis=1)\n",
    "    sample_std = sc.fit_transform(sample)\n",
    "    sample_PCA = pca.fit_transform(sample)\n",
    "    sample_PCA_std = pca.fit_transform(sample_std)\n",
    "    bank_reserves_PCA = pd.concat([bank_reserves_PCA, (pd.Series(sample_PCA[0:9].flatten()))], axis=1)\n",
    "    bank_reserves_PCA_std = pd.concat([bank_reserves_PCA_std, (pd.Series(sample_PCA_std[0:9].flatten()))], axis=1)"
   ]
  },
  {
   "cell_type": "code",
   "execution_count": 65,
   "id": "04e086e2",
   "metadata": {},
   "outputs": [
    {
     "data": {
      "text/plain": [
       "101"
      ]
     },
     "execution_count": 65,
     "metadata": {},
     "output_type": "execute_result"
    }
   ],
   "source": [
    "bank_reserves_PCA.to_csv('bank_reserves_PCA.csv')\n",
    "bank_reserves_PCA_std.to_csv('bank_reserves_PCA_standardized.csv')"
   ]
  },
  {
   "cell_type": "markdown",
   "id": "79389257-93eb-43a8-be2e-2a030124ec46",
   "metadata": {},
   "source": [
    "# Discrete wavelet transformation"
   ]
  },
  {
   "cell_type": "code",
   "execution_count": null,
   "id": "5ee78ce7-f6a2-4800-a904-bba396f16a93",
   "metadata": {},
   "outputs": [],
   "source": [
    "sc = StandardScaler()\n",
    "\n",
    "bank_reserves_DWT = pd.DataFrame()\n",
    "bank_reserves_DWT_std = pd.DataFrame()\n",
    "for i in np.arange(0, poor.shape[0]):\n",
    "    if(i % 500==0):\n",
    "        print(\"On iteration \", i, \"at \", datetime.datetime.now())\n",
    "    sample = pd.concat((poor.iloc[i], middle.iloc[i]), axis=1)\n",
    "    sample = pd.concat((sample, rich.iloc[i]), axis=1)\n",
    "    sample_std = sc.fit_transform(sample)\n",
    "    sample_DWT = pca.fit_transform(sample)\n",
    "    sample_DWT_std = pca.fit_transform(sample_std)\n",
    "    bank_reserves_DWT = pd.concat([bank_reserves_DWT, (pd.Series(sample_DWT[0:9].flatten()))], axis=1)\n",
    "    bank_reserves_DWT_std = pd.concat([bank_reserves_DWT_std, (pd.Series(sample_DWT_std[0:9].flatten()))], axis=1)"
   ]
  },
  {
   "cell_type": "markdown",
   "id": "99c184bc-b8ba-40a6-b8ca-2f990ddec9d4",
   "metadata": {},
   "source": [
    "# Discrete Fourier transformation"
   ]
  },
  {
   "cell_type": "code",
   "execution_count": null,
   "id": "46612b95-4af5-473c-8ec2-1b3310f1b4f9",
   "metadata": {},
   "outputs": [],
   "source": [
    "sc = StandardScaler()\n",
    "\n",
    "bank_reserves_DFT = pd.DataFrame()\n",
    "bank_reserves_DFT_std = pd.DataFrame()\n",
    "for i in np.arange(0, poor.shape[0]):\n",
    "    sample = pd.concat((poor.iloc[i], middle.iloc[i]), axis=1)\n",
    "    sample = pd.concat((sample, rich.iloc[i]), axis=1)\n",
    "    sample_std = sc.fit_transform(sample)\n",
    "    sample_DFT = np.fft.fftn(sample)\n",
    "    sample_DFT_std = np.fft.fftn(sample_std)\n",
    "    bank_reserves_DFT = pd.concat([bank_reserves_DFT, (pd.Series(sample_DFT[0:9].flatten()))], axis=1)\n",
    "    bank_reserves_DFT_std = pd.concat([bank_reserves_DFT_std, (pd.Series(sample_DFT_std[0:9].flatten()))], axis=1)"
   ]
  },
  {
   "cell_type": "markdown",
   "id": "46a76853-4721-4497-9dd8-41e4285bbc39",
   "metadata": {},
   "source": [
    "# ARMA"
   ]
  },
  {
   "cell_type": "code",
   "execution_count": null,
   "id": "87083766-82b6-4922-8bb0-994307df43e6",
   "metadata": {},
   "outputs": [],
   "source": [
    "sc = StandardScaler()\n",
    "\n",
    "bank_reserves_ARMA = pd.DataFrame()\n",
    "bank_reserves_ARMA_std = pd.DataFrame()\n",
    "for i in np.arange(0, poor.shape[0]):\n",
    "    sample = pd.concat((poor.iloc[i], middle.iloc[i]), axis=1)\n",
    "    sample = pd.concat((sample, rich.iloc[i]), axis=1)\n",
    "    sample_std = sc.fit_transform(sample)\n",
    "    sample_ARMA = np.fft.fftn(sample)\n",
    "    sample_ARMA_std = np.fft.fftn(sample_std)\n",
    "    bank_reserves_ARMA = pd.concat([bank_reserves_ARMA, (pd.Series(sample_ARMA[0:9].flatten()))], axis=1)\n",
    "    bank_reserves_ARMA_std = pd.concat([bank_reserves_ARMA_std, (pd.Series(sample_ARMA_std[0:9].flatten()))], axis=1)"
   ]
  },
  {
   "cell_type": "markdown",
   "id": "21bef71d",
   "metadata": {},
   "source": [
    "# HMM"
   ]
  },
  {
   "cell_type": "code",
   "execution_count": null,
   "id": "c13b0296",
   "metadata": {},
   "outputs": [],
   "source": [
    "sc = StandardScaler()\n",
    "\n",
    "bank_reserves_HMM = pd.DataFrame()\n",
    "bank_reserves_HMM_std = pd.DataFrame()\n",
    "for i in np.arange(0, poor.shape[0]):\n",
    "    sample = pd.concat((poor.iloc[i], middle.iloc[i]), axis=1)\n",
    "    sample = pd.concat((sample, rich.iloc[i]), axis=1)\n",
    "    sample_std = sc.fit_transform(sample)\n",
    "    sample_HMM = np.fft.fftn(sample)\n",
    "    sample_HMM_std = np.fft.fftn(sample_std)\n",
    "    bank_reserves_HMM = pd.concat([bank_reserves_HMM, (pd.Series(sample_HMM[0:9].flatten()))], axis=1)\n",
    "    bank_reserves_HMM_std = pd.concat([bank_reserves_HMM_std, (pd.Series(sample_HMM_std[0:9].flatten()))], axis=1)"
   ]
  }
 ],
 "metadata": {
  "kernelspec": {
   "display_name": "Python 3 (ipykernel)",
   "language": "python",
   "name": "python3"
  },
  "language_info": {
   "codemirror_mode": {
    "name": "ipython",
    "version": 3
   },
   "file_extension": ".py",
   "mimetype": "text/x-python",
   "name": "python",
   "nbconvert_exporter": "python",
   "pygments_lexer": "ipython3",
   "version": "3.10.9"
  }
 },
 "nbformat": 4,
 "nbformat_minor": 5
}
